{
 "cells": [
  {
   "cell_type": "markdown",
   "metadata": {},
   "source": [
    "### Introduction to Neural Network classification\n",
    "\n",
    "+ A classification is where you try to classify something as one thing or another.\n",
    "+ Few types of classification problems are :\n",
    "    + Binary Classification\n",
    "    + Multiclass Classification\n",
    "    + Multilabel Classification"
   ]
  },
  {
   "cell_type": "markdown",
   "metadata": {},
   "source": [
    "#### Create data to view and fit."
   ]
  },
  {
   "cell_type": "code",
   "execution_count": null,
   "metadata": {},
   "outputs": [],
   "source": [
    "from sklearn.datasets import make_circles"
   ]
  },
  {
   "cell_type": "code",
   "execution_count": null,
   "metadata": {},
   "outputs": [],
   "source": [
    "n_samples = 1000\n",
    "X,y=make_circles(\n",
    "    n_samples,\n",
    "    noise=0.03,\n",
    "    random_state=42\n",
    ")\n"
   ]
  },
  {
   "cell_type": "code",
   "execution_count": null,
   "metadata": {},
   "outputs": [],
   "source": [
    "import pandas as pd"
   ]
  },
  {
   "cell_type": "code",
   "execution_count": null,
   "metadata": {},
   "outputs": [],
   "source": [
    "circles = pd.DataFrame({\n",
    "    \"X0\":X[:,0],\n",
    "    \"X1\":X[:,1],\n",
    "    \"label\":y\n",
    "})\n",
    "circles"
   ]
  },
  {
   "cell_type": "markdown",
   "metadata": {},
   "source": [
    "Visualize with a plot\n"
   ]
  },
  {
   "cell_type": "code",
   "execution_count": null,
   "metadata": {},
   "outputs": [],
   "source": [
    "import matplotlib.pyplot as plt\n",
    "\n",
    "plt.scatter(X[:, 0], X[:, 1], c=y, cmap=plt.cm.RdYlBu);\n"
   ]
  },
  {
   "cell_type": "markdown",
   "metadata": {},
   "source": [
    "### Input and output shape of data\n"
   ]
  },
  {
   "cell_type": "code",
   "execution_count": null,
   "metadata": {},
   "outputs": [],
   "source": [
    "X.shape, y.shape"
   ]
  },
  {
   "cell_type": "code",
   "execution_count": null,
   "metadata": {},
   "outputs": [],
   "source": [
    "import tensorflow as tf\n"
   ]
  },
  {
   "cell_type": "code",
   "execution_count": null,
   "metadata": {},
   "outputs": [],
   "source": [
    "## Steps in modelling\n",
    "\n",
    "## Creare a model\n",
    "tf.random.set_seed(42)\n",
    "model_1 = tf.keras.Sequential(\n",
    "    tf.keras.layers.Dense(1)\n",
    ")\n",
    "\n",
    "model_1.compile(\n",
    "    loss=tf.keras.losses.BinaryCrossentropy(),\n",
    "    optimizer=tf.keras.optimizers.SGD(),\n",
    "    metrics=['accuracy']\n",
    ")\n",
    "\n",
    "model_1.fit(X,y,epochs=5)"
   ]
  },
  {
   "cell_type": "code",
   "execution_count": null,
   "metadata": {},
   "outputs": [],
   "source": [
    "## Let's train for long\n",
    "model_1.fit(X,y,epochs=200,verbose=0)\n",
    "model_1.evaluate(X,y)"
   ]
  },
  {
   "cell_type": "code",
   "execution_count": null,
   "metadata": {},
   "outputs": [],
   "source": [
    "X[0].shape"
   ]
  },
  {
   "cell_type": "code",
   "execution_count": null,
   "metadata": {},
   "outputs": [],
   "source": [
    "# # Set the random seed\n",
    "# tf.random.set_seed(42)\n",
    "\n",
    "# model_2 = tf.keras.Sequential(\n",
    "#     tf.keras.layers.Dense(1),\n",
    "#     tf.keras.layers.Dense(1)\n",
    "# )\n",
    "\n",
    "# model_2.compile(\n",
    "#     loss=tf.keras.losses.BinaryCrossentropy(),\n",
    "#     optimizer=tf.keras.optimizers.SGD(),\n",
    "#     metrics=['accuracy']\n",
    "# )\n",
    "\n",
    "# model_2.fit(X, y, epochs=100, verbose=0)\n"
   ]
  },
  {
   "cell_type": "markdown",
   "metadata": {},
   "source": [
    "### Improving a model\n",
    "\n",
    "+ Create a model - Add more layers | Increase number of hidden layers\n",
    "\n",
    "+ Compiling a model - Choose a different optimization function(Adam) | \n",
    "+ Fitting a model - Fit our model for longer\n"
   ]
  },
  {
   "cell_type": "code",
   "execution_count": null,
   "metadata": {},
   "outputs": [],
   "source": [
    "tf.random.set_seed(42)\n",
    "\n",
    "model_3 = tf.keras.Sequential([\n",
    "    tf.keras.layers.Dense(100),\n",
    "    tf.keras.layers.Dense(10),\n",
    "    tf.keras.layers.Dense(1)\n",
    "])\n",
    "\n",
    "model_3.compile(loss=tf.keras.losses.BinaryCrossentropy(),\n",
    "                optimizer=tf.keras.optimizers.Adam(),\n",
    "                metrics=['accuracy'])\n",
    "\n",
    "model_3.fit(X,y,epochs=100,verbose=0)\n",
    "\n",
    "\n"
   ]
  },
  {
   "cell_type": "code",
   "execution_count": null,
   "metadata": {},
   "outputs": [],
   "source": [
    "model_3.evaluate(X,y)"
   ]
  },
  {
   "cell_type": "markdown",
   "metadata": {},
   "source": [
    "Create a mesh-grid of different X Values\n",
    "+ Plot prediction as well as line between different zones"
   ]
  },
  {
   "cell_type": "code",
   "execution_count": null,
   "metadata": {},
   "outputs": [],
   "source": [
    "import numpy as np\n",
    "import matplotlib.pyplot as plt"
   ]
  },
  {
   "cell_type": "code",
   "execution_count": null,
   "metadata": {},
   "outputs": [],
   "source": [
    "def plot_decision_boundary(model, X, y):\n",
    "    x_min, x_max = X[:, 0].min()-0.1, X[:, 0].max()+0.1\n",
    "    y_min, y_max = X[:, 1].min()-0.1, X[:, 1].max()+0.1\n",
    "\n",
    "    xx, yy = np.meshgrid(np.linspace(x_min, x_max, 100),\n",
    "                         np.linspace(y_min, y_max, 100))\n",
    "\n",
    "    x_in = np.c_[(xx.ravel(), yy.ravel())]\n",
    "\n",
    "    y_pred = model.predict(x_in)\n",
    "\n",
    "    if len(y_pred[0]) > 1:\n",
    "        print('Doing multi-class')\n",
    "        y_pred = np.argmax(y_pred, axis=1).reshape(xx.shape)\n",
    "    else:\n",
    "        print('Doing binary classification')\n",
    "        y_pred = np.round(y_pred).reshape(xx.shape)\n",
    "\n",
    "    plt.contourf(xx, yy, y_pred, cmap=plt.cm.RdYlBu,alpha=0.7)\n",
    "    plt.scatter(X[:,0],X[:,1],c=y,s=40,cmap=plt.cm.RdYlBu)\n",
    "    plt.xlim(xx.min(),xx.max())\n",
    "    plt.ylim(yy.min(),yy.max())\n"
   ]
  },
  {
   "cell_type": "code",
   "execution_count": null,
   "metadata": {},
   "outputs": [],
   "source": [
    "plot_decision_boundary(model=model_3,X=X,y=y)"
   ]
  },
  {
   "cell_type": "code",
   "execution_count": null,
   "metadata": {},
   "outputs": [],
   "source": [
    "tf.random.set_seed(42)\n",
    "\n",
    "x_reg = tf.range(0,1000,5)\n",
    "y_reg = tf.range(100,1100,5)\n",
    "x_reg_train = x_reg[:150]\n",
    "x_reg_test = x_reg[150:]\n",
    "\n",
    "y_reg_train = y_reg[:150]\n",
    "y_reg_test = y_reg[150:]"
   ]
  },
  {
   "cell_type": "code",
   "execution_count": null,
   "metadata": {},
   "outputs": [],
   "source": [
    "x_reg_train.shape"
   ]
  },
  {
   "cell_type": "code",
   "execution_count": null,
   "metadata": {},
   "outputs": [],
   "source": [
    "# model_3.fit(x_reg_train,y_reg_train,epochs=100)"
   ]
  },
  {
   "cell_type": "code",
   "execution_count": null,
   "metadata": {},
   "outputs": [],
   "source": [
    "# Setup random seed\n",
    "tf.random.set_seed(42)\n",
    "\n",
    "# Recreate the model\n",
    "model_3 = tf.keras.Sequential([\n",
    "  tf.keras.layers.Dense(100),\n",
    "  tf.keras.layers.Dense(10),\n",
    "  tf.keras.layers.Dense(1)\n",
    "])\n",
    "\n",
    "# Change the loss and metrics of our compiled model\n",
    "model_3.compile(loss=tf.keras.losses.mae, # change the loss function to be regression-specific\n",
    "                optimizer=tf.keras.optimizers.Adam(),\n",
    "                metrics=['mae']) # change the metric to be regression-specific\n",
    "\n",
    "# Fit the recompiled model\n",
    "model_3.fit(tf.expand_dims(x_reg_train, axis=-1), \n",
    "            y_reg_train, \n",
    "            epochs=100, verbose=0)"
   ]
  },
  {
   "cell_type": "code",
   "execution_count": null,
   "metadata": {},
   "outputs": [],
   "source": [
    "y_reg_pred = model_3.predict(x_reg_test)\n",
    "\n",
    "\n",
    "plt.figure(figsize=(10,7))\n",
    "plt.scatter(x_reg_train,y_reg_train,c=\"b\",label=\"Training Data\")\n",
    "plt.scatter(x_reg_test,y_reg_test,c=\"g\",label=\"Test Data\")\n",
    "plt.scatter(x_reg_test,y_reg_pred,c='r',label=\"Predictions\")\n",
    "plt.legend();\n"
   ]
  },
  {
   "cell_type": "markdown",
   "metadata": {},
   "source": [
    " Classification model fails because of Non-linearity | "
   ]
  },
  {
   "cell_type": "code",
   "execution_count": null,
   "metadata": {},
   "outputs": [],
   "source": [
    "tf.random.set_seed(42)\n",
    "\n",
    "model_4 = tf.keras.Sequential([\n",
    "    tf.keras.layers.Dense(1, activation=tf.keras.activations.linear)\n",
    "])\n",
    "\n",
    "model_4.compile(loss=tf.keras.losses.BinaryCrossentropy(),\n",
    "                optimizer=tf.keras.optimizers.Adam(learning_rate=0.001),\n",
    "                metrics=['accuracy'])\n",
    "\n",
    "history = model_4.fit(X,y,epochs=100,verbose=0)"
   ]
  },
  {
   "cell_type": "code",
   "execution_count": null,
   "metadata": {},
   "outputs": [],
   "source": [
    "model_4.evaluate(X,y)"
   ]
  },
  {
   "cell_type": "code",
   "execution_count": null,
   "metadata": {},
   "outputs": [],
   "source": [
    "plt.scatter(X[:, 0], X[:, 1], c=y, cmap=plt.cm.RdYlBu)\n"
   ]
  },
  {
   "cell_type": "code",
   "execution_count": null,
   "metadata": {},
   "outputs": [],
   "source": [
    "plot_decision_boundary(model=model_4,X=X,y=y)"
   ]
  },
  {
   "cell_type": "markdown",
   "metadata": {},
   "source": [
    "### Let's try build out first neural network with non linearity"
   ]
  },
  {
   "cell_type": "code",
   "execution_count": null,
   "metadata": {},
   "outputs": [],
   "source": [
    "tf.random.set_seed(42)\n",
    "\n",
    "model_5 = tf.keras.Sequential([\n",
    "    tf.keras.layers.Dense(1, activation=tf.keras.activations.relu)\n",
    "])\n",
    "\n",
    "model_5.compile(loss=tf.keras.losses.BinaryCrossentropy(),\n",
    "optimizer=tf.keras.optimizers.Adam(lr=0.001),\n",
    "metrics=['accuracy'])\n",
    "\n",
    "history = model_5.fit(X,y,epochs=100,verbose=0)"
   ]
  },
  {
   "cell_type": "code",
   "execution_count": null,
   "metadata": {},
   "outputs": [],
   "source": [
    "plot_decision_boundary(model=model_5,X=X,y=y);"
   ]
  },
  {
   "cell_type": "markdown",
   "metadata": {},
   "source": [
    "### Another model with more hidden layer and neurons"
   ]
  },
  {
   "cell_type": "code",
   "execution_count": null,
   "metadata": {},
   "outputs": [],
   "source": [
    "tf.random.set_seed(42)\n",
    "\n",
    "model_6 = tf.keras.Sequential([\n",
    "    tf.keras.layers.Dense(4,activation=tf.keras.activations.relu),\n",
    "    tf.keras.layers.Dense(4, activation=tf.keras.activations.relu),\n",
    "])\n",
    "\n",
    "model_6.compile(loss=tf.keras.losses.BinaryCrossentropy(),\n",
    "optimizer=tf.keras.optimizers.Adam(learning_rate=0.001),metrics=['accuracy'])\n",
    "\n",
    "history = model_6.fit(X,y,epochs=250, verbose=0)"
   ]
  },
  {
   "cell_type": "code",
   "execution_count": null,
   "metadata": {},
   "outputs": [],
   "source": [
    "model_6.evaluate(X,y)"
   ]
  },
  {
   "cell_type": "code",
   "execution_count": null,
   "metadata": {},
   "outputs": [],
   "source": [
    "plot_decision_boundary(model=model_6,X=X,y=y);"
   ]
  },
  {
   "cell_type": "markdown",
   "metadata": {},
   "source": [
    "### Activation function for output layers"
   ]
  },
  {
   "cell_type": "code",
   "execution_count": null,
   "metadata": {},
   "outputs": [],
   "source": [
    "tf.random.set_seed(42)\n",
    "\n",
    "model_7 = tf.keras.Sequential([\n",
    "    tf.keras.layers.Dense(4, activation='relu'),\n",
    "    tf.keras.layers.Dense(4, activation='relu'),\n",
    "    tf.keras.layers.Dense(1, activation='sigmoid')\n",
    "])\n",
    "\n",
    "model_7.compile(loss=tf.keras.losses.BinaryCrossentropy(),\n",
    "                optimizer=tf.keras.optimizers.Adam(learning_rate=0.001), metrics=['accuracy'])\n",
    "\n",
    "history = model_7.fit(X,y,epochs=100)"
   ]
  },
  {
   "cell_type": "code",
   "execution_count": null,
   "metadata": {},
   "outputs": [],
   "source": [
    "# Evaluate the model\n",
    "model_7.evaluate(X,y)"
   ]
  },
  {
   "cell_type": "code",
   "execution_count": null,
   "metadata": {},
   "outputs": [],
   "source": [
    "# Visualize\n",
    "\n",
    "plot_decision_boundary(model_7,X,y)"
   ]
  },
  {
   "cell_type": "markdown",
   "metadata": {},
   "source": [
    "A combination of linear and non linear function is one of the key fundamentals of neural networks."
   ]
  },
  {
   "cell_type": "markdown",
   "metadata": {},
   "source": [
    "Create a **Toy** tensors"
   ]
  },
  {
   "cell_type": "code",
   "execution_count": null,
   "metadata": {},
   "outputs": [],
   "source": [
    "A =tf.cast(tf.range(-10,10),tf.float32)\n",
    "A"
   ]
  },
  {
   "cell_type": "code",
   "execution_count": null,
   "metadata": {},
   "outputs": [],
   "source": [
    "# Visualize\n",
    "plt.plot(A)"
   ]
  },
  {
   "cell_type": "code",
   "execution_count": null,
   "metadata": {},
   "outputs": [],
   "source": [
    "# Activation functions\n",
    "\n",
    "def sigmoid(x):\n",
    "    return 1/(1+tf.exp(-x))\n",
    "\n",
    "def relu(x):\n",
    "    return tf.maximum(0,x)\n",
    "\n",
    "def liner(x):\n",
    "    return tf.keras.activations.linear(x)"
   ]
  },
  {
   "cell_type": "code",
   "execution_count": null,
   "metadata": {},
   "outputs": [],
   "source": [
    "sigmod_function = sigmoid(A)\n",
    "plt.plot(sigmod_function)"
   ]
  },
  {
   "cell_type": "code",
   "execution_count": null,
   "metadata": {},
   "outputs": [],
   "source": [
    "relu_function = relu(A)\n",
    "plt.plot(relu_function)"
   ]
  },
  {
   "cell_type": "code",
   "execution_count": null,
   "metadata": {},
   "outputs": [],
   "source": [
    "linear_fun = liner(A)\n",
    "plt.plot(linear_fun)"
   ]
  },
  {
   "cell_type": "code",
   "execution_count": null,
   "metadata": {},
   "outputs": [],
   "source": [
    "A == liner(A)"
   ]
  },
  {
   "cell_type": "markdown",
   "metadata": {},
   "source": [
    "-------"
   ]
  },
  {
   "cell_type": "markdown",
   "metadata": {},
   "source": [
    "So far we have been testing and training on the same dataset. Now let's work on test and train dataset"
   ]
  },
  {
   "cell_type": "code",
   "execution_count": null,
   "metadata": {},
   "outputs": [],
   "source": [
    "# Evaluating and improving classification model\n",
    "#Split into train and test set\n",
    "\n",
    "X_train,y_train = X[:800],y[:800]\n",
    "X_test, y_test = X[800:],y[800:]\n",
    "X_train.shape,y_train.shape, X_test.shape,y_test.shape"
   ]
  },
  {
   "cell_type": "code",
   "execution_count": null,
   "metadata": {},
   "outputs": [],
   "source": [
    "tf.random.set_seed(42)\n",
    "\n",
    "model_8 = tf.keras.Sequential([\n",
    "    tf.keras.layers.Dense(4, activation=tf.keras.activations.relu),\n",
    "    tf.keras.layers.Dense(4, activation=tf.keras.activations.relu),\n",
    "    tf.keras.layers.Dense(1, activation=tf.keras.activations.sigmoid)\n",
    "])\n",
    "\n",
    "model_8.compile(\n",
    "    loss=tf.keras.losses.BinaryCrossentropy(),\n",
    "    optimizer=tf.keras.optimizers.Adam(learning_rate=0.01),\n",
    "    metrics=['accuracy']\n",
    ")\n",
    "\n",
    "hsitory2 = model_8.fit(X_train,y_train,epochs=25)\n"
   ]
  },
  {
   "cell_type": "code",
   "execution_count": null,
   "metadata": {},
   "outputs": [],
   "source": [
    "model_8.evaluate(X_test,y_test)"
   ]
  },
  {
   "cell_type": "code",
   "execution_count": null,
   "metadata": {},
   "outputs": [],
   "source": [
    "plt.figure(figsize=(12,6))\n",
    "plt.subplot(1,2,1)\n",
    "plt.title(\"Train Data\")\n",
    "plot_decision_boundary(model_8,X_train,y_train)\n",
    "plt.subplot(1,2,2)\n",
    "plt.title(\"Test Dataset\")\n",
    "plot_decision_boundary(model_8,X_test,y_test)"
   ]
  },
  {
   "cell_type": "code",
   "execution_count": null,
   "metadata": {},
   "outputs": [],
   "source": [
    "model_8.summary()"
   ]
  },
  {
   "cell_type": "markdown",
   "metadata": {},
   "source": [
    "Visualise using history"
   ]
  },
  {
   "cell_type": "code",
   "execution_count": null,
   "metadata": {},
   "outputs": [],
   "source": [
    "# Convert history obj into DataFrame\n",
    "pd.DataFrame(hsitory2.history).plot()"
   ]
  },
  {
   "cell_type": "markdown",
   "metadata": {},
   "source": [
    "🗝️ For many problems, loss function getting down means model is improving"
   ]
  },
  {
   "cell_type": "markdown",
   "metadata": {},
   "source": [
    "### Find ideal learning rate\n",
    "\n",
    "To find the ideal learning rate(the learning rate where the loss decrease the most during the training) we are going to use the following steps :\n",
    "\n",
    "+ This can be found using learning rate callback - Callback as an extra piece of functionality, one can add while training \n",
    "+ We need an another model\n",
    "+ Modified loss curved"
   ]
  },
  {
   "cell_type": "code",
   "execution_count": null,
   "metadata": {},
   "outputs": [],
   "source": [
    "# Set random seed\n",
    "\n",
    "tf.random.set_seed(42)\n",
    "\n",
    "model_9 = tf.keras.Sequential([\n",
    "    tf.keras.layers.Dense(4, activation=\"relu\"),\n",
    "    tf.keras.layers.Dense(4,activation=\"relu\"),\n",
    "    tf.keras.layers.Dense(1, activation=\"sigmoid\")\n",
    "])\n",
    "\n",
    "model_9.compile(\n",
    "    loss=tf.keras.losses.BinaryCrossentropy(),\n",
    "    optimizer=tf.keras.optimizers.Adam(),\n",
    "    metrics=['accuracy']\n",
    ")\n",
    "\n",
    "# Create a learning rate callback\n",
    "lr_scheduler = tf.keras.callbacks.LearningRateScheduler(lambda epochs:1e-4*10**(epochs/20))\n",
    "\n",
    "history = model_9.fit(X_train,y_train,epochs=100,verbose=0, callbacks=[lr_scheduler])\n"
   ]
  },
  {
   "cell_type": "code",
   "execution_count": null,
   "metadata": {},
   "outputs": [],
   "source": [
    "pd.DataFrame(history.history)"
   ]
  },
  {
   "cell_type": "code",
   "execution_count": null,
   "metadata": {},
   "outputs": [],
   "source": [
    "pd.DataFrame(history.history).plot(figsize=(10,7), xlabel='epochs', ylabel='learning_rate')"
   ]
  },
  {
   "cell_type": "code",
   "execution_count": null,
   "metadata": {},
   "outputs": [],
   "source": [
    "# Plot learning rate vs loss\n",
    "lrs = 1e-4*10**(tf.range(100)/20)\n",
    "len(lrs)"
   ]
  },
  {
   "cell_type": "code",
   "execution_count": null,
   "metadata": {},
   "outputs": [],
   "source": [
    "plt.figure(figsize=(10,7))\n",
    "plt.semilogx(lrs, history.history[\"loss\"])\n",
    "plt.xlabel('Learning rate')\n",
    "plt.ylabel('Loss')\n",
    "plt.title('Learning rate v/s Loss')"
   ]
  },
  {
   "cell_type": "markdown",
   "metadata": {},
   "source": [
    "Example of other typical learning rate values\n",
    "(1,0.1,0.01,0.001)"
   ]
  },
  {
   "cell_type": "markdown",
   "metadata": {},
   "source": [
    "### Training a model with ideal learning rate\n"
   ]
  },
  {
   "cell_type": "code",
   "execution_count": null,
   "metadata": {},
   "outputs": [],
   "source": [
    "# Learning rate 0.02\n",
    "\n",
    "tf.random.set_seed(42)\n",
    "\n",
    "model_10 = tf.keras.Sequential([\n",
    "    tf.keras.layers.Dense(4, activation=\"relu\"),\n",
    "    tf.keras.layers.Dense(4, activation=\"relu\"),\n",
    "    tf.keras.layers.Dense(1, activation=\"sigmoid\")\n",
    "])\n",
    "\n",
    "model_10.compile(\n",
    "    loss=tf.keras.losses.BinaryCrossentropy(),\n",
    "    optimizer=tf.keras.optimizers.Adam(learning_rate=0.02),\n",
    "    metrics=['accuracy']\n",
    ")\n",
    "\n",
    "history_10 = model_10.fit(X_train,y_train,epochs=20)"
   ]
  },
  {
   "cell_type": "code",
   "execution_count": null,
   "metadata": {},
   "outputs": [],
   "source": [
    "model_10.evaluate(X_test,y_test)"
   ]
  },
  {
   "cell_type": "code",
   "execution_count": null,
   "metadata": {},
   "outputs": [],
   "source": [
    "plt.figure(figsize=(12,6))\n",
    "plt.subplot(1,2,1)\n",
    "plot_decision_boundary(model_10, X_test,y_test);\n",
    "plt.title(\"Test Data\")\n",
    "plt.subplot(1,2,2)\n",
    "plot_decision_boundary(model_10,X_train,y_train);\n",
    "plt.title(\"Train Data\")\n"
   ]
  },
  {
   "cell_type": "markdown",
   "metadata": {},
   "source": [
    "#### More Classification Evalueation methods\n",
    "\n",
    "+ Accuracy\n",
    "+ Precision (high -> less false +ve)\n",
    "+ Recall (hihg -> less false -ve)\n",
    "+ F1-Score (good overall)\n",
    "+ Confusionn Metrics\n",
    "+ Classsification report from scikit learn"
   ]
  },
  {
   "cell_type": "code",
   "execution_count": 66,
   "metadata": {},
   "outputs": [
    {
     "name": "stdout",
     "output_type": "stream",
     "text": [
      "7/7 [==============================] - 0s 1ms/step - loss: 0.0627 - accuracy: 0.9950\n",
      "Loss: 0.06270373612642288\n",
      "Accuracy: 99.50%\n"
     ]
    }
   ],
   "source": [
    "# Check accuracy\n",
    "\n",
    "loss,accuracy  = model_10.evaluate(X_test,y_test)\n",
    "print(f\"Loss: {loss}\")\n",
    "print(f\"Accuracy: {(accuracy*100):.2f}%\")"
   ]
  },
  {
   "cell_type": "markdown",
   "metadata": {},
   "source": [
    "### Confusin Matrix"
   ]
  },
  {
   "cell_type": "code",
   "execution_count": 68,
   "metadata": {},
   "outputs": [
    {
     "name": "stdout",
     "output_type": "stream",
     "text": [
      "7/7 [==============================] - 0s 4ms/step\n"
     ]
    }
   ],
   "source": [
    "from sklearn.metrics import confusion_matrix\n",
    "\n",
    "y_pred = model_10.predict(X_test)"
   ]
  },
  {
   "cell_type": "code",
   "execution_count": 74,
   "metadata": {},
   "outputs": [],
   "source": [
    "# Convert prediction probabilities to binary format\n",
    "\n",
    "y_pred = tf.round(y_pred)\n"
   ]
  },
  {
   "cell_type": "code",
   "execution_count": 75,
   "metadata": {},
   "outputs": [
    {
     "data": {
      "text/plain": [
       "array([[100,   1],\n",
       "       [  0,  99]], dtype=int64)"
      ]
     },
     "execution_count": 75,
     "metadata": {},
     "output_type": "execute_result"
    }
   ],
   "source": [
    "confusion_matrix(y_test,y_pred)"
   ]
  },
  {
   "cell_type": "markdown",
   "metadata": {},
   "source": [
    "#### Prettify Confusion Matrix\n",
    "\n",
    "+ `plot_confusion_matrix` is the function used to pretiffy matrix"
   ]
  },
  {
   "cell_type": "code",
   "execution_count": 83,
   "metadata": {},
   "outputs": [
    {
     "data": {
      "image/png": "[encoded data removed]",
      "text/plain": [
       "<Figure size 720x1440 with 2 Axes>"
      ]
     },
     "metadata": {
      "needs_background": "light"
     },
     "output_type": "display_data"
    }
   ],
   "source": [
    "import itertools\n",
    "\n",
    "figsize = (10, 20)\n",
    "\n",
    "cm = confusion_matrix(y_test, y_pred)\n",
    "cm_norm = cm.astype(\"float\")/cm.sum(axis=1)[:, np.newaxis]\n",
    "n_classes = cm.shape[0]\n",
    "\n",
    "# Let's pretiffy\n",
    "fig, ax = plt.subplots(figsize=figsize)\n",
    "cax = ax.matshow(cm, cmap=plt.cm.Blues)\n",
    "fig.colorbar(cax)\n",
    "\n",
    "\n",
    "# Create classes\n",
    "classes = False\n",
    "\n",
    "if classes:\n",
    "    labels = classes\n",
    "else:\n",
    "    labels = np.arange(cm.shape[0])\n",
    "\n",
    "# Label the axis\n",
    "\n",
    "ax.set(\n",
    "    title='Confusion Matrix',\n",
    "    xlabel=\"Predicated Label\",\n",
    "    ylabel=\"True label\",\n",
    "    xticks=np.arange(n_classes),\n",
    "    yticks=np.arange(n_classes),\n",
    "    xticklabels=labels,\n",
    "    yticklabels=labels\n",
    ")\n",
    "\n",
    "ax.xaxis.set_label_position(\"bottom\")\n",
    "ax.xaxis.tick_bottom()\n",
    "\n",
    "ax.yaxis.label.set_size(20)\n",
    "ax.xaxis.label.set_size(20)\n",
    "ax.title.set_size(2)\n",
    "\n",
    "threshold = (cm.max()+cm.min())/2\n",
    "\n",
    "for i, j in itertools.product(range(cm.shape[0]), range(cm.shape[1])):\n",
    "    plt.text(j, i, f\"{cm[i,j]} ({cm_norm[i,j]*100:.1f}%)\", horizontalalignment=\"center\", color=\"white\" if cm[i, j] > threshold else \"black\",size=15\n",
    "             )\n"
   ]
  }
 ],
 "metadata": {
  "kernelspec": {
   "display_name": "Python 3.10.4 64-bit",
   "language": "python",
   "name": "python3"
  },
  "language_info": {
   "codemirror_mode": {
    "name": "ipython",
    "version": 3
   },
   "file_extension": ".py",
   "mimetype": "text/x-python",
   "name": "python",
   "nbconvert_exporter": "python",
   "pygments_lexer": "ipython3",
   "version": "3.10.4"
  },
  "orig_nbformat": 4,
  "vscode": {
   "interpreter": {
    "hash": "49925a85a85dac8a2dca5afbebde9d93135fdd4b812dbf89ef8044a5eedbb9bf"
   }
  }
 },
 "nbformat": 4,
 "nbformat_minor": 2
}
