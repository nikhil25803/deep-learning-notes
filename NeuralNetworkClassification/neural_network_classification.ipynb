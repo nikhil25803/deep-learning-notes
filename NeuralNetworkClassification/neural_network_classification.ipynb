{
 "cells": [
  {
   "cell_type": "markdown",
   "metadata": {},
   "source": [
    "### Introduction to Neural Network classification\n",
    "\n",
    "+ A classification is where you try to classify something as one thing or another.\n",
    "+ Few types of classification problems are :\n",
    "    + Binary Classification\n",
    "    + Multiclass Classification\n",
    "    + Multilabel Classification"
   ]
  },
  {
   "cell_type": "markdown",
   "metadata": {},
   "source": [
    "#### Create data to view and fit."
   ]
  },
  {
   "cell_type": "code",
   "execution_count": 49,
   "metadata": {},
   "outputs": [],
   "source": [
    "from sklearn.datasets import make_circles"
   ]
  },
  {
   "cell_type": "code",
   "execution_count": 50,
   "metadata": {},
   "outputs": [],
   "source": [
    "n_samples = 1000\n",
    "X,y=make_circles(\n",
    "    n_samples,\n",
    "    noise=0.03,\n",
    "    random_state=42\n",
    ")\n"
   ]
  },
  {
   "cell_type": "code",
   "execution_count": 51,
   "metadata": {},
   "outputs": [],
   "source": [
    "import pandas as pd"
   ]
  },
  {
   "cell_type": "code",
   "execution_count": 52,
   "metadata": {},
   "outputs": [
    {
     "data": {
      "text/html": [
       "<div>\n",
       "<style scoped>\n",
       "    .dataframe tbody tr th:only-of-type {\n",
       "        vertical-align: middle;\n",
       "    }\n",
       "\n",
       "    .dataframe tbody tr th {\n",
       "        vertical-align: top;\n",
       "    }\n",
       "\n",
       "    .dataframe thead th {\n",
       "        text-align: right;\n",
       "    }\n",
       "</style>\n",
       "<table border=\"1\" class=\"dataframe\">\n",
       "  <thead>\n",
       "    <tr style=\"text-align: right;\">\n",
       "      <th></th>\n",
       "      <th>X0</th>\n",
       "      <th>X1</th>\n",
       "      <th>label</th>\n",
       "    </tr>\n",
       "  </thead>\n",
       "  <tbody>\n",
       "    <tr>\n",
       "      <th>0</th>\n",
       "      <td>0.754246</td>\n",
       "      <td>0.231481</td>\n",
       "      <td>1</td>\n",
       "    </tr>\n",
       "    <tr>\n",
       "      <th>1</th>\n",
       "      <td>-0.756159</td>\n",
       "      <td>0.153259</td>\n",
       "      <td>1</td>\n",
       "    </tr>\n",
       "    <tr>\n",
       "      <th>2</th>\n",
       "      <td>-0.815392</td>\n",
       "      <td>0.173282</td>\n",
       "      <td>1</td>\n",
       "    </tr>\n",
       "    <tr>\n",
       "      <th>3</th>\n",
       "      <td>-0.393731</td>\n",
       "      <td>0.692883</td>\n",
       "      <td>1</td>\n",
       "    </tr>\n",
       "    <tr>\n",
       "      <th>4</th>\n",
       "      <td>0.442208</td>\n",
       "      <td>-0.896723</td>\n",
       "      <td>0</td>\n",
       "    </tr>\n",
       "    <tr>\n",
       "      <th>...</th>\n",
       "      <td>...</td>\n",
       "      <td>...</td>\n",
       "      <td>...</td>\n",
       "    </tr>\n",
       "    <tr>\n",
       "      <th>995</th>\n",
       "      <td>0.244054</td>\n",
       "      <td>0.944125</td>\n",
       "      <td>0</td>\n",
       "    </tr>\n",
       "    <tr>\n",
       "      <th>996</th>\n",
       "      <td>-0.978655</td>\n",
       "      <td>-0.272373</td>\n",
       "      <td>0</td>\n",
       "    </tr>\n",
       "    <tr>\n",
       "      <th>997</th>\n",
       "      <td>-0.136900</td>\n",
       "      <td>-0.810012</td>\n",
       "      <td>1</td>\n",
       "    </tr>\n",
       "    <tr>\n",
       "      <th>998</th>\n",
       "      <td>0.670362</td>\n",
       "      <td>-0.767502</td>\n",
       "      <td>0</td>\n",
       "    </tr>\n",
       "    <tr>\n",
       "      <th>999</th>\n",
       "      <td>0.281057</td>\n",
       "      <td>0.963824</td>\n",
       "      <td>0</td>\n",
       "    </tr>\n",
       "  </tbody>\n",
       "</table>\n",
       "<p>1000 rows × 3 columns</p>\n",
       "</div>"
      ],
      "text/plain": [
       "           X0        X1  label\n",
       "0    0.754246  0.231481      1\n",
       "1   -0.756159  0.153259      1\n",
       "2   -0.815392  0.173282      1\n",
       "3   -0.393731  0.692883      1\n",
       "4    0.442208 -0.896723      0\n",
       "..        ...       ...    ...\n",
       "995  0.244054  0.944125      0\n",
       "996 -0.978655 -0.272373      0\n",
       "997 -0.136900 -0.810012      1\n",
       "998  0.670362 -0.767502      0\n",
       "999  0.281057  0.963824      0\n",
       "\n",
       "[1000 rows x 3 columns]"
      ]
     },
     "execution_count": 52,
     "metadata": {},
     "output_type": "execute_result"
    }
   ],
   "source": [
    "circles = pd.DataFrame({\n",
    "    \"X0\":X[:,0],\n",
    "    \"X1\":X[:,1],\n",
    "    \"label\":y\n",
    "})\n",
    "circles"
   ]
  },
  {
   "cell_type": "markdown",
   "metadata": {},
   "source": [
    "Visualize with a plot\n"
   ]
  },
  {
   "cell_type": "code",
   "execution_count": 53,
   "metadata": {},
   "outputs": [
    {
     "data": {
      "image/png": "[encoded data removed]",
      "text/plain": [
       "<Figure size 432x288 with 1 Axes>"
      ]
     },
     "metadata": {
      "needs_background": "light"
     },
     "output_type": "display_data"
    }
   ],
   "source": [
    "import matplotlib.pyplot as plt\n",
    "\n",
    "plt.scatter(X[:, 0], X[:, 1], c=y, cmap=plt.cm.RdYlBu);\n"
   ]
  },
  {
   "cell_type": "markdown",
   "metadata": {},
   "source": [
    "### Input and output shape of data\n"
   ]
  },
  {
   "cell_type": "code",
   "execution_count": 54,
   "metadata": {},
   "outputs": [
    {
     "data": {
      "text/plain": [
       "((1000, 2), (1000,))"
      ]
     },
     "execution_count": 54,
     "metadata": {},
     "output_type": "execute_result"
    }
   ],
   "source": [
    "X.shape, y.shape"
   ]
  },
  {
   "cell_type": "code",
   "execution_count": 55,
   "metadata": {},
   "outputs": [],
   "source": [
    "import tensorflow as tf\n"
   ]
  },
  {
   "cell_type": "code",
   "execution_count": 56,
   "metadata": {},
   "outputs": [
    {
     "name": "stdout",
     "output_type": "stream",
     "text": [
      "Epoch 1/5\n",
      "32/32 [==============================] - 0s 1ms/step - loss: 4.2664 - accuracy: 0.4640\n",
      "Epoch 2/5\n",
      "32/32 [==============================] - 0s 1ms/step - loss: 3.7458 - accuracy: 0.4670\n",
      "Epoch 3/5\n",
      "32/32 [==============================] - 0s 1ms/step - loss: 0.7846 - accuracy: 0.4960\n",
      "Epoch 4/5\n",
      "32/32 [==============================] - 0s 1ms/step - loss: 0.7168 - accuracy: 0.4950\n",
      "Epoch 5/5\n",
      "32/32 [==============================] - 0s 1ms/step - loss: 0.7006 - accuracy: 0.4960\n"
     ]
    },
    {
     "data": {
      "text/plain": [
       "<keras.callbacks.History at 0x27c317289d0>"
      ]
     },
     "execution_count": 56,
     "metadata": {},
     "output_type": "execute_result"
    }
   ],
   "source": [
    "## Steps in modelling\n",
    "\n",
    "## Creare a model\n",
    "tf.random.set_seed(42)\n",
    "model_1 = tf.keras.Sequential(\n",
    "    tf.keras.layers.Dense(1)\n",
    ")\n",
    "\n",
    "model_1.compile(\n",
    "    loss=tf.keras.losses.BinaryCrossentropy(),\n",
    "    optimizer=tf.keras.optimizers.SGD(),\n",
    "    metrics=['accuracy']\n",
    ")\n",
    "\n",
    "model_1.fit(X,y,epochs=5)"
   ]
  },
  {
   "cell_type": "code",
   "execution_count": 57,
   "metadata": {},
   "outputs": [
    {
     "name": "stdout",
     "output_type": "stream",
     "text": [
      "32/32 [==============================] - 0s 1ms/step - loss: 0.6935 - accuracy: 0.5000\n"
     ]
    },
    {
     "data": {
      "text/plain": [
       "[0.6934829950332642, 0.5]"
      ]
     },
     "execution_count": 57,
     "metadata": {},
     "output_type": "execute_result"
    }
   ],
   "source": [
    "## Let's train for long\n",
    "model_1.fit(X,y,epochs=200,verbose=0)\n",
    "model_1.evaluate(X,y)"
   ]
  },
  {
   "cell_type": "code",
   "execution_count": 58,
   "metadata": {},
   "outputs": [
    {
     "data": {
      "text/plain": [
       "(2,)"
      ]
     },
     "execution_count": 58,
     "metadata": {},
     "output_type": "execute_result"
    }
   ],
   "source": [
    "X[0].shape"
   ]
  },
  {
   "cell_type": "code",
   "execution_count": 59,
   "metadata": {},
   "outputs": [],
   "source": [
    "# # Set the random seed\n",
    "# tf.random.set_seed(42)\n",
    "\n",
    "# model_2 = tf.keras.Sequential(\n",
    "#     tf.keras.layers.Dense(1),\n",
    "#     tf.keras.layers.Dense(1)\n",
    "# )\n",
    "\n",
    "# model_2.compile(\n",
    "#     loss=tf.keras.losses.BinaryCrossentropy(),\n",
    "#     optimizer=tf.keras.optimizers.SGD(),\n",
    "#     metrics=['accuracy']\n",
    "# )\n",
    "\n",
    "# model_2.fit(X, y, epochs=100, verbose=0)\n"
   ]
  },
  {
   "cell_type": "markdown",
   "metadata": {},
   "source": [
    "### Improving a model\n",
    "\n",
    "+ Create a model - Add more layers | Increase number of hidden layers\n",
    "\n",
    "+ Compiling a model - Choose a different optimization function(Adam) | \n",
    "+ Fitting a model - Fit our model for longer\n"
   ]
  },
  {
   "cell_type": "code",
   "execution_count": 60,
   "metadata": {},
   "outputs": [
    {
     "data": {
      "text/plain": [
       "<keras.callbacks.History at 0x27c317d6290>"
      ]
     },
     "execution_count": 60,
     "metadata": {},
     "output_type": "execute_result"
    }
   ],
   "source": [
    "tf.random.set_seed(42)\n",
    "\n",
    "model_3 = tf.keras.Sequential([\n",
    "    tf.keras.layers.Dense(100),\n",
    "    tf.keras.layers.Dense(10),\n",
    "    tf.keras.layers.Dense(1)\n",
    "])\n",
    "\n",
    "model_3.compile(loss=tf.keras.losses.BinaryCrossentropy(),\n",
    "                optimizer=tf.keras.optimizers.Adam(),\n",
    "                metrics=['accuracy'])\n",
    "\n",
    "model_3.fit(X,y,epochs=100,verbose=0)\n",
    "\n",
    "\n"
   ]
  },
  {
   "cell_type": "code",
   "execution_count": 61,
   "metadata": {},
   "outputs": [
    {
     "name": "stdout",
     "output_type": "stream",
     "text": [
      "32/32 [==============================] - 0s 1ms/step - loss: 0.6973 - accuracy: 0.5100\n"
     ]
    },
    {
     "data": {
      "text/plain": [
       "[0.6972905397415161, 0.5099999904632568]"
      ]
     },
     "execution_count": 61,
     "metadata": {},
     "output_type": "execute_result"
    }
   ],
   "source": [
    "model_3.evaluate(X,y)"
   ]
  },
  {
   "cell_type": "markdown",
   "metadata": {},
   "source": [
    "Create a mesh-grid of different X Values\n",
    "+ Plot prediction as well as line between different zones"
   ]
  },
  {
   "cell_type": "code",
   "execution_count": 62,
   "metadata": {},
   "outputs": [],
   "source": [
    "import numpy as np\n",
    "import matplotlib.pyplot as plt"
   ]
  },
  {
   "cell_type": "code",
   "execution_count": 63,
   "metadata": {},
   "outputs": [],
   "source": [
    "def plot_decision_boundary(model, X, y):\n",
    "    x_min, x_max = X[:, 0].min()-0.1, X[:, 0].max()+0.1\n",
    "    y_min, y_max = X[:, 1].min()-0.1, X[:, 1].max()+0.1\n",
    "\n",
    "    xx, yy = np.meshgrid(np.linspace(x_min, x_max, 100),\n",
    "                         np.linspace(y_min, y_max, 100))\n",
    "\n",
    "    x_in = np.c_[(xx.ravel(), yy.ravel())]\n",
    "\n",
    "    y_pred = model.predict(x_in)\n",
    "\n",
    "    if len(y_pred[0]) > 1:\n",
    "        print('Doing multi-class')\n",
    "        y_pred = np.argmax(y_pred, axis=1).reshape(xx.shape)\n",
    "    else:\n",
    "        print('Doing binary classification')\n",
    "        y_pred = np.round(y_pred).reshape(xx.shape)\n",
    "\n",
    "    plt.contourf(xx, yy, y_pred, cmap=plt.cm.RdYlBu,alpha=0.7)\n",
    "    plt.scatter(X[:,0],X[:,1],c=y,s=40,cmap=plt.cm.RdYlBu)\n",
    "    plt.xlim(xx.min(),xx.max())\n",
    "    plt.ylim(yy.min(),yy.max())\n"
   ]
  },
  {
   "cell_type": "code",
   "execution_count": 64,
   "metadata": {},
   "outputs": [
    {
     "name": "stdout",
     "output_type": "stream",
     "text": [
      "313/313 [==============================] - 0s 1ms/step\n",
      "Doing binary classification\n"
     ]
    },
    {
     "data": {
      "image/png": "[encoded data removed]",
      "text/plain": [
       "<Figure size 432x288 with 1 Axes>"
      ]
     },
     "metadata": {
      "needs_background": "light"
     },
     "output_type": "display_data"
    }
   ],
   "source": [
    "plot_decision_boundary(model=model_3,X=X,y=y)"
   ]
  },
  {
   "cell_type": "code",
   "execution_count": 65,
   "metadata": {},
   "outputs": [],
   "source": [
    "tf.random.set_seed(42)\n",
    "\n",
    "x_reg = tf.range(0,1000,5)\n",
    "y_reg = tf.range(100,1100,5)\n",
    "x_reg_train = x_reg[:150]\n",
    "x_reg_test = x_reg[150:]\n",
    "\n",
    "y_reg_train = y_reg[:150]\n",
    "y_reg_test = y_reg[150:]"
   ]
  },
  {
   "cell_type": "code",
   "execution_count": 69,
   "metadata": {},
   "outputs": [
    {
     "data": {
      "text/plain": [
       "TensorShape([150])"
      ]
     },
     "execution_count": 69,
     "metadata": {},
     "output_type": "execute_result"
    }
   ],
   "source": [
    "x_reg_train.shape"
   ]
  },
  {
   "cell_type": "code",
   "execution_count": 67,
   "metadata": {},
   "outputs": [],
   "source": [
    "# model_3.fit(x_reg_train,y_reg_train,epochs=100)"
   ]
  },
  {
   "cell_type": "code",
   "execution_count": 70,
   "metadata": {},
   "outputs": [
    {
     "name": "stdout",
     "output_type": "stream",
     "text": [
      "Epoch 1/100\n",
      "5/5 [==============================] - 0s 3ms/step - loss: 530.4256 - mae: 530.4256\n",
      "Epoch 2/100\n",
      "5/5 [==============================] - 0s 3ms/step - loss: 408.9380 - mae: 408.9380\n",
      "Epoch 3/100\n",
      "5/5 [==============================] - 0s 2ms/step - loss: 292.8521 - mae: 292.8521\n",
      "Epoch 4/100\n",
      "5/5 [==============================] - 0s 3ms/step - loss: 172.8369 - mae: 172.8369\n",
      "Epoch 5/100\n",
      "5/5 [==============================] - 0s 2ms/step - loss: 61.0395 - mae: 61.0395\n",
      "Epoch 6/100\n",
      "5/5 [==============================] - 0s 3ms/step - loss: 80.3868 - mae: 80.3868\n",
      "Epoch 7/100\n",
      "5/5 [==============================] - 0s 3ms/step - loss: 83.9116 - mae: 83.9116\n",
      "Epoch 8/100\n",
      "5/5 [==============================] - 0s 3ms/step - loss: 52.6458 - mae: 52.6458\n",
      "Epoch 9/100\n",
      "5/5 [==============================] - 0s 3ms/step - loss: 49.2903 - mae: 49.2903\n",
      "Epoch 10/100\n",
      "5/5 [==============================] - 0s 3ms/step - loss: 49.5652 - mae: 49.5652\n",
      "Epoch 11/100\n",
      "5/5 [==============================] - 0s 3ms/step - loss: 43.5352 - mae: 43.5352\n",
      "Epoch 12/100\n",
      "5/5 [==============================] - 0s 3ms/step - loss: 45.7855 - mae: 45.7855\n",
      "Epoch 13/100\n",
      "5/5 [==============================] - 0s 2ms/step - loss: 42.1713 - mae: 42.1713\n",
      "Epoch 14/100\n",
      "5/5 [==============================] - 0s 3ms/step - loss: 42.6536 - mae: 42.6536\n",
      "Epoch 15/100\n",
      "5/5 [==============================] - 0s 2ms/step - loss: 42.3517 - mae: 42.3517\n",
      "Epoch 16/100\n",
      "5/5 [==============================] - 0s 3ms/step - loss: 42.0222 - mae: 42.0222\n",
      "Epoch 17/100\n",
      "5/5 [==============================] - 0s 3ms/step - loss: 41.4413 - mae: 41.4413\n",
      "Epoch 18/100\n",
      "5/5 [==============================] - 0s 3ms/step - loss: 41.5372 - mae: 41.5372\n",
      "Epoch 19/100\n",
      "5/5 [==============================] - 0s 3ms/step - loss: 41.3664 - mae: 41.3664\n",
      "Epoch 20/100\n",
      "5/5 [==============================] - 0s 3ms/step - loss: 41.5859 - mae: 41.5859\n",
      "Epoch 21/100\n",
      "5/5 [==============================] - 0s 3ms/step - loss: 41.1090 - mae: 41.1090\n",
      "Epoch 22/100\n",
      "5/5 [==============================] - 0s 3ms/step - loss: 41.5819 - mae: 41.5819\n",
      "Epoch 23/100\n",
      "5/5 [==============================] - 0s 3ms/step - loss: 41.1700 - mae: 41.1700\n",
      "Epoch 24/100\n",
      "5/5 [==============================] - 0s 2ms/step - loss: 41.1600 - mae: 41.1600\n",
      "Epoch 25/100\n",
      "5/5 [==============================] - 0s 3ms/step - loss: 41.0716 - mae: 41.0716\n",
      "Epoch 26/100\n",
      "5/5 [==============================] - 0s 3ms/step - loss: 41.1020 - mae: 41.1020\n",
      "Epoch 27/100\n",
      "5/5 [==============================] - 0s 3ms/step - loss: 40.9392 - mae: 40.9392\n",
      "Epoch 28/100\n",
      "5/5 [==============================] - 0s 3ms/step - loss: 41.1150 - mae: 41.1150\n",
      "Epoch 29/100\n",
      "5/5 [==============================] - 0s 2ms/step - loss: 41.0994 - mae: 41.0994\n",
      "Epoch 30/100\n",
      "5/5 [==============================] - 0s 3ms/step - loss: 40.9201 - mae: 40.9201\n",
      "Epoch 31/100\n",
      "5/5 [==============================] - 0s 2ms/step - loss: 41.4162 - mae: 41.4162\n",
      "Epoch 32/100\n",
      "5/5 [==============================] - 0s 3ms/step - loss: 41.1323 - mae: 41.1323\n",
      "Epoch 33/100\n",
      "5/5 [==============================] - 0s 2ms/step - loss: 41.2846 - mae: 41.2846\n",
      "Epoch 34/100\n",
      "5/5 [==============================] - 0s 3ms/step - loss: 41.3310 - mae: 41.3310\n",
      "Epoch 35/100\n",
      "5/5 [==============================] - 0s 3ms/step - loss: 40.7403 - mae: 40.7403\n",
      "Epoch 36/100\n",
      "5/5 [==============================] - 0s 3ms/step - loss: 41.0981 - mae: 41.0981\n",
      "Epoch 37/100\n",
      "5/5 [==============================] - 0s 3ms/step - loss: 40.9585 - mae: 40.9585\n",
      "Epoch 38/100\n",
      "5/5 [==============================] - 0s 3ms/step - loss: 40.6388 - mae: 40.6388\n",
      "Epoch 39/100\n",
      "5/5 [==============================] - 0s 3ms/step - loss: 40.7920 - mae: 40.7920\n",
      "Epoch 40/100\n",
      "5/5 [==============================] - 0s 2ms/step - loss: 40.6128 - mae: 40.6128\n",
      "Epoch 41/100\n",
      "5/5 [==============================] - 0s 3ms/step - loss: 40.7281 - mae: 40.7281\n",
      "Epoch 42/100\n",
      "5/5 [==============================] - 0s 3ms/step - loss: 40.6368 - mae: 40.6368\n",
      "Epoch 43/100\n",
      "5/5 [==============================] - 0s 3ms/step - loss: 40.6920 - mae: 40.6920\n",
      "Epoch 44/100\n",
      "5/5 [==============================] - 0s 3ms/step - loss: 40.4037 - mae: 40.4037\n",
      "Epoch 45/100\n",
      "5/5 [==============================] - 0s 2ms/step - loss: 40.4600 - mae: 40.4600\n",
      "Epoch 46/100\n",
      "5/5 [==============================] - 0s 3ms/step - loss: 40.5181 - mae: 40.5181\n",
      "Epoch 47/100\n",
      "5/5 [==============================] - 0s 2ms/step - loss: 40.4828 - mae: 40.4828\n",
      "Epoch 48/100\n",
      "5/5 [==============================] - 0s 4ms/step - loss: 40.3261 - mae: 40.3261\n",
      "Epoch 49/100\n",
      "5/5 [==============================] - 0s 3ms/step - loss: 40.8551 - mae: 40.8551\n",
      "Epoch 50/100\n",
      "5/5 [==============================] - 0s 2ms/step - loss: 40.3554 - mae: 40.3554\n",
      "Epoch 51/100\n",
      "5/5 [==============================] - 0s 2ms/step - loss: 40.4188 - mae: 40.4188\n",
      "Epoch 52/100\n",
      "5/5 [==============================] - 0s 2ms/step - loss: 40.9772 - mae: 40.9772\n",
      "Epoch 53/100\n",
      "5/5 [==============================] - 0s 2ms/step - loss: 40.9290 - mae: 40.9290\n",
      "Epoch 54/100\n",
      "5/5 [==============================] - 0s 2ms/step - loss: 41.1013 - mae: 41.1013\n",
      "Epoch 55/100\n",
      "5/5 [==============================] - 0s 2ms/step - loss: 41.4986 - mae: 41.4986\n",
      "Epoch 56/100\n",
      "5/5 [==============================] - 0s 2ms/step - loss: 41.4921 - mae: 41.4921\n",
      "Epoch 57/100\n",
      "5/5 [==============================] - 0s 2ms/step - loss: 40.8525 - mae: 40.8525\n",
      "Epoch 58/100\n",
      "5/5 [==============================] - 0s 2ms/step - loss: 41.3261 - mae: 41.3261\n",
      "Epoch 59/100\n",
      "5/5 [==============================] - 0s 3ms/step - loss: 40.6732 - mae: 40.6732\n",
      "Epoch 60/100\n",
      "5/5 [==============================] - 0s 2ms/step - loss: 40.4566 - mae: 40.4566\n",
      "Epoch 61/100\n",
      "5/5 [==============================] - 0s 2ms/step - loss: 40.6385 - mae: 40.6385\n",
      "Epoch 62/100\n",
      "5/5 [==============================] - 0s 2ms/step - loss: 40.8973 - mae: 40.8973\n",
      "Epoch 63/100\n",
      "5/5 [==============================] - 0s 2ms/step - loss: 39.9460 - mae: 39.9460\n",
      "Epoch 64/100\n",
      "5/5 [==============================] - 0s 2ms/step - loss: 40.5482 - mae: 40.5482\n",
      "Epoch 65/100\n",
      "5/5 [==============================] - 0s 3ms/step - loss: 39.8989 - mae: 39.8989\n",
      "Epoch 66/100\n",
      "5/5 [==============================] - 0s 3ms/step - loss: 40.7599 - mae: 40.7599\n",
      "Epoch 67/100\n",
      "5/5 [==============================] - 0s 2ms/step - loss: 39.6866 - mae: 39.6866\n",
      "Epoch 68/100\n",
      "5/5 [==============================] - 0s 2ms/step - loss: 39.6610 - mae: 39.6610\n",
      "Epoch 69/100\n",
      "5/5 [==============================] - 0s 2ms/step - loss: 39.6972 - mae: 39.6972\n",
      "Epoch 70/100\n",
      "5/5 [==============================] - 0s 3ms/step - loss: 39.9790 - mae: 39.9790\n",
      "Epoch 71/100\n",
      "5/5 [==============================] - 0s 2ms/step - loss: 40.1789 - mae: 40.1789\n",
      "Epoch 72/100\n",
      "5/5 [==============================] - 0s 2ms/step - loss: 39.4544 - mae: 39.4544\n",
      "Epoch 73/100\n",
      "5/5 [==============================] - 0s 2ms/step - loss: 39.9748 - mae: 39.9748\n",
      "Epoch 74/100\n",
      "5/5 [==============================] - 0s 2ms/step - loss: 39.7676 - mae: 39.7676\n",
      "Epoch 75/100\n",
      "5/5 [==============================] - 0s 3ms/step - loss: 39.7141 - mae: 39.7141\n",
      "Epoch 76/100\n",
      "5/5 [==============================] - 0s 2ms/step - loss: 39.4553 - mae: 39.4553\n",
      "Epoch 77/100\n",
      "5/5 [==============================] - 0s 2ms/step - loss: 39.5752 - mae: 39.5752\n",
      "Epoch 78/100\n",
      "5/5 [==============================] - 0s 2ms/step - loss: 39.6835 - mae: 39.6835\n",
      "Epoch 79/100\n",
      "5/5 [==============================] - 0s 2ms/step - loss: 39.3068 - mae: 39.3068\n",
      "Epoch 80/100\n",
      "5/5 [==============================] - 0s 2ms/step - loss: 39.3303 - mae: 39.3303\n",
      "Epoch 81/100\n",
      "5/5 [==============================] - 0s 2ms/step - loss: 39.2810 - mae: 39.2810\n",
      "Epoch 82/100\n",
      "5/5 [==============================] - 0s 2ms/step - loss: 39.0825 - mae: 39.0825\n",
      "Epoch 83/100\n",
      "5/5 [==============================] - 0s 2ms/step - loss: 39.5325 - mae: 39.5325\n",
      "Epoch 84/100\n",
      "5/5 [==============================] - 0s 2ms/step - loss: 39.1877 - mae: 39.1877\n",
      "Epoch 85/100\n",
      "5/5 [==============================] - 0s 2ms/step - loss: 39.2687 - mae: 39.2687\n",
      "Epoch 86/100\n",
      "5/5 [==============================] - 0s 2ms/step - loss: 38.8754 - mae: 38.8754\n",
      "Epoch 87/100\n",
      "5/5 [==============================] - 0s 3ms/step - loss: 39.3238 - mae: 39.3238\n",
      "Epoch 88/100\n",
      "5/5 [==============================] - 0s 2ms/step - loss: 38.9252 - mae: 38.9252\n",
      "Epoch 89/100\n",
      "5/5 [==============================] - 0s 3ms/step - loss: 39.2269 - mae: 39.2269\n",
      "Epoch 90/100\n",
      "5/5 [==============================] - 0s 2ms/step - loss: 38.8781 - mae: 38.8781\n",
      "Epoch 91/100\n",
      "5/5 [==============================] - 0s 3ms/step - loss: 38.6319 - mae: 38.6319\n",
      "Epoch 92/100\n",
      "5/5 [==============================] - 0s 2ms/step - loss: 39.1399 - mae: 39.1399\n",
      "Epoch 93/100\n",
      "5/5 [==============================] - 0s 2ms/step - loss: 39.2937 - mae: 39.2937\n",
      "Epoch 94/100\n",
      "5/5 [==============================] - 0s 2ms/step - loss: 38.4846 - mae: 38.4846\n",
      "Epoch 95/100\n",
      "5/5 [==============================] - 0s 3ms/step - loss: 38.9773 - mae: 38.9773\n",
      "Epoch 96/100\n",
      "5/5 [==============================] - 0s 2ms/step - loss: 38.7346 - mae: 38.7346\n",
      "Epoch 97/100\n",
      "5/5 [==============================] - 0s 2ms/step - loss: 38.5232 - mae: 38.5232\n",
      "Epoch 98/100\n",
      "5/5 [==============================] - 0s 2ms/step - loss: 39.3949 - mae: 39.3949\n",
      "Epoch 99/100\n",
      "5/5 [==============================] - 0s 2ms/step - loss: 38.6226 - mae: 38.6226\n",
      "Epoch 100/100\n",
      "5/5 [==============================] - 0s 2ms/step - loss: 38.4346 - mae: 38.4346\n"
     ]
    },
    {
     "data": {
      "text/plain": [
       "<keras.callbacks.History at 0x27c32ad68c0>"
      ]
     },
     "execution_count": 70,
     "metadata": {},
     "output_type": "execute_result"
    }
   ],
   "source": [
    "# Setup random seed\n",
    "tf.random.set_seed(42)\n",
    "\n",
    "# Recreate the model\n",
    "model_3 = tf.keras.Sequential([\n",
    "  tf.keras.layers.Dense(100),\n",
    "  tf.keras.layers.Dense(10),\n",
    "  tf.keras.layers.Dense(1)\n",
    "])\n",
    "\n",
    "# Change the loss and metrics of our compiled model\n",
    "model_3.compile(loss=tf.keras.losses.mae, # change the loss function to be regression-specific\n",
    "                optimizer=tf.keras.optimizers.Adam(),\n",
    "                metrics=['mae']) # change the metric to be regression-specific\n",
    "\n",
    "# Fit the recompiled model\n",
    "model_3.fit(tf.expand_dims(x_reg_train, axis=-1), \n",
    "            y_reg_train, \n",
    "            epochs=100)"
   ]
  },
  {
   "cell_type": "code",
   "execution_count": 71,
   "metadata": {},
   "outputs": [
    {
     "name": "stdout",
     "output_type": "stream",
     "text": [
      "2/2 [==============================] - 0s 3ms/step\n"
     ]
    },
    {
     "data": {
      "image/png": "[encoded data removed]",
      "text/plain": [
       "<Figure size 720x504 with 1 Axes>"
      ]
     },
     "metadata": {
      "needs_background": "light"
     },
     "output_type": "display_data"
    }
   ],
   "source": [
    "y_reg_pred = model_3.predict(x_reg_test)\n",
    "\n",
    "\n",
    "plt.figure(figsize=(10,7))\n",
    "plt.scatter(x_reg_train,y_reg_train,c=\"b\",label=\"Training Data\")\n",
    "plt.scatter(x_reg_test,y_reg_test,c=\"g\",label=\"Test Data\")\n",
    "plt.scatter(x_reg_test,y_reg_pred,c='r',label=\"Predictions\")\n",
    "plt.legend();\n"
   ]
  },
  {
   "cell_type": "markdown",
   "metadata": {},
   "source": [
    " Classification model fails because of Non-linearity | "
   ]
  },
  {
   "cell_type": "code",
   "execution_count": null,
   "metadata": {},
   "outputs": [],
   "source": []
  }
 ],
 "metadata": {
  "kernelspec": {
   "display_name": "Python 3.10.4 64-bit",
   "language": "python",
   "name": "python3"
  },
  "language_info": {
   "codemirror_mode": {
    "name": "ipython",
    "version": 3
   },
   "file_extension": ".py",
   "mimetype": "text/x-python",
   "name": "python",
   "nbconvert_exporter": "python",
   "pygments_lexer": "ipython3",
   "version": "3.10.4"
  },
  "orig_nbformat": 4,
  "vscode": {
   "interpreter": {
    "hash": "49925a85a85dac8a2dca5afbebde9d93135fdd4b812dbf89ef8044a5eedbb9bf"
   }
  }
 },
 "nbformat": 4,
 "nbformat_minor": 2
}
