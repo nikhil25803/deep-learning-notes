{
  "cells": [
    {
      "cell_type": "markdown",
      "metadata": {
        "id": "rOlp4wa7tygG"
      },
      "source": [
        "## Regression Analysis |"
      ]
    },
    {
      "cell_type": "markdown",
      "metadata": {
        "id": "78slVA0nsNKO"
      },
      "source": [
        "# Introduction to Regression with Neural Networks in Tensorflow\n",
        "\n",
        "Regression model is predicting a numerical variable based on some other combination of variables, or in short, predicting a number."
      ]
    },
    {
      "cell_type": "code",
      "execution_count": null,
      "metadata": {
        "id": "2EkXGDy55HC8"
      },
      "outputs": [],
      "source": [
        "import tensorflow as tf"
      ]
    },
    {
      "cell_type": "code",
      "execution_count": null,
      "metadata": {
        "colab": {
          "base_uri": "https://localhost:8080/"
        },
        "id": "3c5OAx_g7u3R",
        "outputId": "544218b3-f1eb-4230-ae3a-192318e36c11"
      },
      "outputs": [],
      "source": [
        "print(tf.__version__)"
      ]
    },
    {
      "cell_type": "markdown",
      "metadata": {
        "id": "rbNGjoHn7yyD"
      },
      "source": [
        "# Creating some data to view and fit"
      ]
    },
    {
      "cell_type": "code",
      "execution_count": null,
      "metadata": {
        "id": "TcJASBTp8AxK"
      },
      "outputs": [],
      "source": [
        "import numpy as np\n",
        "import matplotlib.pyplot as plt\n"
      ]
    },
    {
      "cell_type": "code",
      "execution_count": null,
      "metadata": {
        "colab": {
          "base_uri": "https://localhost:8080/",
          "height": 286
        },
        "id": "nG6t_ETl8FuU",
        "outputId": "67fa8007-3c32-4bf2-d4f6-92879b948dd3"
      },
      "outputs": [],
      "source": [
        "# Create features\n",
        "X = np.array([-7.0,-4.0,-1.0,2.0,5.0,8.0,11.0,14.0])\n",
        "# Labels\n",
        "Y = np.array([3.0,6.0,9.0,12.0,15.0,18.0,21.0,24.0])\n",
        "\n",
        "# Visualize it\n",
        "plt.scatter(X, Y)\n",
        "type(X)"
      ]
    },
    {
      "cell_type": "code",
      "execution_count": null,
      "metadata": {
        "colab": {
          "base_uri": "https://localhost:8080/"
        },
        "id": "CRCoVkgi8du_",
        "outputId": "3a32087d-7328-41d6-f8f3-0745558aac49"
      },
      "outputs": [],
      "source": [
        "Y == X+10"
      ]
    },
    {
      "cell_type": "code",
      "execution_count": null,
      "metadata": {
        "colab": {
          "base_uri": "https://localhost:8080/"
        },
        "id": "v3gMu8u9CakN",
        "outputId": "50404019-a881-47dd-8340-020d05eb8eed"
      },
      "outputs": [],
      "source": [
        "input_shape = X.shape\n",
        "output_shape = Y.shape\n",
        "input_shape, output_shape"
      ]
    },
    {
      "cell_type": "code",
      "execution_count": null,
      "metadata": {
        "colab": {
          "base_uri": "https://localhost:8080/"
        },
        "id": "JXnY_qfLCjH5",
        "outputId": "005f698a-1528-4d5a-ef56-4c48425a6a9d"
      },
      "outputs": [],
      "source": [
        "## Turn numpy arrays into tensors\n",
        "\n",
        "X = tf.constant(X)\n",
        "y = tf.constant(Y)\n",
        "X.ndim,y.ndim"
      ]
    },
    {
      "cell_type": "code",
      "execution_count": null,
      "metadata": {
        "id": "KnuEO6wISrQN"
      },
      "outputs": [],
      "source": [
        "\n"
      ]
    },
    {
      "cell_type": "markdown",
      "metadata": {
        "id": "LukEzpqHErHo"
      },
      "source": [
        "### Steps in creating a model\n",
        "\n",
        "+ Define and input and output layers\n",
        "+ Define hidden layers\n",
        "+ Compile a model\n",
        "+ Optimizer\n",
        "+ Evaluation metrics\n",
        "+ Fitting a model\n"
      ]
    },
    {
      "cell_type": "code",
      "execution_count": null,
      "metadata": {
        "colab": {
          "base_uri": "https://localhost:8080/"
        },
        "id": "bxQfEsE4E20W",
        "outputId": "38d59aef-c97b-466b-845a-6d5a6203b88f"
      },
      "outputs": [],
      "source": [
        "# Set random seed\n",
        "tf.random.set_seed(42)\n",
        "\n",
        "# Create a model using Sequential API\n",
        "\n",
        "model = tf.keras.Sequential([\n",
        "    tf.keras.layers.Dense(1, input_shape=(1,))\n",
        "])\n",
        "\n",
        "# Compile the model\n",
        "model.compile(loss=tf.keras.losses.mae,\n",
        "              optimizer=tf.keras.optimizers.SGD(),\n",
        "              metrics=[\"mae\"])\n",
        "\n",
        "# Fit the model\n",
        "model.fit(X,y, epochs=5)"
      ]
    },
    {
      "cell_type": "code",
      "execution_count": null,
      "metadata": {
        "colab": {
          "base_uri": "https://localhost:8080/"
        },
        "id": "v8N3Mp1SR-DS",
        "outputId": "19466443-0908-4322-d5f7-807afd38a55d"
      },
      "outputs": [],
      "source": [
        "X,y"
      ]
    },
    {
      "cell_type": "code",
      "execution_count": null,
      "metadata": {
        "colab": {
          "base_uri": "https://localhost:8080/"
        },
        "id": "mSpTwEUGSM7D",
        "outputId": "b486a082-1da8-4591-cfe6-1f818083f414"
      },
      "outputs": [],
      "source": [
        "# Try to make a prediction using a model\n",
        "\n",
        "y_pred =  model.predict([17.0])\n",
        "y_pred+11"
      ]
    },
    {
      "cell_type": "markdown",
      "metadata": {
        "id": "gS-l6EMCTyle"
      },
      "source": [
        "### Improving the model\n",
        "\n",
        "We can improve the model  by altering the steps we used while creating a model.\n",
        "\n",
        "+ **Creating a model**\n",
        "\n",
        "Here we might add more layers, increase the number of neurons, change activation function of each layer\n",
        "\n",
        "+ **Compiling a model**\n",
        "\n",
        "Here we might change the optimization function or perhaps **learning rate** of the optimization funxtion\n",
        "\n",
        "+ **Fiting a  model** \n",
        "\n",
        "More epochs(leave it trainig for longer) and give model more examples to learn from."
      ]
    },
    {
      "cell_type": "code",
      "execution_count": null,
      "metadata": {
        "id": "T0CyE4-gSVHp"
      },
      "outputs": [],
      "source": [
        "# Rebuild the model"
      ]
    },
    {
      "cell_type": "code",
      "execution_count": null,
      "metadata": {
        "colab": {
          "base_uri": "https://localhost:8080/"
        },
        "id": "Qy34Z5aR0rUo",
        "outputId": "c0773ec6-8e23-4fd3-b7d8-5867eb00f679"
      },
      "outputs": [],
      "source": [
        "# 1.  Create a model\n",
        "model = tf.keras.Sequential([\n",
        "    tf.keras.layers.Dense(1, input_shape=(1,))\n",
        "])\n",
        "\n",
        "# 2. Compile the model\n",
        "model.compile(loss=tf.keras.losses.mae,\n",
        "              optimizer=tf.keras.optimizers.SGD(),\n",
        "              metrics=['mae'])\n",
        "\n",
        "# 3. Fit the model\n",
        "model.fit(X, y, epochs=100)"
      ]
    },
    {
      "cell_type": "code",
      "execution_count": null,
      "metadata": {
        "colab": {
          "base_uri": "https://localhost:8080/"
        },
        "id": "ss7jO-zkcMX2",
        "outputId": "26d4cfdb-b3a8-4260-e9e0-0ee205b7d84c"
      },
      "outputs": [],
      "source": [
        "# The Data\n",
        "X,y"
      ]
    },
    {
      "cell_type": "code",
      "execution_count": null,
      "metadata": {
        "colab": {
          "base_uri": "https://localhost:8080/"
        },
        "id": "O6VrkTSkdBOK",
        "outputId": "afec1222-7c8a-4b4d-c0ca-bc88eb086dca"
      },
      "outputs": [],
      "source": [
        "# Check model prediction\n",
        "model.predict([17.0])"
      ]
    },
    {
      "cell_type": "markdown",
      "metadata": {
        "id": "r4gn6XpRdZs-"
      },
      "source": [
        "## Rewriting the model\n"
      ]
    },
    {
      "cell_type": "code",
      "execution_count": null,
      "metadata": {
        "colab": {
          "base_uri": "https://localhost:8080/"
        },
        "id": "S55zc54DdGJl",
        "outputId": "a4c0324c-41af-40c4-d545-40b20d8d8938"
      },
      "outputs": [],
      "source": [
        "# 1.  Create a model\n",
        "model = tf.keras.Sequential([\n",
        "    tf.keras.layers.Dense(1, input_shape=(1,)),\n",
        "    # tf.keras.layers.Dense(100, activation='relu')\n",
        "])\n",
        "\n",
        "# 2. Compile the model\n",
        "model.compile(loss=tf.keras.losses.mae,\n",
        "              optimizer=tf.keras.optimizers.Adam(lr=0.5),\n",
        "              metrics=['mae'])\n",
        "\n",
        "# 3. Fit the model\n",
        "model.fit(X, y, epochs=100)\n",
        "\n"
      ]
    },
    {
      "cell_type": "code",
      "execution_count": null,
      "metadata": {
        "colab": {
          "base_uri": "https://localhost:8080/"
        },
        "id": "VEsxxKoddrPu",
        "outputId": "8261e882-ad7b-421f-efec-7101590e89d5"
      },
      "outputs": [],
      "source": [
        "# Predicting the model\n",
        "model.predict([17.0])"
      ]
    },
    {
      "cell_type": "markdown",
      "metadata": {
        "id": "HMAUopRweed2"
      },
      "source": [
        "## Trying different methods to improve the model\n",
        "\n"
      ]
    },
    {
      "cell_type": "code",
      "execution_count": null,
      "metadata": {
        "colab": {
          "base_uri": "https://localhost:8080/"
        },
        "id": "4ww6EZMpdzch",
        "outputId": "de177598-8ce7-457f-dc89-61d8ff57522f"
      },
      "outputs": [],
      "source": [
        "# Create a model with different number of layers\n",
        "model = tf.keras.Sequential([\n",
        "    tf.keras.layers.Dense(100, activation='relu', input_shape=(1,)),\n",
        "    tf.keras.layers.Dense(1)\n",
        "])\n",
        "\n",
        "# Compiling the model\n",
        "model.compile(loss=tf.keras.losses.mae, \n",
        "              optimizer=tf.keras.optimizers.SGD(), \n",
        "              metrics=[\"mae\"])\n",
        "\n",
        "# Fit the model\n",
        "model.fit(X, y, epochs=100)"
      ]
    },
    {
      "cell_type": "code",
      "execution_count": null,
      "metadata": {
        "colab": {
          "base_uri": "https://localhost:8080/"
        },
        "id": "jRwzdRBKfJBu",
        "outputId": "aca99ec7-b444-4fac-b4cc-d283cfdb3d24"
      },
      "outputs": [],
      "source": [
        "# Prediction test\n",
        "model.predict([17.0])"
      ]
    },
    {
      "cell_type": "markdown",
      "metadata": {
        "id": "lpMJ0PxfhZ0A"
      },
      "source": [
        "### Evaluating a model\n",
        "\n",
        "Build - Fit - Evaluate - Tweak - Repeat🔁"
      ]
    },
    {
      "cell_type": "markdown",
      "metadata": {
        "id": "T3MQPkRPMqhj"
      },
      "source": [
        "### For evaluation ->\n",
        "Visualize : \n",
        "+ How data looks like.\n",
        "+ What the model looks like.\n",
        "+ Training a model.\n",
        "+ Predicting a model."
      ]
    },
    {
      "cell_type": "code",
      "execution_count": null,
      "metadata": {
        "colab": {
          "base_uri": "https://localhost:8080/"
        },
        "id": "76eF-j6nfie-",
        "outputId": "5afc212f-598e-46c7-d8e9-cce113e2e225"
      },
      "outputs": [],
      "source": [
        "X = tf.range(-100,100,4)\n",
        "X"
      ]
    },
    {
      "cell_type": "code",
      "execution_count": null,
      "metadata": {
        "colab": {
          "base_uri": "https://localhost:8080/"
        },
        "id": "BR-l8DlBNLrW",
        "outputId": "79ace114-321f-46b3-9dc4-904d7fc13402"
      },
      "outputs": [],
      "source": [
        "Y = X+10\n",
        "X"
      ]
    },
    {
      "cell_type": "code",
      "execution_count": null,
      "metadata": {
        "id": "Nbz8SJWzNPIh"
      },
      "outputs": [],
      "source": [
        "import matplotlib.pyplot as plt"
      ]
    },
    {
      "cell_type": "code",
      "execution_count": null,
      "metadata": {
        "colab": {
          "base_uri": "https://localhost:8080/",
          "height": 282
        },
        "id": "LHSb_UhMNaxq",
        "outputId": "aa2bcb0c-1b82-4a01-8d48-d659d4a02aa4"
      },
      "outputs": [],
      "source": [
        "plt.scatter(X,Y)"
      ]
    },
    {
      "cell_type": "markdown",
      "metadata": {
        "id": "PA0Dc-ZnNd82"
      },
      "source": [
        "### The 3 set rule ...\n",
        "+ Training set - Model trains on this data, which is typically the 80% of the data avalabale,\n",
        "+ Validation set - the model  get s turned on this data, which is typically 10-15% of the data\n",
        "+ Test set - the model gets evaluated on this data, mostly 10-15% of data is avalable.\n"
      ]
    },
    {
      "cell_type": "code",
      "execution_count": null,
      "metadata": {
        "colab": {
          "base_uri": "https://localhost:8080/"
        },
        "id": "8K4V-rfPalDJ",
        "outputId": "a9a7e9d8-7c10-4b93-e109-c5927c7afca7"
      },
      "outputs": [],
      "source": [
        "# Split data into train and test sets\n",
        "\n",
        "X_train = X[:40]\n",
        "X_test = X[40:]\n",
        "\n",
        "Y_train = Y[:40]\n",
        "Y_test = Y[40:]\n",
        "\n",
        "len(X_train), len(X_test), len(Y_train), len(Y_test)"
      ]
    },
    {
      "cell_type": "code",
      "execution_count": null,
      "metadata": {
        "id": "tlo8ofKnG6Ov"
      },
      "outputs": [],
      "source": []
    },
    {
      "cell_type": "markdown",
      "metadata": {
        "id": "Y9nT8f7zlKRp"
      },
      "source": [
        "#### Visualizing Data"
      ]
    },
    {
      "cell_type": "code",
      "execution_count": null,
      "metadata": {
        "colab": {
          "base_uri": "https://localhost:8080/",
          "height": 428
        },
        "id": "O8y5gOH5lliF",
        "outputId": "42344ef7-b3dc-46cf-e0db-f8f62f72b226"
      },
      "outputs": [],
      "source": [
        "plt.figure(figsize=(10,7))\n",
        "# Plot training data\n",
        "plt.scatter(X_train, Y_train, c=\"b\", label=\"Training Data\")\n",
        "\n",
        "# Plotting the test data\n",
        "plt.scatter(X_test, Y_test, c=\"g\", label=\"Test Data\")\n",
        "\n",
        "# Show a legend\n",
        "plt.legend();"
      ]
    },
    {
      "cell_type": "code",
      "execution_count": null,
      "metadata": {
        "id": "IEJW_IT6mHs8"
      },
      "outputs": [],
      "source": [
        "# Lets take a look on how to build a neural netwokrk for our data\n",
        "\n",
        "model  =tf.keras.Sequential([\n",
        "    tf.keras.layers.Dense(1, input_shape=(1,))\n",
        "])\n",
        "\n",
        "model.compile(loss=tf.keras.losses.mae,\n",
        "              optimizer = tf.keras.optimizers.SGD(),\n",
        "              metrics=[\"mae\"])\n",
        "\n",
        "# model.fit(X_train,Y_train, epochs=100)"
      ]
    },
    {
      "cell_type": "code",
      "execution_count": null,
      "metadata": {
        "colab": {
          "base_uri": "https://localhost:8080/"
        },
        "id": "IEUt3a2AoTq8",
        "outputId": "8afcb3c9-64b3-466f-a7d8-6b341c074ac8"
      },
      "outputs": [],
      "source": [
        "\n",
        "model.summary()"
      ]
    },
    {
      "cell_type": "code",
      "execution_count": null,
      "metadata": {
        "id": "j-O7HvD4olNL"
      },
      "outputs": [],
      "source": [
        "# Lets create a model  that build automatically be defining the input_shape argument in the first layer"
      ]
    },
    {
      "cell_type": "code",
      "execution_count": null,
      "metadata": {
        "colab": {
          "base_uri": "https://localhost:8080/"
        },
        "id": "8w7dc6_IpDni",
        "outputId": "d2dceb0c-309c-495b-ec5a-383e3314f581"
      },
      "outputs": [],
      "source": [
        "tf.random.set_seed(42)\n",
        "\n",
        "model = tf.keras.Sequential([\n",
        "    tf.keras.layers.Dense(10, input_shape=[1])\n",
        "])\n",
        "\n",
        "model.compile(loss=tf.keras.losses.mae, optimizer=tf.keras.optimizers.SGD(),\n",
        "              metrics=[\"mae\"])\n",
        "\n",
        "model.summary()"
      ]
    },
    {
      "cell_type": "markdown",
      "metadata": {
        "id": "_Ln79O1LptQj"
      },
      "source": [
        "Total params is the total number of parameters in the model.\n",
        "\n",
        "Tainiable params - Parameters the model can update as it trains\n",
        "\n",
        "Non-trainable params: These params ain't updated during the training (typical  when other patterns are bringed from the trained models during **transfer learning**)"
      ]
    },
    {
      "cell_type": "code",
      "execution_count": null,
      "metadata": {
        "colab": {
          "base_uri": "https://localhost:8080/"
        },
        "id": "L-mAHOXsqufU",
        "outputId": "eb9bf785-cfb0-47bc-ee31-b088c9055356"
      },
      "outputs": [],
      "source": [
        "\n",
        "model.fit(X_train, Y_train, epochs=100, verbose=1)"
      ]
    },
    {
      "cell_type": "markdown",
      "metadata": {
        "id": "JH7Wgodjtf0y"
      },
      "source": [
        "### Visualizing Layers"
      ]
    },
    {
      "cell_type": "code",
      "execution_count": null,
      "metadata": {
        "colab": {
          "base_uri": "https://localhost:8080/"
        },
        "id": "l9NNOMJ9tPdN",
        "outputId": "93344b8e-4475-48bb-9e76-2a48bdcced2a"
      },
      "outputs": [],
      "source": [
        "model.summary()"
      ]
    },
    {
      "cell_type": "code",
      "execution_count": null,
      "metadata": {
        "colab": {
          "base_uri": "https://localhost:8080/",
          "height": 201
        },
        "id": "ZMW-WMT2tj0q",
        "outputId": "cbc56c90-a2af-4114-b9fe-4aedbd7d3828"
      },
      "outputs": [],
      "source": [
        "from keras.utils import plot_model\n",
        "\n",
        "plot_model(model, show_shapes=True)"
      ]
    },
    {
      "cell_type": "code",
      "execution_count": null,
      "metadata": {
        "id": "Sna0AgBWHBE_"
      },
      "outputs": [],
      "source": [
        "X_train = X[:40]\n",
        "X_test = X[40:]\n",
        "\n",
        "Y_train = Y[:40]\n",
        "Y_test = Y[40:]"
      ]
    },
    {
      "cell_type": "code",
      "execution_count": null,
      "metadata": {
        "id": "rBziKcGqt-CZ"
      },
      "outputs": [],
      "source": [
        "\n",
        "tf.random.set_seed(42)\n",
        "\n",
        "model = tf.keras.Sequential([\n",
        "    tf.keras.layers.Dense(10, input_shape=[1], name=\"InputLayer\"),\n",
        "    tf.keras.layers.Dense(1,name=\"Output_Layer\")\n",
        "],name=\"My_Model\")\n",
        "\n",
        "model.compile(loss=tf.keras.losses.mae,\n",
        "              optimizer=tf.keras.optimizers.SGD(),\n",
        "              metrics=[\"mae\"])"
      ]
    },
    {
      "cell_type": "code",
      "execution_count": null,
      "metadata": {
        "colab": {
          "base_uri": "https://localhost:8080/"
        },
        "id": "Yo4gnAgUBwrZ",
        "outputId": "261adc7c-a031-4178-9c4e-9457ae6f9ccf"
      },
      "outputs": [],
      "source": [
        "\n",
        "model.fit(X_train, Y_train,epochs=50, verbose=0)"
      ]
    },
    {
      "cell_type": "code",
      "execution_count": null,
      "metadata": {
        "colab": {
          "base_uri": "https://localhost:8080/"
        },
        "id": "6p0u_fPRATqv",
        "outputId": "444b6c77-f19a-4509-9f3f-5fc9fa215a84"
      },
      "outputs": [],
      "source": [
        "\n",
        "model.summary()"
      ]
    },
    {
      "cell_type": "code",
      "execution_count": null,
      "metadata": {
        "colab": {
          "base_uri": "https://localhost:8080/",
          "height": 312
        },
        "id": "fV0laGcIAxgC",
        "outputId": "2d182f0c-4fee-4dc5-ab7b-eadc2d5c263b"
      },
      "outputs": [],
      "source": [
        "\n",
        "plot_model(model, show_shapes=True)"
      ]
    },
    {
      "cell_type": "markdown",
      "metadata": {
        "id": "Mskr3BYpCKtH"
      },
      "source": [
        "So far we have seen about visualizing Layers"
      ]
    },
    {
      "cell_type": "markdown",
      "metadata": {
        "id": "gZ1wGjCYBc_E"
      },
      "source": [
        "### Visualizing Predictions\n",
        "\n",
        "TO visualize predictions, it is a good idea to pplt them against the good truth table\n",
        "\n",
        "Often you'll see this in thr form of `y_test` or `y_true` versus `y_pred`"
      ]
    },
    {
      "cell_type": "code",
      "execution_count": null,
      "metadata": {
        "colab": {
          "base_uri": "https://localhost:8080/"
        },
        "id": "xsaOCF_QGjIQ",
        "outputId": "6162999c-7adc-4b96-998d-abaecc058c2f"
      },
      "outputs": [],
      "source": [
        "X_test"
      ]
    },
    {
      "cell_type": "code",
      "execution_count": null,
      "metadata": {
        "colab": {
          "base_uri": "https://localhost:8080/"
        },
        "id": "2LUrozkhCQyB",
        "outputId": "4fa3acdc-229b-45ec-b247-b7c493c41c0f"
      },
      "outputs": [],
      "source": [
        "y_pred = model.predict(X_test)\n",
        "y_pred"
      ]
    },
    {
      "cell_type": "code",
      "execution_count": null,
      "metadata": {
        "colab": {
          "base_uri": "https://localhost:8080/"
        },
        "id": "hJjS83XuGgnJ",
        "outputId": "fc5b7eb3-3c80-4962-8d9d-a9e4a2105904"
      },
      "outputs": [],
      "source": [
        "Y_test"
      ]
    },
    {
      "cell_type": "code",
      "execution_count": null,
      "metadata": {
        "id": "3M1tqaBzGr2B"
      },
      "outputs": [],
      "source": [
        "# Let's create a plotting functions so that we can use it when needed\n",
        "\n",
        "def plot_pred(train_data=X_train,\n",
        "              train_labels=Y_train, \n",
        "              test_data=X_test,\n",
        "              test_label=Y_test, \n",
        "              predictions=y_pred):\n",
        "  plt.figure(figsize=(10,7))\n",
        "  plt.scatter(train_data, train_labels,c=\"b\", label=\"Training Data\")\n",
        "  plt.scatter(test_data, test_label,c=\"g\", label=\"Test Data\")\n",
        "  plt.scatter(test_data,predictions,c=\"r\", label=\"Predictions\")\n",
        "  plt.legend();\n"
      ]
    },
    {
      "cell_type": "code",
      "execution_count": null,
      "metadata": {
        "colab": {
          "base_uri": "https://localhost:8080/",
          "height": 428
        },
        "id": "hOQRDZoxJg67",
        "outputId": "7993f610-186e-4556-ae2d-f946255e1ffe"
      },
      "outputs": [],
      "source": [
        "plot_pred();"
      ]
    },
    {
      "cell_type": "markdown",
      "metadata": {
        "id": "2JqdxVtwLKTw"
      },
      "source": [
        "Evaluating model predictions with regression evaluation metrics\n",
        "\n",
        "Different evaluating metrice to evaluate model's performance\n",
        "\n",
        "+ **MAE** : Mean Absolute Error, on a average, how wrong is each of the model prediction\n",
        "\n",
        "+ **MSE** : Mean Square Error, Sqare the average errors"
      ]
    },
    {
      "cell_type": "code",
      "execution_count": null,
      "metadata": {
        "colab": {
          "base_uri": "https://localhost:8080/"
        },
        "id": "_l7jzzbwJiym",
        "outputId": "9711ee8c-3fdd-4957-9fc6-709775676fc3"
      },
      "outputs": [],
      "source": [
        "# Evaluate the model on test set\n",
        "model.evaluate(X_test, tf.constant(Y_test))"
      ]
    },
    {
      "cell_type": "code",
      "execution_count": null,
      "metadata": {
        "id": "1nkOpHatMvmz"
      },
      "outputs": [],
      "source": []
    },
    {
      "cell_type": "code",
      "execution_count": null,
      "metadata": {
        "colab": {
          "base_uri": "https://localhost:8080/"
        },
        "id": "yM3ZH0l7MbFJ",
        "outputId": "aa934a35-3992-4bae-ceff-1a6dcc5af4ec"
      },
      "outputs": [],
      "source": [
        "y_pred, Y_test"
      ]
    },
    {
      "cell_type": "code",
      "execution_count": null,
      "metadata": {
        "colab": {
          "base_uri": "https://localhost:8080/"
        },
        "id": "0ayUm5ayMrM5",
        "outputId": "489d6a8e-d90f-4323-de9d-3c5d314f84c7"
      },
      "outputs": [],
      "source": [
        "# Calculating mean absolute error\n",
        "\n",
        "mae = tf.metrics.mean_absolute_error(Y_test, tf.squeeze(y_pred))\n",
        "mae"
      ]
    },
    {
      "cell_type": "code",
      "execution_count": null,
      "metadata": {
        "colab": {
          "base_uri": "https://localhost:8080/"
        },
        "id": "LSABU1KZODeh",
        "outputId": "0ff2ed87-f9a9-430a-c36d-31fea09ac54b"
      },
      "outputs": [],
      "source": [
        "# Calculate mean square error\n",
        "mse = tf.metrics.mean_squared_error(Y_test, tf.squeeze(y_pred))\n",
        "mse"
      ]
    },
    {
      "cell_type": "code",
      "execution_count": null,
      "metadata": {
        "colab": {
          "base_uri": "https://localhost:8080/"
        },
        "id": "JHjo9vnwONf1",
        "outputId": "841e3731-4237-4a1b-85da-f6a87c54607f"
      },
      "outputs": [],
      "source": [
        "hub = tf.keras.losses.huber(Y_test, tf.squeeze(y_pred))\n",
        "hub"
      ]
    },
    {
      "cell_type": "code",
      "execution_count": null,
      "metadata": {
        "id": "4C0uLnEFOa-X"
      },
      "outputs": [],
      "source": [
        "# Make some function to reuse mse and mae\n",
        "def mae(y_true, y_pred):\n",
        "  return tf.metrics.mean_absolute_error(Y_test, tf.squeeze(y_pred))\n",
        "\n",
        "def mse(y_true, y_pred):\n",
        "  return tf.metrics.mean_squared_error(Y_test, tf.squeeze(y_pred))"
      ]
    },
    {
      "cell_type": "markdown",
      "metadata": {
        "id": "Bq1JtDfuO1Qu"
      },
      "source": [
        "### Running experiments to improve a model\n",
        "\n",
        "Build - Fit - Evaluate - Tweak - Repeat\n",
        "\n",
        "1. Get more data(more opportunites to learn from data)\n",
        "2. Make your model larger(using more complex model, layers, hidden units, epoch)\n",
        "\n",
        "### 3 Modelling Experiments\n",
        "\n",
        "1. `model 1` : 1 Layer - 100 Epochs\n",
        "2. `model 2` : 2 layers - 100 EPochs\n",
        "3. `model 3` : 2 layers - 500 epochs"
      ]
    },
    {
      "cell_type": "code",
      "execution_count": null,
      "metadata": {
        "colab": {
          "base_uri": "https://localhost:8080/"
        },
        "id": "qUprnq2SPTnF",
        "outputId": "68169080-2706-4b85-f103-7cf1dcd023cd"
      },
      "outputs": [],
      "source": [
        "X_train, Y_train"
      ]
    },
    {
      "cell_type": "code",
      "execution_count": null,
      "metadata": {
        "colab": {
          "base_uri": "https://localhost:8080/"
        },
        "id": "OYfQi7gBPrxL",
        "outputId": "fb2da918-bcc8-4151-a031-a7c9352aa7c1"
      },
      "outputs": [],
      "source": [
        "# Set random seed\n",
        "tf.random.set_seed(42)\n",
        "\n",
        "model_1 = tf.keras.Sequential([\n",
        "    tf.keras.layers.Dense(1, input_shape=[1]),\n",
        "])\n",
        "\n",
        "model_1.compile(loss=tf.keras.losses.mae,\n",
        "                optimizer=tf.keras.optimizers.SGD(),\n",
        "                metrics=[\"mae\"])\n",
        "\n",
        "model_1.fit(X_train,Y_train, epochs=100)"
      ]
    },
    {
      "cell_type": "code",
      "execution_count": null,
      "metadata": {
        "colab": {
          "base_uri": "https://localhost:8080/",
          "height": 445
        },
        "id": "IIoGGzzxQtDf",
        "outputId": "a48368be-d7da-4fa4-9811-170e9b8fbd20"
      },
      "outputs": [],
      "source": [
        "# Make and plot for prediction 1\n",
        "\n",
        "y_pred_1 = model_1.predict(X_test)\n",
        "plot_pred(predictions=y_pred_1)"
      ]
    },
    {
      "cell_type": "code",
      "execution_count": null,
      "metadata": {
        "colab": {
          "base_uri": "https://localhost:8080/"
        },
        "id": "Qr5s373GRWXQ",
        "outputId": "ef73bcb4-3941-436e-ad0a-dfa511f9b18e"
      },
      "outputs": [],
      "source": [
        "mae_1 = mae(Y_test, y_pred_1)\n",
        "mse_1 = mse(Y_test, y_pred_1)\n",
        "mae_1,mse_1"
      ]
    },
    {
      "cell_type": "code",
      "execution_count": null,
      "metadata": {
        "colab": {
          "base_uri": "https://localhost:8080/"
        },
        "id": "4F1XmvzVRpMe",
        "outputId": "6ab74e4a-9662-454c-9f43-94cf7fe9cd81"
      },
      "outputs": [],
      "source": [
        "# Second Model\n",
        "tf.random.set_seed(42)\n",
        "model_2 = tf.keras.Sequential([\n",
        "    tf.keras.layers.Dense(10,input_shape=[1]),\n",
        "    tf.keras.layers.Dense(1)\n",
        "\n",
        "])\n",
        "model_2.compile(loss=tf.keras.losses.mae,\n",
        "                optimizer=tf.keras.optimizers.SGD(),\n",
        "                metrics=[\"mse\"])\n",
        "model_2.fit(X_train, Y_train, epochs=100)"
      ]
    },
    {
      "cell_type": "code",
      "execution_count": null,
      "metadata": {
        "colab": {
          "base_uri": "https://localhost:8080/"
        },
        "id": "SgRAOwGtS10X",
        "outputId": "aeca0f38-515b-4c4f-e2d1-4222c7b00c30"
      },
      "outputs": [],
      "source": [
        "# Make and plot pred\n",
        "y_pred_2 = model_2.predict(X_test)\n",
        "y_pred_2"
      ]
    },
    {
      "cell_type": "code",
      "execution_count": null,
      "metadata": {
        "colab": {
          "base_uri": "https://localhost:8080/",
          "height": 428
        },
        "id": "mVxII0moTN94",
        "outputId": "a6c7c994-41bd-4ec1-d533-cf6001f46726"
      },
      "outputs": [],
      "source": [
        "plot_pred(predictions=y_pred_2)"
      ]
    },
    {
      "cell_type": "code",
      "execution_count": null,
      "metadata": {
        "colab": {
          "base_uri": "https://localhost:8080/"
        },
        "id": "6mh1Y2RXTT3m",
        "outputId": "e99292d8-35ca-46f2-9ea4-448d613ba5dd"
      },
      "outputs": [],
      "source": [
        "mae_2 = mae(X_test,y_pred_2)\n",
        "mse_2 = mse(X_test, y_pred_2)\n",
        "mae_2,mse_2"
      ]
    },
    {
      "cell_type": "code",
      "execution_count": null,
      "metadata": {
        "colab": {
          "base_uri": "https://localhost:8080/"
        },
        "id": "O4lRWg-vTfRo",
        "outputId": "091c6829-0fd2-45b6-815c-736986255ce1"
      },
      "outputs": [],
      "source": [
        "# Third Model\n",
        "tf.random.set_seed(42)\n",
        "model_3 = tf.keras.Sequential([\n",
        "    tf.keras.layers.Dense(10,input_shape=[1]),\n",
        "    tf.keras.layers.Dense(1)\n",
        "\n",
        "])\n",
        "model_3.compile(loss=tf.keras.losses.mae,\n",
        "                optimizer=tf.keras.optimizers.SGD(),\n",
        "                metrics=[\"mse\"])\n",
        "model_3.fit(X_train, Y_train, epochs=500)"
      ]
    },
    {
      "cell_type": "code",
      "execution_count": null,
      "metadata": {
        "colab": {
          "base_uri": "https://localhost:8080/"
        },
        "id": "Es_PwT6iT5gF",
        "outputId": "157afb10-bdcf-4a66-dfe3-fd290d18bc34"
      },
      "outputs": [],
      "source": [
        "y_pred_3 = model_3.predict(X_test)\n",
        "y_pred_3"
      ]
    },
    {
      "cell_type": "code",
      "execution_count": null,
      "metadata": {
        "colab": {
          "base_uri": "https://localhost:8080/",
          "height": 428
        },
        "id": "Db3FC3QiUD0-",
        "outputId": "03513bc3-734f-4772-ef8a-1c60c17f3825"
      },
      "outputs": [],
      "source": [
        "\n",
        "# Plot\n",
        "plot_pred(predictions=y_pred_3)"
      ]
    },
    {
      "cell_type": "code",
      "execution_count": null,
      "metadata": {
        "colab": {
          "base_uri": "https://localhost:8080/"
        },
        "id": "GnjsbDl4UJUb",
        "outputId": "44a9aff2-f744-480c-baab-7ba12b495681"
      },
      "outputs": [],
      "source": [
        "mae_3 = mae(X_test,y_pred_3)\n",
        "mse_3 = mse(X_test, y_pred_3)\n",
        "mae_3, mse_3"
      ]
    },
    {
      "cell_type": "markdown",
      "metadata": {
        "id": "lGzVr8k6hVa-"
      },
      "source": [
        "**Note**\n",
        "+ You want to start with small experiment, then scale if necessary.\n",
        "\n"
      ]
    },
    {
      "cell_type": "markdown",
      "metadata": {
        "id": "u0VysSWSURNx"
      },
      "source": [
        "### Comparing and tracking the result of experiment"
      ]
    },
    {
      "cell_type": "code",
      "execution_count": null,
      "metadata": {
        "colab": {
          "base_uri": "https://localhost:8080/",
          "height": 143
        },
        "id": "vxcMJWsYhISu",
        "outputId": "9e8f283d-98e3-477b-cf92-8bd4adcd300c"
      },
      "outputs": [],
      "source": [
        "### Let's compare model with pandas\n",
        "import pandas as pd\n",
        "\n",
        "model_result = [\n",
        "    [\"model_1\",mae_1.numpy(),mse_1.numpy()],\n",
        "    [\"model_2\",mae_2.numpy(),mse_2.numpy()],\n",
        "    [\"model_3\",mae_3.numpy(),mse_3.numpy()]\n",
        "]\n",
        "\n",
        "all_result = pd.DataFrame(model_result, columns=['Model',\"MAE\",\"MSE\"])\n",
        "all_result"
      ]
    },
    {
      "cell_type": "code",
      "execution_count": null,
      "metadata": {
        "colab": {
          "base_uri": "https://localhost:8080/"
        },
        "id": "uM_xc6oZhctp",
        "outputId": "603dfb73-6982-4f2f-fc4e-01d6a5a295d1"
      },
      "outputs": [],
      "source": [
        "model_2.summary()"
      ]
    },
    {
      "cell_type": "markdown",
      "metadata": {
        "id": "cV69AFGBkbU8"
      },
      "source": [
        "> One of the main goal should be to minimize the time needed to model a experiment."
      ]
    },
    {
      "cell_type": "markdown",
      "metadata": {
        "id": "kompr3xgkmVQ"
      },
      "source": [
        "### Tracking your experiment : \n",
        "\n",
        "+ One really good habit is to track result of your experiment\n",
        "+ Doing so can be tidious if you are running lots of experments\n",
        "+ Lickily, there are tools to help us \n",
        "+ One of the most famous is `TensorBoard` to help modelling experiment\n",
        "+ `Weights and Biases` - tool used for tracking all kinds of machine learning model."
      ]
    },
    {
      "cell_type": "markdown",
      "metadata": {
        "id": "a0gvUFt1lMTU"
      },
      "source": [
        "### Save a model \n",
        "\n",
        "+ Saving our model helps us to use our model outside the application(like web or app)\n",
        "\n",
        "+ There are two main methods we can save our models to.\n",
        "+ The SavedModel format\n",
        "+ HDF5 model."
      ]
    },
    {
      "cell_type": "code",
      "execution_count": null,
      "metadata": {
        "id": "CMvKDo6Ploli"
      },
      "outputs": [],
      "source": [
        "model_2.save(\"best_model_SavedModel_format\")"
      ]
    },
    {
      "cell_type": "code",
      "execution_count": null,
      "metadata": {
        "id": "ZILVuDHvmxDK"
      },
      "outputs": [],
      "source": [
        "# Save model  using HDF5 format\n",
        "model_2.save(\"best_model_HDF5_Format.h5\")"
      ]
    },
    {
      "cell_type": "markdown",
      "metadata": {
        "id": "mgq4s0Ngs5af"
      },
      "source": [
        "### Load a saved model"
      ]
    },
    {
      "cell_type": "code",
      "execution_count": null,
      "metadata": {
        "colab": {
          "base_uri": "https://localhost:8080/"
        },
        "id": "qtCnjmTLtMLC",
        "outputId": "1328dec4-79e9-4ecc-ae81-680e1a1f5149"
      },
      "outputs": [],
      "source": [
        "new_model = tf.keras.models.load_model(\"best_model_SavedModel_format\")\n",
        "new_model.summary()"
      ]
    },
    {
      "cell_type": "code",
      "execution_count": null,
      "metadata": {
        "colab": {
          "base_uri": "https://localhost:8080/"
        },
        "id": "8zcX2DWRtaLt",
        "outputId": "9b416ba8-6c92-423c-a145-3d3bc0284924"
      },
      "outputs": [],
      "source": [
        "model_2_pred = model_2.predict(X_test)\n",
        "loaded_model = new_model.predict(X_test)"
      ]
    },
    {
      "cell_type": "code",
      "execution_count": null,
      "metadata": {
        "colab": {
          "base_uri": "https://localhost:8080/"
        },
        "id": "_cc860PMuAu5",
        "outputId": "ce1c6d54-f721-457e-8912-879ccb75600d"
      },
      "outputs": [],
      "source": [
        "model_2_pred == loaded_model"
      ]
    },
    {
      "cell_type": "code",
      "execution_count": null,
      "metadata": {
        "colab": {
          "base_uri": "https://localhost:8080/"
        },
        "id": "38JPO3wOuFZ9",
        "outputId": "9a67d549-4c80-45a3-9655-2d07b5562de1"
      },
      "outputs": [],
      "source": [
        "mae(y_true=Y_test,y_pred=model_2_pred) == mae(y_true=Y_test,y_pred=loaded_model) "
      ]
    },
    {
      "cell_type": "code",
      "execution_count": null,
      "metadata": {
        "id": "2wUPqX8QuUo5"
      },
      "outputs": [],
      "source": [
        "# Load model of H5 format\n",
        "\n",
        "h5_model = tf.keras.models.load_model(\"best_model_HDF5_Format.h5\")\n"
      ]
    },
    {
      "cell_type": "code",
      "execution_count": null,
      "metadata": {
        "colab": {
          "base_uri": "https://localhost:8080/"
        },
        "id": "ogg11LcFu1sH",
        "outputId": "f7a9a982-f7b6-499f-e89c-755717a206e4"
      },
      "outputs": [],
      "source": [
        "model_2_pred = model_2.predict(X_test)\n",
        "h5_model_pred = new_model.predict(X_test)\n",
        "\n",
        "model_2_pred == h5_model_pred"
      ]
    },
    {
      "cell_type": "markdown",
      "metadata": {
        "id": "IFpAx6f79bCn"
      },
      "source": [
        "### A large example : On more feature rich dataset"
      ]
    },
    {
      "cell_type": "code",
      "execution_count": null,
      "metadata": {
        "id": "LjPn0Qe597Nb"
      },
      "outputs": [],
      "source": []
    }
  ],
  "metadata": {
    "colab": {
      "collapsed_sections": [],
      "provenance": []
    },
    "kernelspec": {
      "display_name": "Python 3.10.4 64-bit",
      "language": "python",
      "name": "python3"
    },
    "language_info": {
      "codemirror_mode": {
        "name": "ipython",
        "version": 3
      },
      "file_extension": ".py",
      "mimetype": "text/x-python",
      "name": "python",
      "nbconvert_exporter": "python",
      "pygments_lexer": "ipython3",
      "version": "3.10.4"
    },
    "vscode": {
      "interpreter": {
        "hash": "49925a85a85dac8a2dca5afbebde9d93135fdd4b812dbf89ef8044a5eedbb9bf"
      }
    }
  },
  "nbformat": 4,
  "nbformat_minor": 0
}
