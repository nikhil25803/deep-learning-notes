{
  "cells": [
    {
      "cell_type": "markdown",
      "metadata": {
        "id": "rOlp4wa7tygG"
      },
      "source": [
        "## Regression Analysis |"
      ]
    },
    {
      "cell_type": "markdown",
      "metadata": {
        "id": "78slVA0nsNKO"
      },
      "source": [
        "# Introduction to Regression with Neural Networks in Tensorflow\n",
        "\n",
        "Regression model is predicting a numerical variable based on some other combination of variables, or in short, predicting a number."
      ]
    },
    {
      "cell_type": "code",
      "execution_count": 1,
      "metadata": {
        "id": "2EkXGDy55HC8"
      },
      "outputs": [],
      "source": [
        "import tensorflow as tf"
      ]
    },
    {
      "cell_type": "code",
      "execution_count": 2,
      "metadata": {
        "colab": {
          "base_uri": "https://localhost:8080/"
        },
        "id": "3c5OAx_g7u3R",
        "outputId": "544218b3-f1eb-4230-ae3a-192318e36c11"
      },
      "outputs": [
        {
          "name": "stdout",
          "output_type": "stream",
          "text": [
            "2.10.0\n"
          ]
        }
      ],
      "source": [
        "print(tf.__version__)"
      ]
    },
    {
      "cell_type": "markdown",
      "metadata": {
        "id": "rbNGjoHn7yyD"
      },
      "source": [
        "# Creating some data to view and fit"
      ]
    },
    {
      "cell_type": "code",
      "execution_count": 3,
      "metadata": {
        "id": "TcJASBTp8AxK"
      },
      "outputs": [],
      "source": [
        "import numpy as np\n",
        "import matplotlib.pyplot as plt\n"
      ]
    },
    {
      "cell_type": "code",
      "execution_count": 5,
      "metadata": {
        "colab": {
          "base_uri": "https://localhost:8080/",
          "height": 286
        },
        "id": "nG6t_ETl8FuU",
        "outputId": "67fa8007-3c32-4bf2-d4f6-92879b948dd3"
      },
      "outputs": [
        {
          "data": {
            "text/plain": [
              "numpy.ndarray"
            ]
          },
          "execution_count": 5,
          "metadata": {},
          "output_type": "execute_result"
        },
        {
          "data": {
            "image/png": "[encoded data removed]",
            "text/plain": [
              "<Figure size 432x288 with 1 Axes>"
            ]
          },
          "metadata": {
            "needs_background": "light"
          },
          "output_type": "display_data"
        }
      ],
      "source": [
        "# Create features\n",
        "X = np.array([-7.0,-4.0,-1.0,2.0,5.0,8.0,11.0,14.0])\n",
        "# Labels\n",
        "Y = np.array([3.0,6.0,9.0,12.0,15.0,18.0,21.0,24.0])\n",
        "\n",
        "# Visualize it\n",
        "plt.scatter(X, Y)\n",
        "type(X)"
      ]
    },
    {
      "cell_type": "code",
      "execution_count": 9,
      "metadata": {
        "colab": {
          "base_uri": "https://localhost:8080/"
        },
        "id": "CRCoVkgi8du_",
        "outputId": "3a32087d-7328-41d6-f8f3-0745558aac49"
      },
      "outputs": [
        {
          "data": {
            "text/plain": [
              "array([ True,  True,  True,  True,  True,  True,  True,  True])"
            ]
          },
          "execution_count": 9,
          "metadata": {},
          "output_type": "execute_result"
        }
      ],
      "source": [
        "Y == X+10"
      ]
    },
    {
      "cell_type": "code",
      "execution_count": 10,
      "metadata": {
        "colab": {
          "base_uri": "https://localhost:8080/"
        },
        "id": "v3gMu8u9CakN",
        "outputId": "50404019-a881-47dd-8340-020d05eb8eed"
      },
      "outputs": [
        {
          "data": {
            "text/plain": [
              "((8,), (8,))"
            ]
          },
          "execution_count": 10,
          "metadata": {},
          "output_type": "execute_result"
        }
      ],
      "source": [
        "input_shape = X.shape\n",
        "output_shape = Y.shape\n",
        "input_shape, output_shape"
      ]
    },
    {
      "cell_type": "code",
      "execution_count": 11,
      "metadata": {
        "colab": {
          "base_uri": "https://localhost:8080/"
        },
        "id": "JXnY_qfLCjH5",
        "outputId": "005f698a-1528-4d5a-ef56-4c48425a6a9d"
      },
      "outputs": [
        {
          "data": {
            "text/plain": [
              "(1, 1)"
            ]
          },
          "execution_count": 11,
          "metadata": {},
          "output_type": "execute_result"
        }
      ],
      "source": [
        "## Turn numpy arrays into tensors\n",
        "\n",
        "X = tf.constant(X)\n",
        "y = tf.constant(Y)\n",
        "X.ndim,y.ndim"
      ]
    },
    {
      "cell_type": "code",
      "execution_count": null,
      "metadata": {
        "id": "KnuEO6wISrQN"
      },
      "outputs": [],
      "source": [
        "\n"
      ]
    },
    {
      "cell_type": "markdown",
      "metadata": {
        "id": "LukEzpqHErHo"
      },
      "source": [
        "### Steps in creating a model\n",
        "\n",
        "+ Define and input and output layers\n",
        "+ Define hidden layers\n",
        "+ Compile a model\n",
        "+ Optimizer\n",
        "+ Evaluation metrics\n",
        "+ Fitting a model\n"
      ]
    },
    {
      "cell_type": "code",
      "execution_count": 12,
      "metadata": {
        "colab": {
          "base_uri": "https://localhost:8080/"
        },
        "id": "bxQfEsE4E20W",
        "outputId": "38d59aef-c97b-466b-845a-6d5a6203b88f"
      },
      "outputs": [
        {
          "name": "stdout",
          "output_type": "stream",
          "text": [
            "Epoch 1/5\n",
            "1/1 [==============================] - 0s 315ms/step - loss: 13.1142 - mae: 13.1142\n",
            "Epoch 2/5\n",
            "1/1 [==============================] - 0s 4ms/step - loss: 12.9817 - mae: 12.9817\n",
            "Epoch 3/5\n",
            "1/1 [==============================] - 0s 6ms/step - loss: 12.8492 - mae: 12.8492\n",
            "Epoch 4/5\n",
            "1/1 [==============================] - 0s 5ms/step - loss: 12.7167 - mae: 12.7167\n",
            "Epoch 5/5\n",
            "1/1 [==============================] - 0s 5ms/step - loss: 12.5842 - mae: 12.5842\n"
          ]
        },
        {
          "data": {
            "text/plain": [
              "<keras.callbacks.History at 0x1ba5a863a00>"
            ]
          },
          "execution_count": 12,
          "metadata": {},
          "output_type": "execute_result"
        }
      ],
      "source": [
        "# Set random seed\n",
        "tf.random.set_seed(42)\n",
        "\n",
        "# Create a model using Sequential API\n",
        "\n",
        "model = tf.keras.Sequential([\n",
        "    tf.keras.layers.Dense(1, input_shape=(1,))\n",
        "])\n",
        "\n",
        "# Compile the model\n",
        "model.compile(loss=tf.keras.losses.mae,\n",
        "              optimizer=tf.keras.optimizers.SGD(),\n",
        "              metrics=[\"mae\"])\n",
        "\n",
        "# Fit the model\n",
        "model.fit(X,y, epochs=5)"
      ]
    },
    {
      "cell_type": "code",
      "execution_count": 13,
      "metadata": {
        "colab": {
          "base_uri": "https://localhost:8080/"
        },
        "id": "v8N3Mp1SR-DS",
        "outputId": "19466443-0908-4322-d5f7-807afd38a55d"
      },
      "outputs": [
        {
          "data": {
            "text/plain": [
              "(<tf.Tensor: shape=(8,), dtype=float64, numpy=array([-7., -4., -1.,  2.,  5.,  8., 11., 14.])>,\n",
              " <tf.Tensor: shape=(8,), dtype=float64, numpy=array([ 3.,  6.,  9., 12., 15., 18., 21., 24.])>)"
            ]
          },
          "execution_count": 13,
          "metadata": {},
          "output_type": "execute_result"
        }
      ],
      "source": [
        "X,y"
      ]
    },
    {
      "cell_type": "code",
      "execution_count": 14,
      "metadata": {
        "colab": {
          "base_uri": "https://localhost:8080/"
        },
        "id": "mSpTwEUGSM7D",
        "outputId": "b486a082-1da8-4591-cfe6-1f818083f414"
      },
      "outputs": [
        {
          "name": "stdout",
          "output_type": "stream",
          "text": [
            "1/1 [==============================] - 0s 83ms/step\n"
          ]
        },
        {
          "data": {
            "text/plain": [
              "array([[15.899009]], dtype=float32)"
            ]
          },
          "execution_count": 14,
          "metadata": {},
          "output_type": "execute_result"
        }
      ],
      "source": [
        "# Try to make a prediction using a model\n",
        "\n",
        "y_pred =  model.predict([17.0])\n",
        "y_pred+11"
      ]
    },
    {
      "cell_type": "markdown",
      "metadata": {
        "id": "gS-l6EMCTyle"
      },
      "source": [
        "### Improving the model\n",
        "\n",
        "We can improve the model  by altering the steps we used while creating a model.\n",
        "\n",
        "+ **Creating a model**\n",
        "\n",
        "Here we might add more layers, increase the number of neurons, change activation function of each layer\n",
        "\n",
        "+ **Compiling a model**\n",
        "\n",
        "Here we might change the optimization function or perhaps **learning rate** of the optimization funxtion\n",
        "\n",
        "+ **Fiting a  model** \n",
        "\n",
        "More epochs(leave it trainig for longer) and give model more examples to learn from."
      ]
    },
    {
      "cell_type": "code",
      "execution_count": 15,
      "metadata": {
        "id": "T0CyE4-gSVHp"
      },
      "outputs": [],
      "source": [
        "# Rebuild the model"
      ]
    },
    {
      "cell_type": "code",
      "execution_count": 16,
      "metadata": {
        "colab": {
          "base_uri": "https://localhost:8080/"
        },
        "id": "Qy34Z5aR0rUo",
        "outputId": "c0773ec6-8e23-4fd3-b7d8-5867eb00f679"
      },
      "outputs": [
        {
          "name": "stdout",
          "output_type": "stream",
          "text": [
            "Epoch 1/100\n",
            "1/1 [==============================] - 0s 226ms/step - loss: 9.6376 - mae: 9.6376\n",
            "Epoch 2/100\n",
            "1/1 [==============================] - 0s 3ms/step - loss: 9.5051 - mae: 9.5051\n",
            "Epoch 3/100\n",
            "1/1 [==============================] - 0s 4ms/step - loss: 9.3726 - mae: 9.3726\n",
            "Epoch 4/100\n",
            "1/1 [==============================] - 0s 3ms/step - loss: 9.2401 - mae: 9.2401\n",
            "Epoch 5/100\n",
            "1/1 [==============================] - 0s 4ms/step - loss: 9.1076 - mae: 9.1076\n",
            "Epoch 6/100\n",
            "1/1 [==============================] - 0s 6ms/step - loss: 8.9751 - mae: 8.9751\n",
            "Epoch 7/100\n",
            "1/1 [==============================] - 0s 5ms/step - loss: 8.8426 - mae: 8.8426\n",
            "Epoch 8/100\n",
            "1/1 [==============================] - 0s 4ms/step - loss: 8.7101 - mae: 8.7101\n",
            "Epoch 9/100\n",
            "1/1 [==============================] - 0s 4ms/step - loss: 8.5776 - mae: 8.5776\n",
            "Epoch 10/100\n",
            "1/1 [==============================] - 0s 3ms/step - loss: 8.4451 - mae: 8.4451\n",
            "Epoch 11/100\n",
            "1/1 [==============================] - 0s 5ms/step - loss: 8.3126 - mae: 8.3126\n",
            "Epoch 12/100\n",
            "1/1 [==============================] - 0s 3ms/step - loss: 8.1801 - mae: 8.1801\n",
            "Epoch 13/100\n",
            "1/1 [==============================] - 0s 5ms/step - loss: 8.0476 - mae: 8.0476\n",
            "Epoch 14/100\n",
            "1/1 [==============================] - 0s 4ms/step - loss: 7.9151 - mae: 7.9151\n",
            "Epoch 15/100\n",
            "1/1 [==============================] - 0s 4ms/step - loss: 7.7826 - mae: 7.7826\n",
            "Epoch 16/100\n",
            "1/1 [==============================] - 0s 4ms/step - loss: 7.6501 - mae: 7.6501\n",
            "Epoch 17/100\n",
            "1/1 [==============================] - 0s 4ms/step - loss: 7.5176 - mae: 7.5176\n",
            "Epoch 18/100\n",
            "1/1 [==============================] - 0s 4ms/step - loss: 7.3851 - mae: 7.3851\n",
            "Epoch 19/100\n",
            "1/1 [==============================] - 0s 3ms/step - loss: 7.3650 - mae: 7.3650\n",
            "Epoch 20/100\n",
            "1/1 [==============================] - 0s 4ms/step - loss: 7.3594 - mae: 7.3594\n",
            "Epoch 21/100\n",
            "1/1 [==============================] - 0s 5ms/step - loss: 7.3538 - mae: 7.3538\n",
            "Epoch 22/100\n",
            "1/1 [==============================] - 0s 5ms/step - loss: 7.3481 - mae: 7.3481\n",
            "Epoch 23/100\n",
            "1/1 [==============================] - 0s 5ms/step - loss: 7.3425 - mae: 7.3425\n",
            "Epoch 24/100\n",
            "1/1 [==============================] - 0s 5ms/step - loss: 7.3369 - mae: 7.3369\n",
            "Epoch 25/100\n",
            "1/1 [==============================] - 0s 4ms/step - loss: 7.3313 - mae: 7.3313\n",
            "Epoch 26/100\n",
            "1/1 [==============================] - 0s 4ms/step - loss: 7.3256 - mae: 7.3256\n",
            "Epoch 27/100\n",
            "1/1 [==============================] - 0s 4ms/step - loss: 7.3200 - mae: 7.3200\n",
            "Epoch 28/100\n",
            "1/1 [==============================] - 0s 4ms/step - loss: 7.3144 - mae: 7.3144\n",
            "Epoch 29/100\n",
            "1/1 [==============================] - 0s 4ms/step - loss: 7.3088 - mae: 7.3088\n",
            "Epoch 30/100\n",
            "1/1 [==============================] - 0s 4ms/step - loss: 7.3031 - mae: 7.3031\n",
            "Epoch 31/100\n",
            "1/1 [==============================] - 0s 4ms/step - loss: 7.2975 - mae: 7.2975\n",
            "Epoch 32/100\n",
            "1/1 [==============================] - 0s 3ms/step - loss: 7.2919 - mae: 7.2919\n",
            "Epoch 33/100\n",
            "1/1 [==============================] - 0s 4ms/step - loss: 7.2863 - mae: 7.2863\n",
            "Epoch 34/100\n",
            "1/1 [==============================] - 0s 4ms/step - loss: 7.2806 - mae: 7.2806\n",
            "Epoch 35/100\n",
            "1/1 [==============================] - 0s 5ms/step - loss: 7.2750 - mae: 7.2750\n",
            "Epoch 36/100\n",
            "1/1 [==============================] - 0s 5ms/step - loss: 7.2694 - mae: 7.2694\n",
            "Epoch 37/100\n",
            "1/1 [==============================] - 0s 5ms/step - loss: 7.2638 - mae: 7.2638\n",
            "Epoch 38/100\n",
            "1/1 [==============================] - 0s 5ms/step - loss: 7.2581 - mae: 7.2581\n",
            "Epoch 39/100\n",
            "1/1 [==============================] - 0s 4ms/step - loss: 7.2525 - mae: 7.2525\n",
            "Epoch 40/100\n",
            "1/1 [==============================] - 0s 4ms/step - loss: 7.2469 - mae: 7.2469\n",
            "Epoch 41/100\n",
            "1/1 [==============================] - 0s 4ms/step - loss: 7.2413 - mae: 7.2413\n",
            "Epoch 42/100\n",
            "1/1 [==============================] - 0s 5ms/step - loss: 7.2356 - mae: 7.2356\n",
            "Epoch 43/100\n",
            "1/1 [==============================] - 0s 4ms/step - loss: 7.2300 - mae: 7.2300\n",
            "Epoch 44/100\n",
            "1/1 [==============================] - 0s 5ms/step - loss: 7.2244 - mae: 7.2244\n",
            "Epoch 45/100\n",
            "1/1 [==============================] - 0s 3ms/step - loss: 7.2188 - mae: 7.2188\n",
            "Epoch 46/100\n",
            "1/1 [==============================] - 0s 3ms/step - loss: 7.2131 - mae: 7.2131\n",
            "Epoch 47/100\n",
            "1/1 [==============================] - 0s 6ms/step - loss: 7.2075 - mae: 7.2075\n",
            "Epoch 48/100\n",
            "1/1 [==============================] - 0s 4ms/step - loss: 7.2019 - mae: 7.2019\n",
            "Epoch 49/100\n",
            "1/1 [==============================] - 0s 5ms/step - loss: 7.1962 - mae: 7.1962\n",
            "Epoch 50/100\n",
            "1/1 [==============================] - 0s 4ms/step - loss: 7.1906 - mae: 7.1906\n",
            "Epoch 51/100\n",
            "1/1 [==============================] - 0s 4ms/step - loss: 7.1850 - mae: 7.1850\n",
            "Epoch 52/100\n",
            "1/1 [==============================] - 0s 4ms/step - loss: 7.1794 - mae: 7.1794\n",
            "Epoch 53/100\n",
            "1/1 [==============================] - 0s 5ms/step - loss: 7.1738 - mae: 7.1738\n",
            "Epoch 54/100\n",
            "1/1 [==============================] - 0s 3ms/step - loss: 7.1681 - mae: 7.1681\n",
            "Epoch 55/100\n",
            "1/1 [==============================] - 0s 4ms/step - loss: 7.1625 - mae: 7.1625\n",
            "Epoch 56/100\n",
            "1/1 [==============================] - 0s 4ms/step - loss: 7.1569 - mae: 7.1569\n",
            "Epoch 57/100\n",
            "1/1 [==============================] - 0s 3ms/step - loss: 7.1513 - mae: 7.1513\n",
            "Epoch 58/100\n",
            "1/1 [==============================] - 0s 4ms/step - loss: 7.1456 - mae: 7.1456\n",
            "Epoch 59/100\n",
            "1/1 [==============================] - 0s 6ms/step - loss: 7.1400 - mae: 7.1400\n",
            "Epoch 60/100\n",
            "1/1 [==============================] - 0s 5ms/step - loss: 7.1344 - mae: 7.1344\n",
            "Epoch 61/100\n",
            "1/1 [==============================] - 0s 3ms/step - loss: 7.1287 - mae: 7.1287\n",
            "Epoch 62/100\n",
            "1/1 [==============================] - 0s 3ms/step - loss: 7.1231 - mae: 7.1231\n",
            "Epoch 63/100\n",
            "1/1 [==============================] - 0s 3ms/step - loss: 7.1175 - mae: 7.1175\n",
            "Epoch 64/100\n",
            "1/1 [==============================] - 0s 4ms/step - loss: 7.1119 - mae: 7.1119\n",
            "Epoch 65/100\n",
            "1/1 [==============================] - 0s 4ms/step - loss: 7.1063 - mae: 7.1063\n",
            "Epoch 66/100\n",
            "1/1 [==============================] - 0s 3ms/step - loss: 7.1006 - mae: 7.1006\n",
            "Epoch 67/100\n",
            "1/1 [==============================] - 0s 5ms/step - loss: 7.0950 - mae: 7.0950\n",
            "Epoch 68/100\n",
            "1/1 [==============================] - 0s 4ms/step - loss: 7.0894 - mae: 7.0894\n",
            "Epoch 69/100\n",
            "1/1 [==============================] - 0s 4ms/step - loss: 7.0838 - mae: 7.0838\n",
            "Epoch 70/100\n",
            "1/1 [==============================] - 0s 4ms/step - loss: 7.0781 - mae: 7.0781\n",
            "Epoch 71/100\n",
            "1/1 [==============================] - 0s 4ms/step - loss: 7.0725 - mae: 7.0725\n",
            "Epoch 72/100\n",
            "1/1 [==============================] - 0s 5ms/step - loss: 7.0669 - mae: 7.0669\n",
            "Epoch 73/100\n",
            "1/1 [==============================] - 0s 4ms/step - loss: 7.0613 - mae: 7.0613\n",
            "Epoch 74/100\n",
            "1/1 [==============================] - 0s 4ms/step - loss: 7.0556 - mae: 7.0556\n",
            "Epoch 75/100\n",
            "1/1 [==============================] - 0s 4ms/step - loss: 7.0500 - mae: 7.0500\n",
            "Epoch 76/100\n",
            "1/1 [==============================] - 0s 4ms/step - loss: 7.0444 - mae: 7.0444\n",
            "Epoch 77/100\n",
            "1/1 [==============================] - 0s 4ms/step - loss: 7.0388 - mae: 7.0388\n",
            "Epoch 78/100\n",
            "1/1 [==============================] - 0s 4ms/step - loss: 7.0331 - mae: 7.0331\n",
            "Epoch 79/100\n",
            "1/1 [==============================] - 0s 4ms/step - loss: 7.0275 - mae: 7.0275\n",
            "Epoch 80/100\n",
            "1/1 [==============================] - 0s 4ms/step - loss: 7.0219 - mae: 7.0219\n",
            "Epoch 81/100\n",
            "1/1 [==============================] - 0s 4ms/step - loss: 7.0163 - mae: 7.0163\n",
            "Epoch 82/100\n",
            "1/1 [==============================] - 0s 6ms/step - loss: 7.0106 - mae: 7.0106\n",
            "Epoch 83/100\n",
            "1/1 [==============================] - 0s 4ms/step - loss: 7.0050 - mae: 7.0050\n",
            "Epoch 84/100\n",
            "1/1 [==============================] - 0s 5ms/step - loss: 6.9994 - mae: 6.9994\n",
            "Epoch 85/100\n",
            "1/1 [==============================] - 0s 5ms/step - loss: 6.9938 - mae: 6.9938\n",
            "Epoch 86/100\n",
            "1/1 [==============================] - 0s 3ms/step - loss: 6.9881 - mae: 6.9881\n",
            "Epoch 87/100\n",
            "1/1 [==============================] - 0s 4ms/step - loss: 6.9825 - mae: 6.9825\n",
            "Epoch 88/100\n",
            "1/1 [==============================] - 0s 4ms/step - loss: 6.9769 - mae: 6.9769\n",
            "Epoch 89/100\n",
            "1/1 [==============================] - 0s 4ms/step - loss: 6.9713 - mae: 6.9713\n",
            "Epoch 90/100\n",
            "1/1 [==============================] - 0s 4ms/step - loss: 6.9656 - mae: 6.9656\n",
            "Epoch 91/100\n",
            "1/1 [==============================] - 0s 3ms/step - loss: 6.9600 - mae: 6.9600\n",
            "Epoch 92/100\n",
            "1/1 [==============================] - 0s 5ms/step - loss: 6.9544 - mae: 6.9544\n",
            "Epoch 93/100\n",
            "1/1 [==============================] - 0s 4ms/step - loss: 6.9488 - mae: 6.9488\n",
            "Epoch 94/100\n",
            "1/1 [==============================] - 0s 4ms/step - loss: 6.9431 - mae: 6.9431\n",
            "Epoch 95/100\n",
            "1/1 [==============================] - 0s 3ms/step - loss: 6.9375 - mae: 6.9375\n",
            "Epoch 96/100\n",
            "1/1 [==============================] - 0s 4ms/step - loss: 6.9319 - mae: 6.9319\n",
            "Epoch 97/100\n",
            "1/1 [==============================] - 0s 5ms/step - loss: 6.9263 - mae: 6.9263\n",
            "Epoch 98/100\n",
            "1/1 [==============================] - 0s 4ms/step - loss: 6.9206 - mae: 6.9206\n",
            "Epoch 99/100\n",
            "1/1 [==============================] - 0s 4ms/step - loss: 6.9150 - mae: 6.9150\n",
            "Epoch 100/100\n",
            "1/1 [==============================] - 0s 4ms/step - loss: 6.9094 - mae: 6.9094\n"
          ]
        },
        {
          "data": {
            "text/plain": [
              "<keras.callbacks.History at 0x1ba5aa74ee0>"
            ]
          },
          "execution_count": 16,
          "metadata": {},
          "output_type": "execute_result"
        }
      ],
      "source": [
        "# 1.  Create a model\n",
        "model = tf.keras.Sequential([\n",
        "    tf.keras.layers.Dense(1, input_shape=(1,))\n",
        "])\n",
        "\n",
        "# 2. Compile the model\n",
        "model.compile(loss=tf.keras.losses.mae,\n",
        "              optimizer=tf.keras.optimizers.SGD(),\n",
        "              metrics=['mae'])\n",
        "\n",
        "# 3. Fit the model\n",
        "model.fit(X, y, epochs=100)"
      ]
    },
    {
      "cell_type": "code",
      "execution_count": 17,
      "metadata": {
        "colab": {
          "base_uri": "https://localhost:8080/"
        },
        "id": "ss7jO-zkcMX2",
        "outputId": "26d4cfdb-b3a8-4260-e9e0-0ee205b7d84c"
      },
      "outputs": [
        {
          "data": {
            "text/plain": [
              "(<tf.Tensor: shape=(8,), dtype=float64, numpy=array([-7., -4., -1.,  2.,  5.,  8., 11., 14.])>,\n",
              " <tf.Tensor: shape=(8,), dtype=float64, numpy=array([ 3.,  6.,  9., 12., 15., 18., 21., 24.])>)"
            ]
          },
          "execution_count": 17,
          "metadata": {},
          "output_type": "execute_result"
        }
      ],
      "source": [
        "# The Data\n",
        "X,y"
      ]
    },
    {
      "cell_type": "code",
      "execution_count": 18,
      "metadata": {
        "colab": {
          "base_uri": "https://localhost:8080/"
        },
        "id": "O6VrkTSkdBOK",
        "outputId": "afec1222-7c8a-4b4d-c0ca-bc88eb086dca"
      },
      "outputs": [
        {
          "name": "stdout",
          "output_type": "stream",
          "text": [
            "1/1 [==============================] - 0s 59ms/step\n"
          ]
        },
        {
          "data": {
            "text/plain": [
              "array([[30.265308]], dtype=float32)"
            ]
          },
          "execution_count": 18,
          "metadata": {},
          "output_type": "execute_result"
        }
      ],
      "source": [
        "# Check model prediction\n",
        "model.predict([17.0])"
      ]
    },
    {
      "cell_type": "markdown",
      "metadata": {
        "id": "r4gn6XpRdZs-"
      },
      "source": [
        "## Rewriting the model\n"
      ]
    },
    {
      "cell_type": "code",
      "execution_count": 19,
      "metadata": {
        "colab": {
          "base_uri": "https://localhost:8080/"
        },
        "id": "S55zc54DdGJl",
        "outputId": "a4c0324c-41af-40c4-d545-40b20d8d8938"
      },
      "outputs": [
        {
          "name": "stdout",
          "output_type": "stream",
          "text": [
            "Epoch 1/100\n"
          ]
        },
        {
          "name": "stderr",
          "output_type": "stream",
          "text": [
            "c:\\Users\\nikhi\\AppData\\Local\\Programs\\Python\\Python310\\lib\\site-packages\\keras\\optimizers\\optimizer_v2\\adam.py:114: UserWarning: The `lr` argument is deprecated, use `learning_rate` instead.\n",
            "  super().__init__(name, **kwargs)\n"
          ]
        },
        {
          "name": "stdout",
          "output_type": "stream",
          "text": [
            "1/1 [==============================] - 0s 277ms/step - loss: 11.0861 - mae: 11.0861\n",
            "Epoch 2/100\n",
            "1/1 [==============================] - 0s 4ms/step - loss: 8.8361 - mae: 8.8361\n",
            "Epoch 3/100\n",
            "1/1 [==============================] - 0s 5ms/step - loss: 6.7500 - mae: 6.7500\n",
            "Epoch 4/100\n",
            "1/1 [==============================] - 0s 6ms/step - loss: 7.2392 - mae: 7.2392\n",
            "Epoch 5/100\n",
            "1/1 [==============================] - 0s 4ms/step - loss: 7.2567 - mae: 7.2567\n",
            "Epoch 6/100\n",
            "1/1 [==============================] - 0s 5ms/step - loss: 6.5049 - mae: 6.5049\n",
            "Epoch 7/100\n",
            "1/1 [==============================] - 0s 4ms/step - loss: 5.6539 - mae: 5.6539\n",
            "Epoch 8/100\n",
            "1/1 [==============================] - 0s 4ms/step - loss: 5.2190 - mae: 5.2190\n",
            "Epoch 9/100\n",
            "1/1 [==============================] - 0s 3ms/step - loss: 5.2722 - mae: 5.2722\n",
            "Epoch 10/100\n",
            "1/1 [==============================] - 0s 5ms/step - loss: 4.9594 - mae: 4.9594\n",
            "Epoch 11/100\n",
            "1/1 [==============================] - 0s 4ms/step - loss: 4.3561 - mae: 4.3561\n",
            "Epoch 12/100\n",
            "1/1 [==============================] - 0s 5ms/step - loss: 3.7842 - mae: 3.7842\n",
            "Epoch 13/100\n",
            "1/1 [==============================] - 0s 3ms/step - loss: 3.7392 - mae: 3.7392\n",
            "Epoch 14/100\n",
            "1/1 [==============================] - 0s 3ms/step - loss: 3.6740 - mae: 3.6740\n",
            "Epoch 15/100\n",
            "1/1 [==============================] - 0s 3ms/step - loss: 3.2680 - mae: 3.2680\n",
            "Epoch 16/100\n",
            "1/1 [==============================] - 0s 5ms/step - loss: 2.6108 - mae: 2.6108\n",
            "Epoch 17/100\n",
            "1/1 [==============================] - 0s 3ms/step - loss: 2.1379 - mae: 2.1379\n",
            "Epoch 18/100\n",
            "1/1 [==============================] - 0s 4ms/step - loss: 2.0083 - mae: 2.0083\n",
            "Epoch 19/100\n",
            "1/1 [==============================] - 0s 4ms/step - loss: 1.6250 - mae: 1.6250\n",
            "Epoch 20/100\n",
            "1/1 [==============================] - 0s 4ms/step - loss: 1.0878 - mae: 1.0878\n",
            "Epoch 21/100\n",
            "1/1 [==============================] - 0s 5ms/step - loss: 0.9882 - mae: 0.9882\n",
            "Epoch 22/100\n",
            "1/1 [==============================] - 0s 4ms/step - loss: 0.6708 - mae: 0.6708\n",
            "Epoch 23/100\n",
            "1/1 [==============================] - 0s 4ms/step - loss: 0.1748 - mae: 0.1748\n",
            "Epoch 24/100\n",
            "1/1 [==============================] - 0s 4ms/step - loss: 0.4694 - mae: 0.4694\n",
            "Epoch 25/100\n",
            "1/1 [==============================] - 0s 3ms/step - loss: 0.5394 - mae: 0.5394\n",
            "Epoch 26/100\n",
            "1/1 [==============================] - 0s 4ms/step - loss: 0.7362 - mae: 0.7362\n",
            "Epoch 27/100\n",
            "1/1 [==============================] - 0s 4ms/step - loss: 0.9467 - mae: 0.9467\n",
            "Epoch 28/100\n",
            "1/1 [==============================] - 0s 4ms/step - loss: 1.0715 - mae: 1.0715\n",
            "Epoch 29/100\n",
            "1/1 [==============================] - 0s 4ms/step - loss: 1.0099 - mae: 1.0099\n",
            "Epoch 30/100\n",
            "1/1 [==============================] - 0s 4ms/step - loss: 1.1178 - mae: 1.1178\n",
            "Epoch 31/100\n",
            "1/1 [==============================] - 0s 5ms/step - loss: 1.0287 - mae: 1.0287\n",
            "Epoch 32/100\n",
            "1/1 [==============================] - 0s 5ms/step - loss: 1.0001 - mae: 1.0001\n",
            "Epoch 33/100\n",
            "1/1 [==============================] - 0s 3ms/step - loss: 1.0216 - mae: 1.0216\n",
            "Epoch 34/100\n",
            "1/1 [==============================] - 0s 3ms/step - loss: 0.7603 - mae: 0.7603\n",
            "Epoch 35/100\n",
            "1/1 [==============================] - 0s 4ms/step - loss: 0.6996 - mae: 0.6996\n",
            "Epoch 36/100\n",
            "1/1 [==============================] - 0s 4ms/step - loss: 0.5852 - mae: 0.5852\n",
            "Epoch 37/100\n",
            "1/1 [==============================] - 0s 3ms/step - loss: 0.2475 - mae: 0.2475\n",
            "Epoch 38/100\n",
            "1/1 [==============================] - 0s 5ms/step - loss: 0.5507 - mae: 0.5507\n",
            "Epoch 39/100\n",
            "1/1 [==============================] - 0s 5ms/step - loss: 0.4888 - mae: 0.4888\n",
            "Epoch 40/100\n",
            "1/1 [==============================] - 0s 4ms/step - loss: 0.3147 - mae: 0.3147\n",
            "Epoch 41/100\n",
            "1/1 [==============================] - 0s 5ms/step - loss: 0.7187 - mae: 0.7187\n",
            "Epoch 42/100\n",
            "1/1 [==============================] - 0s 4ms/step - loss: 0.7068 - mae: 0.7068\n",
            "Epoch 43/100\n",
            "1/1 [==============================] - 0s 4ms/step - loss: 0.5209 - mae: 0.5209\n",
            "Epoch 44/100\n",
            "1/1 [==============================] - 0s 4ms/step - loss: 0.7363 - mae: 0.7363\n",
            "Epoch 45/100\n",
            "1/1 [==============================] - 0s 5ms/step - loss: 0.7044 - mae: 0.7044\n",
            "Epoch 46/100\n",
            "1/1 [==============================] - 0s 4ms/step - loss: 0.4473 - mae: 0.4473\n",
            "Epoch 47/100\n",
            "1/1 [==============================] - 0s 6ms/step - loss: 0.6321 - mae: 0.6321\n",
            "Epoch 48/100\n",
            "1/1 [==============================] - 0s 12ms/step - loss: 0.5993 - mae: 0.5993\n",
            "Epoch 49/100\n",
            "1/1 [==============================] - 0s 11ms/step - loss: 0.1103 - mae: 0.1103\n",
            "Epoch 50/100\n",
            "1/1 [==============================] - 0s 12ms/step - loss: 0.8235 - mae: 0.8235\n",
            "Epoch 51/100\n",
            "1/1 [==============================] - 0s 11ms/step - loss: 1.1169 - mae: 1.1169\n",
            "Epoch 52/100\n",
            "1/1 [==============================] - 0s 9ms/step - loss: 0.8716 - mae: 0.8716\n",
            "Epoch 53/100\n",
            "1/1 [==============================] - 0s 4ms/step - loss: 0.3572 - mae: 0.3572\n",
            "Epoch 54/100\n",
            "1/1 [==============================] - 0s 6ms/step - loss: 0.7177 - mae: 0.7177\n",
            "Epoch 55/100\n",
            "1/1 [==============================] - 0s 6ms/step - loss: 0.8812 - mae: 0.8812\n",
            "Epoch 56/100\n",
            "1/1 [==============================] - 0s 5ms/step - loss: 0.6941 - mae: 0.6941\n",
            "Epoch 57/100\n",
            "1/1 [==============================] - 0s 3ms/step - loss: 0.2758 - mae: 0.2758\n",
            "Epoch 58/100\n",
            "1/1 [==============================] - 0s 4ms/step - loss: 0.8667 - mae: 0.8667\n",
            "Epoch 59/100\n",
            "1/1 [==============================] - 0s 4ms/step - loss: 1.0927 - mae: 1.0927\n",
            "Epoch 60/100\n",
            "1/1 [==============================] - 0s 4ms/step - loss: 0.7926 - mae: 0.7926\n",
            "Epoch 61/100\n",
            "1/1 [==============================] - 0s 4ms/step - loss: 0.1406 - mae: 0.1406\n",
            "Epoch 62/100\n",
            "1/1 [==============================] - 0s 7ms/step - loss: 0.9414 - mae: 0.9414\n",
            "Epoch 63/100\n",
            "1/1 [==============================] - 0s 4ms/step - loss: 1.3142 - mae: 1.3142\n",
            "Epoch 64/100\n",
            "1/1 [==============================] - 0s 4ms/step - loss: 1.1591 - mae: 1.1591\n",
            "Epoch 65/100\n",
            "1/1 [==============================] - 0s 4ms/step - loss: 0.5527 - mae: 0.5527\n",
            "Epoch 66/100\n",
            "1/1 [==============================] - 0s 6ms/step - loss: 0.5241 - mae: 0.5241\n",
            "Epoch 67/100\n",
            "1/1 [==============================] - 0s 6ms/step - loss: 0.9843 - mae: 0.9843\n",
            "Epoch 68/100\n",
            "1/1 [==============================] - 0s 5ms/step - loss: 0.9539 - mae: 0.9539\n",
            "Epoch 69/100\n",
            "1/1 [==============================] - 0s 4ms/step - loss: 0.4770 - mae: 0.4770\n",
            "Epoch 70/100\n",
            "1/1 [==============================] - 0s 4ms/step - loss: 0.4202 - mae: 0.4202\n",
            "Epoch 71/100\n",
            "1/1 [==============================] - 0s 7ms/step - loss: 0.7408 - mae: 0.7408\n",
            "Epoch 72/100\n",
            "1/1 [==============================] - 0s 3ms/step - loss: 0.5723 - mae: 0.5723\n",
            "Epoch 73/100\n",
            "1/1 [==============================] - 0s 6ms/step - loss: 0.0892 - mae: 0.0892\n",
            "Epoch 74/100\n",
            "1/1 [==============================] - 0s 4ms/step - loss: 0.5940 - mae: 0.5940\n",
            "Epoch 75/100\n",
            "1/1 [==============================] - 0s 6ms/step - loss: 0.6354 - mae: 0.6354\n",
            "Epoch 76/100\n",
            "1/1 [==============================] - 0s 5ms/step - loss: 0.2168 - mae: 0.2168\n",
            "Epoch 77/100\n",
            "1/1 [==============================] - 0s 5ms/step - loss: 0.6103 - mae: 0.6103\n",
            "Epoch 78/100\n",
            "1/1 [==============================] - 0s 5ms/step - loss: 0.9002 - mae: 0.9002\n",
            "Epoch 79/100\n",
            "1/1 [==============================] - 0s 5ms/step - loss: 0.7120 - mae: 0.7120\n",
            "Epoch 80/100\n",
            "1/1 [==============================] - 0s 4ms/step - loss: 0.0985 - mae: 0.0985\n",
            "Epoch 81/100\n",
            "1/1 [==============================] - 0s 5ms/step - loss: 0.8936 - mae: 0.8936\n",
            "Epoch 82/100\n",
            "1/1 [==============================] - 0s 5ms/step - loss: 1.3414 - mae: 1.3414\n",
            "Epoch 83/100\n",
            "1/1 [==============================] - 0s 4ms/step - loss: 1.3042 - mae: 1.3042\n",
            "Epoch 84/100\n",
            "1/1 [==============================] - 0s 4ms/step - loss: 0.8347 - mae: 0.8347\n",
            "Epoch 85/100\n",
            "1/1 [==============================] - 0s 4ms/step - loss: 0.0312 - mae: 0.0312\n",
            "Epoch 86/100\n",
            "1/1 [==============================] - 0s 4ms/step - loss: 0.6203 - mae: 0.6203\n",
            "Epoch 87/100\n",
            "1/1 [==============================] - 0s 4ms/step - loss: 0.7239 - mae: 0.7239\n",
            "Epoch 88/100\n",
            "1/1 [==============================] - 0s 3ms/step - loss: 0.3931 - mae: 0.3931\n",
            "Epoch 89/100\n",
            "1/1 [==============================] - 0s 4ms/step - loss: 0.3389 - mae: 0.3389\n",
            "Epoch 90/100\n",
            "1/1 [==============================] - 0s 3ms/step - loss: 0.5585 - mae: 0.5585\n",
            "Epoch 91/100\n",
            "1/1 [==============================] - 0s 5ms/step - loss: 0.3281 - mae: 0.3281\n",
            "Epoch 92/100\n",
            "1/1 [==============================] - 0s 5ms/step - loss: 0.3236 - mae: 0.3236\n",
            "Epoch 93/100\n",
            "1/1 [==============================] - 0s 4ms/step - loss: 0.4699 - mae: 0.4699\n",
            "Epoch 94/100\n",
            "1/1 [==============================] - 0s 5ms/step - loss: 0.1943 - mae: 0.1943\n",
            "Epoch 95/100\n",
            "1/1 [==============================] - 0s 3ms/step - loss: 0.4725 - mae: 0.4725\n",
            "Epoch 96/100\n",
            "1/1 [==============================] - 0s 5ms/step - loss: 0.6412 - mae: 0.6412\n",
            "Epoch 97/100\n",
            "1/1 [==============================] - 0s 3ms/step - loss: 0.3856 - mae: 0.3856\n",
            "Epoch 98/100\n",
            "1/1 [==============================] - 0s 5ms/step - loss: 0.2736 - mae: 0.2736\n",
            "Epoch 99/100\n",
            "1/1 [==============================] - 0s 4ms/step - loss: 0.4377 - mae: 0.4377\n",
            "Epoch 100/100\n",
            "1/1 [==============================] - 0s 4ms/step - loss: 0.1844 - mae: 0.1844\n"
          ]
        },
        {
          "data": {
            "text/plain": [
              "<keras.callbacks.History at 0x1ba5bb35510>"
            ]
          },
          "execution_count": 19,
          "metadata": {},
          "output_type": "execute_result"
        }
      ],
      "source": [
        "# 1.  Create a model\n",
        "model = tf.keras.Sequential([\n",
        "    tf.keras.layers.Dense(1, input_shape=(1,)),\n",
        "    # tf.keras.layers.Dense(100, activation='relu')\n",
        "])\n",
        "\n",
        "# 2. Compile the model\n",
        "model.compile(loss=tf.keras.losses.mae,\n",
        "              optimizer=tf.keras.optimizers.Adam(lr=0.5),\n",
        "              metrics=['mae'])\n",
        "\n",
        "# 3. Fit the model\n",
        "model.fit(X, y, epochs=100)\n",
        "\n"
      ]
    },
    {
      "cell_type": "code",
      "execution_count": 20,
      "metadata": {
        "colab": {
          "base_uri": "https://localhost:8080/"
        },
        "id": "VEsxxKoddrPu",
        "outputId": "8261e882-ad7b-421f-efec-7101590e89d5"
      },
      "outputs": [
        {
          "name": "stdout",
          "output_type": "stream",
          "text": [
            "1/1 [==============================] - 0s 58ms/step\n"
          ]
        },
        {
          "data": {
            "text/plain": [
              "array([[25.7755]], dtype=float32)"
            ]
          },
          "execution_count": 20,
          "metadata": {},
          "output_type": "execute_result"
        }
      ],
      "source": [
        "# Predicting the model\n",
        "model.predict([17.0])"
      ]
    },
    {
      "cell_type": "markdown",
      "metadata": {
        "id": "HMAUopRweed2"
      },
      "source": [
        "## Trying different methods to improve the model\n",
        "\n"
      ]
    },
    {
      "cell_type": "code",
      "execution_count": 21,
      "metadata": {
        "colab": {
          "base_uri": "https://localhost:8080/"
        },
        "id": "4ww6EZMpdzch",
        "outputId": "de177598-8ce7-457f-dc89-61d8ff57522f"
      },
      "outputs": [
        {
          "name": "stdout",
          "output_type": "stream",
          "text": [
            "Epoch 1/100\n",
            "1/1 [==============================] - 0s 277ms/step - loss: 12.7158 - mae: 12.7158\n",
            "Epoch 2/100\n",
            "1/1 [==============================] - 0s 5ms/step - loss: 12.1770 - mae: 12.1770\n",
            "Epoch 3/100\n",
            "1/1 [==============================] - 0s 5ms/step - loss: 11.6235 - mae: 11.6235\n",
            "Epoch 4/100\n",
            "1/1 [==============================] - 0s 5ms/step - loss: 11.0527 - mae: 11.0527\n",
            "Epoch 5/100\n",
            "1/1 [==============================] - 0s 4ms/step - loss: 10.4763 - mae: 10.4763\n",
            "Epoch 6/100\n",
            "1/1 [==============================] - 0s 5ms/step - loss: 9.8729 - mae: 9.8729\n",
            "Epoch 7/100\n",
            "1/1 [==============================] - 0s 6ms/step - loss: 9.2332 - mae: 9.2332\n",
            "Epoch 8/100\n",
            "1/1 [==============================] - 0s 4ms/step - loss: 8.5513 - mae: 8.5513\n",
            "Epoch 9/100\n",
            "1/1 [==============================] - 0s 5ms/step - loss: 7.8323 - mae: 7.8323\n",
            "Epoch 10/100\n",
            "1/1 [==============================] - 0s 10ms/step - loss: 7.0646 - mae: 7.0646\n",
            "Epoch 11/100\n",
            "1/1 [==============================] - 0s 6ms/step - loss: 6.2417 - mae: 6.2417\n",
            "Epoch 12/100\n",
            "1/1 [==============================] - 0s 5ms/step - loss: 5.3484 - mae: 5.3484\n",
            "Epoch 13/100\n",
            "1/1 [==============================] - 0s 4ms/step - loss: 4.5722 - mae: 4.5722\n",
            "Epoch 14/100\n",
            "1/1 [==============================] - 0s 5ms/step - loss: 4.4296 - mae: 4.4296\n",
            "Epoch 15/100\n",
            "1/1 [==============================] - 0s 4ms/step - loss: 4.2843 - mae: 4.2843\n",
            "Epoch 16/100\n",
            "1/1 [==============================] - 0s 4ms/step - loss: 4.2717 - mae: 4.2717\n",
            "Epoch 17/100\n",
            "1/1 [==============================] - 0s 5ms/step - loss: 4.1637 - mae: 4.1637\n",
            "Epoch 18/100\n",
            "1/1 [==============================] - 0s 4ms/step - loss: 4.1843 - mae: 4.1843\n",
            "Epoch 19/100\n",
            "1/1 [==============================] - 0s 3ms/step - loss: 4.0698 - mae: 4.0698\n",
            "Epoch 20/100\n",
            "1/1 [==============================] - 0s 5ms/step - loss: 4.0668 - mae: 4.0668\n",
            "Epoch 21/100\n",
            "1/1 [==============================] - 0s 4ms/step - loss: 3.9801 - mae: 3.9801\n",
            "Epoch 22/100\n",
            "1/1 [==============================] - 0s 6ms/step - loss: 3.9429 - mae: 3.9429\n",
            "Epoch 23/100\n",
            "1/1 [==============================] - 0s 3ms/step - loss: 3.9181 - mae: 3.9181\n",
            "Epoch 24/100\n",
            "1/1 [==============================] - 0s 4ms/step - loss: 3.8965 - mae: 3.8965\n",
            "Epoch 25/100\n",
            "1/1 [==============================] - 0s 5ms/step - loss: 3.9249 - mae: 3.9249\n",
            "Epoch 26/100\n",
            "1/1 [==============================] - 0s 4ms/step - loss: 3.8708 - mae: 3.8708\n",
            "Epoch 27/100\n",
            "1/1 [==============================] - 0s 6ms/step - loss: 3.9350 - mae: 3.9350\n",
            "Epoch 28/100\n",
            "1/1 [==============================] - 0s 3ms/step - loss: 3.8735 - mae: 3.8735\n",
            "Epoch 29/100\n",
            "1/1 [==============================] - 0s 4ms/step - loss: 3.9256 - mae: 3.9256\n",
            "Epoch 30/100\n",
            "1/1 [==============================] - 0s 4ms/step - loss: 3.8804 - mae: 3.8804\n",
            "Epoch 31/100\n",
            "1/1 [==============================] - 0s 5ms/step - loss: 3.8999 - mae: 3.8999\n",
            "Epoch 32/100\n",
            "1/1 [==============================] - 0s 5ms/step - loss: 3.8873 - mae: 3.8873\n",
            "Epoch 33/100\n",
            "1/1 [==============================] - 0s 3ms/step - loss: 3.8741 - mae: 3.8741\n",
            "Epoch 34/100\n",
            "1/1 [==============================] - 0s 4ms/step - loss: 3.8944 - mae: 3.8944\n",
            "Epoch 35/100\n",
            "1/1 [==============================] - 0s 5ms/step - loss: 3.8505 - mae: 3.8505\n",
            "Epoch 36/100\n",
            "1/1 [==============================] - 0s 4ms/step - loss: 3.9100 - mae: 3.9100\n",
            "Epoch 37/100\n",
            "1/1 [==============================] - 0s 5ms/step - loss: 3.8436 - mae: 3.8436\n",
            "Epoch 38/100\n",
            "1/1 [==============================] - 0s 3ms/step - loss: 3.9024 - mae: 3.9024\n",
            "Epoch 39/100\n",
            "1/1 [==============================] - 0s 5ms/step - loss: 3.8506 - mae: 3.8506\n",
            "Epoch 40/100\n",
            "1/1 [==============================] - 0s 3ms/step - loss: 3.8765 - mae: 3.8765\n",
            "Epoch 41/100\n",
            "1/1 [==============================] - 0s 4ms/step - loss: 3.8577 - mae: 3.8577\n",
            "Epoch 42/100\n",
            "1/1 [==============================] - 0s 4ms/step - loss: 3.8505 - mae: 3.8505\n",
            "Epoch 43/100\n",
            "1/1 [==============================] - 0s 3ms/step - loss: 3.8660 - mae: 3.8660\n",
            "Epoch 44/100\n",
            "1/1 [==============================] - 0s 5ms/step - loss: 3.8320 - mae: 3.8320\n",
            "Epoch 45/100\n",
            "1/1 [==============================] - 0s 4ms/step - loss: 3.8807 - mae: 3.8807\n",
            "Epoch 46/100\n",
            "1/1 [==============================] - 0s 4ms/step - loss: 3.8147 - mae: 3.8147\n",
            "Epoch 47/100\n",
            "1/1 [==============================] - 0s 3ms/step - loss: 3.8781 - mae: 3.8781\n",
            "Epoch 48/100\n",
            "1/1 [==============================] - 0s 3ms/step - loss: 3.8219 - mae: 3.8219\n",
            "Epoch 49/100\n",
            "1/1 [==============================] - 0s 4ms/step - loss: 3.8519 - mae: 3.8519\n",
            "Epoch 50/100\n",
            "1/1 [==============================] - 0s 4ms/step - loss: 3.8293 - mae: 3.8293\n",
            "Epoch 51/100\n",
            "1/1 [==============================] - 0s 5ms/step - loss: 3.8256 - mae: 3.8256\n",
            "Epoch 52/100\n",
            "1/1 [==============================] - 0s 4ms/step - loss: 3.8444 - mae: 3.8444\n",
            "Epoch 53/100\n",
            "1/1 [==============================] - 0s 4ms/step - loss: 3.8068 - mae: 3.8068\n",
            "Epoch 54/100\n",
            "1/1 [==============================] - 0s 4ms/step - loss: 3.8526 - mae: 3.8526\n",
            "Epoch 55/100\n",
            "1/1 [==============================] - 0s 5ms/step - loss: 3.7869 - mae: 3.7869\n",
            "Epoch 56/100\n",
            "1/1 [==============================] - 0s 4ms/step - loss: 3.8525 - mae: 3.8525\n",
            "Epoch 57/100\n",
            "1/1 [==============================] - 0s 4ms/step - loss: 3.7943 - mae: 3.7943\n",
            "Epoch 58/100\n",
            "1/1 [==============================] - 0s 4ms/step - loss: 3.8261 - mae: 3.8261\n",
            "Epoch 59/100\n",
            "1/1 [==============================] - 0s 4ms/step - loss: 3.8018 - mae: 3.8018\n",
            "Epoch 60/100\n",
            "1/1 [==============================] - 0s 6ms/step - loss: 3.8060 - mae: 3.8060\n",
            "Epoch 61/100\n",
            "1/1 [==============================] - 0s 4ms/step - loss: 3.8178 - mae: 3.8178\n",
            "Epoch 62/100\n",
            "1/1 [==============================] - 0s 5ms/step - loss: 3.7804 - mae: 3.7804\n",
            "Epoch 63/100\n",
            "1/1 [==============================] - 0s 4ms/step - loss: 3.8255 - mae: 3.8255\n",
            "Epoch 64/100\n",
            "1/1 [==============================] - 0s 3ms/step - loss: 3.7602 - mae: 3.7602\n",
            "Epoch 65/100\n",
            "1/1 [==============================] - 0s 4ms/step - loss: 3.8257 - mae: 3.8257\n",
            "Epoch 66/100\n",
            "1/1 [==============================] - 0s 4ms/step - loss: 3.7678 - mae: 3.7678\n",
            "Epoch 67/100\n",
            "1/1 [==============================] - 0s 5ms/step - loss: 3.7990 - mae: 3.7990\n",
            "Epoch 68/100\n",
            "1/1 [==============================] - 0s 4ms/step - loss: 3.7801 - mae: 3.7801\n",
            "Epoch 69/100\n",
            "1/1 [==============================] - 0s 5ms/step - loss: 3.7797 - mae: 3.7797\n",
            "Epoch 70/100\n",
            "1/1 [==============================] - 0s 5ms/step - loss: 3.7917 - mae: 3.7917\n",
            "Epoch 71/100\n",
            "1/1 [==============================] - 0s 3ms/step - loss: 3.7527 - mae: 3.7527\n",
            "Epoch 72/100\n",
            "1/1 [==============================] - 0s 5ms/step - loss: 3.7996 - mae: 3.7996\n",
            "Epoch 73/100\n",
            "1/1 [==============================] - 0s 4ms/step - loss: 3.7345 - mae: 3.7345\n",
            "Epoch 74/100\n",
            "1/1 [==============================] - 0s 4ms/step - loss: 3.7976 - mae: 3.7976\n",
            "Epoch 75/100\n",
            "1/1 [==============================] - 0s 4ms/step - loss: 3.7424 - mae: 3.7424\n",
            "Epoch 76/100\n",
            "1/1 [==============================] - 0s 4ms/step - loss: 3.7735 - mae: 3.7735\n",
            "Epoch 77/100\n",
            "1/1 [==============================] - 0s 4ms/step - loss: 3.7587 - mae: 3.7587\n",
            "Epoch 78/100\n",
            "1/1 [==============================] - 0s 4ms/step - loss: 3.7510 - mae: 3.7510\n",
            "Epoch 79/100\n",
            "1/1 [==============================] - 0s 4ms/step - loss: 3.7667 - mae: 3.7667\n",
            "Epoch 80/100\n",
            "1/1 [==============================] - 0s 3ms/step - loss: 3.7236 - mae: 3.7236\n",
            "Epoch 81/100\n",
            "1/1 [==============================] - 0s 4ms/step - loss: 3.7748 - mae: 3.7748\n",
            "Epoch 82/100\n",
            "1/1 [==============================] - 0s 5ms/step - loss: 3.7099 - mae: 3.7099\n",
            "Epoch 83/100\n",
            "1/1 [==============================] - 0s 5ms/step - loss: 3.7682 - mae: 3.7682\n",
            "Epoch 84/100\n",
            "1/1 [==============================] - 0s 9ms/step - loss: 3.7186 - mae: 3.7186\n",
            "Epoch 85/100\n",
            "1/1 [==============================] - 0s 7ms/step - loss: 3.7485 - mae: 3.7485\n",
            "Epoch 86/100\n",
            "1/1 [==============================] - 0s 4ms/step - loss: 3.7344 - mae: 3.7344\n",
            "Epoch 87/100\n",
            "1/1 [==============================] - 0s 5ms/step - loss: 3.7209 - mae: 3.7209\n",
            "Epoch 88/100\n",
            "1/1 [==============================] - 0s 4ms/step - loss: 3.7426 - mae: 3.7426\n",
            "Epoch 89/100\n",
            "1/1 [==============================] - 0s 4ms/step - loss: 3.6932 - mae: 3.6932\n",
            "Epoch 90/100\n",
            "1/1 [==============================] - 0s 4ms/step - loss: 3.7510 - mae: 3.7510\n",
            "Epoch 91/100\n",
            "1/1 [==============================] - 0s 4ms/step - loss: 3.6863 - mae: 3.6863\n",
            "Epoch 92/100\n",
            "1/1 [==============================] - 0s 4ms/step - loss: 3.7375 - mae: 3.7375\n",
            "Epoch 93/100\n",
            "1/1 [==============================] - 0s 3ms/step - loss: 3.7010 - mae: 3.7010\n",
            "Epoch 94/100\n",
            "1/1 [==============================] - 0s 5ms/step - loss: 3.7175 - mae: 3.7175\n",
            "Epoch 95/100\n",
            "1/1 [==============================] - 0s 4ms/step - loss: 3.7112 - mae: 3.7112\n",
            "Epoch 96/100\n",
            "1/1 [==============================] - 0s 4ms/step - loss: 3.6896 - mae: 3.6896\n",
            "Epoch 97/100\n",
            "1/1 [==============================] - 0s 3ms/step - loss: 3.7195 - mae: 3.7195\n",
            "Epoch 98/100\n",
            "1/1 [==============================] - 0s 4ms/step - loss: 3.6615 - mae: 3.6615\n",
            "Epoch 99/100\n",
            "1/1 [==============================] - 0s 3ms/step - loss: 3.7281 - mae: 3.7281\n",
            "Epoch 100/100\n",
            "1/1 [==============================] - 0s 3ms/step - loss: 3.6636 - mae: 3.6636\n"
          ]
        },
        {
          "data": {
            "text/plain": [
              "<keras.callbacks.History at 0x1ba5bc05690>"
            ]
          },
          "execution_count": 21,
          "metadata": {},
          "output_type": "execute_result"
        }
      ],
      "source": [
        "# Create a model with different number of layers\n",
        "model = tf.keras.Sequential([\n",
        "    tf.keras.layers.Dense(100, activation='relu', input_shape=(1,)),\n",
        "    tf.keras.layers.Dense(1)\n",
        "])\n",
        "\n",
        "# Compiling the model\n",
        "model.compile(loss=tf.keras.losses.mae, \n",
        "              optimizer=tf.keras.optimizers.SGD(), \n",
        "              metrics=[\"mae\"])\n",
        "\n",
        "# Fit the model\n",
        "model.fit(X, y, epochs=100)"
      ]
    },
    {
      "cell_type": "code",
      "execution_count": 22,
      "metadata": {
        "colab": {
          "base_uri": "https://localhost:8080/"
        },
        "id": "jRwzdRBKfJBu",
        "outputId": "aca99ec7-b444-4fac-b4cc-d283cfdb3d24"
      },
      "outputs": [
        {
          "name": "stdout",
          "output_type": "stream",
          "text": [
            "1/1 [==============================] - 0s 78ms/step\n"
          ]
        },
        {
          "data": {
            "text/plain": [
              "array([[31.262274]], dtype=float32)"
            ]
          },
          "execution_count": 22,
          "metadata": {},
          "output_type": "execute_result"
        }
      ],
      "source": [
        "# Prediction test\n",
        "model.predict([17.0])"
      ]
    },
    {
      "cell_type": "markdown",
      "metadata": {
        "id": "lpMJ0PxfhZ0A"
      },
      "source": [
        "### Evaluating a model\n",
        "\n",
        "Build - Fit - Evaluate - Tweak - Repeat🔁"
      ]
    },
    {
      "cell_type": "markdown",
      "metadata": {
        "id": "T3MQPkRPMqhj"
      },
      "source": [
        "### For evaluation ->\n",
        "Visualize : \n",
        "+ How data looks like.\n",
        "+ What the model looks like.\n",
        "+ Training a model.\n",
        "+ Predicting a model."
      ]
    },
    {
      "cell_type": "code",
      "execution_count": 23,
      "metadata": {
        "colab": {
          "base_uri": "https://localhost:8080/"
        },
        "id": "76eF-j6nfie-",
        "outputId": "5afc212f-598e-46c7-d8e9-cce113e2e225"
      },
      "outputs": [
        {
          "data": {
            "text/plain": [
              "<tf.Tensor: shape=(50,), dtype=int32, numpy=\n",
              "array([-100,  -96,  -92,  -88,  -84,  -80,  -76,  -72,  -68,  -64,  -60,\n",
              "        -56,  -52,  -48,  -44,  -40,  -36,  -32,  -28,  -24,  -20,  -16,\n",
              "        -12,   -8,   -4,    0,    4,    8,   12,   16,   20,   24,   28,\n",
              "         32,   36,   40,   44,   48,   52,   56,   60,   64,   68,   72,\n",
              "         76,   80,   84,   88,   92,   96])>"
            ]
          },
          "execution_count": 23,
          "metadata": {},
          "output_type": "execute_result"
        }
      ],
      "source": [
        "X = tf.range(-100,100,4)\n",
        "X"
      ]
    },
    {
      "cell_type": "code",
      "execution_count": 24,
      "metadata": {
        "colab": {
          "base_uri": "https://localhost:8080/"
        },
        "id": "BR-l8DlBNLrW",
        "outputId": "79ace114-321f-46b3-9dc4-904d7fc13402"
      },
      "outputs": [
        {
          "data": {
            "text/plain": [
              "<tf.Tensor: shape=(50,), dtype=int32, numpy=\n",
              "array([-100,  -96,  -92,  -88,  -84,  -80,  -76,  -72,  -68,  -64,  -60,\n",
              "        -56,  -52,  -48,  -44,  -40,  -36,  -32,  -28,  -24,  -20,  -16,\n",
              "        -12,   -8,   -4,    0,    4,    8,   12,   16,   20,   24,   28,\n",
              "         32,   36,   40,   44,   48,   52,   56,   60,   64,   68,   72,\n",
              "         76,   80,   84,   88,   92,   96])>"
            ]
          },
          "execution_count": 24,
          "metadata": {},
          "output_type": "execute_result"
        }
      ],
      "source": [
        "Y = X+10\n",
        "X"
      ]
    },
    {
      "cell_type": "code",
      "execution_count": 25,
      "metadata": {
        "id": "Nbz8SJWzNPIh"
      },
      "outputs": [],
      "source": [
        "import matplotlib.pyplot as plt"
      ]
    },
    {
      "cell_type": "code",
      "execution_count": 26,
      "metadata": {
        "colab": {
          "base_uri": "https://localhost:8080/",
          "height": 282
        },
        "id": "LHSb_UhMNaxq",
        "outputId": "aa2bcb0c-1b82-4a01-8d48-d659d4a02aa4"
      },
      "outputs": [
        {
          "data": {
            "text/plain": [
              "<matplotlib.collections.PathCollection at 0x1ba5bcc6f50>"
            ]
          },
          "execution_count": 26,
          "metadata": {},
          "output_type": "execute_result"
        },
        {
          "data": {
            "image/png": "[encoded data removed]",
            "text/plain": [
              "<Figure size 432x288 with 1 Axes>"
            ]
          },
          "metadata": {
            "needs_background": "light"
          },
          "output_type": "display_data"
        }
      ],
      "source": [
        "plt.scatter(X,Y)"
      ]
    },
    {
      "cell_type": "markdown",
      "metadata": {
        "id": "PA0Dc-ZnNd82"
      },
      "source": [
        "### The 3 set rule ...\n",
        "+ Training set - Model trains on this data, which is typically the 80% of the data avalabale,\n",
        "+ Validation set - the model  get s turned on this data, which is typically 10-15% of the data\n",
        "+ Test set - the model gets evaluated on this data, mostly 10-15% of data is avalable.\n"
      ]
    },
    {
      "cell_type": "code",
      "execution_count": 27,
      "metadata": {
        "colab": {
          "base_uri": "https://localhost:8080/"
        },
        "id": "8K4V-rfPalDJ",
        "outputId": "a9a7e9d8-7c10-4b93-e109-c5927c7afca7"
      },
      "outputs": [
        {
          "data": {
            "text/plain": [
              "(40, 10, 40, 10)"
            ]
          },
          "execution_count": 27,
          "metadata": {},
          "output_type": "execute_result"
        }
      ],
      "source": [
        "# Split data into train and test sets\n",
        "\n",
        "X_train = X[:40]\n",
        "X_test = X[40:]\n",
        "\n",
        "Y_train = Y[:40]\n",
        "Y_test = Y[40:]\n",
        "\n",
        "len(X_train), len(X_test), len(Y_train), len(Y_test)"
      ]
    },
    {
      "cell_type": "code",
      "execution_count": null,
      "metadata": {
        "id": "tlo8ofKnG6Ov"
      },
      "outputs": [],
      "source": []
    },
    {
      "cell_type": "markdown",
      "metadata": {
        "id": "Y9nT8f7zlKRp"
      },
      "source": [
        "#### Visualizing Data"
      ]
    },
    {
      "cell_type": "code",
      "execution_count": 28,
      "metadata": {
        "colab": {
          "base_uri": "https://localhost:8080/",
          "height": 428
        },
        "id": "O8y5gOH5lliF",
        "outputId": "42344ef7-b3dc-46cf-e0db-f8f62f72b226"
      },
      "outputs": [
        {
          "data": {
            "image/png": "[encoded data removed]",
            "text/plain": [
              "<Figure size 720x504 with 1 Axes>"
            ]
          },
          "metadata": {
            "needs_background": "light"
          },
          "output_type": "display_data"
        }
      ],
      "source": [
        "plt.figure(figsize=(10,7))\n",
        "# Plot training data\n",
        "plt.scatter(X_train, Y_train, c=\"b\", label=\"Training Data\")\n",
        "\n",
        "# Plotting the test data\n",
        "plt.scatter(X_test, Y_test, c=\"g\", label=\"Test Data\")\n",
        "\n",
        "# Show a legend\n",
        "plt.legend();"
      ]
    },
    {
      "cell_type": "code",
      "execution_count": 29,
      "metadata": {
        "id": "IEJW_IT6mHs8"
      },
      "outputs": [],
      "source": [
        "# Lets take a look on how to build a neural netwokrk for our data\n",
        "\n",
        "model  =tf.keras.Sequential([\n",
        "    tf.keras.layers.Dense(1, input_shape=(1,))\n",
        "])\n",
        "\n",
        "model.compile(loss=tf.keras.losses.mae,\n",
        "              optimizer = tf.keras.optimizers.SGD(),\n",
        "              metrics=[\"mae\"])\n",
        "\n",
        "# model.fit(X_train,Y_train, epochs=100)"
      ]
    },
    {
      "cell_type": "code",
      "execution_count": 30,
      "metadata": {
        "colab": {
          "base_uri": "https://localhost:8080/"
        },
        "id": "IEUt3a2AoTq8",
        "outputId": "8afcb3c9-64b3-466f-a7d8-6b341c074ac8"
      },
      "outputs": [
        {
          "name": "stdout",
          "output_type": "stream",
          "text": [
            "Model: \"sequential_4\"\n",
            "_________________________________________________________________\n",
            " Layer (type)                Output Shape              Param #   \n",
            "=================================================================\n",
            " dense_5 (Dense)             (None, 1)                 2         \n",
            "                                                                 \n",
            "=================================================================\n",
            "Total params: 2\n",
            "Trainable params: 2\n",
            "Non-trainable params: 0\n",
            "_________________________________________________________________\n"
          ]
        }
      ],
      "source": [
        "\n",
        "model.summary()"
      ]
    },
    {
      "cell_type": "code",
      "execution_count": 31,
      "metadata": {
        "id": "j-O7HvD4olNL"
      },
      "outputs": [],
      "source": [
        "# Lets create a model  that build automatically be defining the input_shape argument in the first layer"
      ]
    },
    {
      "cell_type": "code",
      "execution_count": 32,
      "metadata": {
        "colab": {
          "base_uri": "https://localhost:8080/"
        },
        "id": "8w7dc6_IpDni",
        "outputId": "d2dceb0c-309c-495b-ec5a-383e3314f581"
      },
      "outputs": [
        {
          "name": "stdout",
          "output_type": "stream",
          "text": [
            "Model: \"sequential_5\"\n",
            "_________________________________________________________________\n",
            " Layer (type)                Output Shape              Param #   \n",
            "=================================================================\n",
            " dense_6 (Dense)             (None, 10)                20        \n",
            "                                                                 \n",
            "=================================================================\n",
            "Total params: 20\n",
            "Trainable params: 20\n",
            "Non-trainable params: 0\n",
            "_________________________________________________________________\n"
          ]
        }
      ],
      "source": [
        "tf.random.set_seed(42)\n",
        "\n",
        "model = tf.keras.Sequential([\n",
        "    tf.keras.layers.Dense(10, input_shape=[1])\n",
        "])\n",
        "\n",
        "model.compile(loss=tf.keras.losses.mae, optimizer=tf.keras.optimizers.SGD(),\n",
        "              metrics=[\"mae\"])\n",
        "\n",
        "model.summary()"
      ]
    },
    {
      "cell_type": "markdown",
      "metadata": {
        "id": "_Ln79O1LptQj"
      },
      "source": [
        "Total params is the total number of parameters in the model.\n",
        "\n",
        "Tainiable params - Parameters the model can update as it trains\n",
        "\n",
        "Non-trainable params: These params ain't updated during the training (typical  when other patterns are bringed from the trained models during **transfer learning**)"
      ]
    },
    {
      "cell_type": "code",
      "execution_count": 33,
      "metadata": {
        "colab": {
          "base_uri": "https://localhost:8080/"
        },
        "id": "L-mAHOXsqufU",
        "outputId": "eb9bf785-cfb0-47bc-ee31-b088c9055356"
      },
      "outputs": [
        {
          "name": "stdout",
          "output_type": "stream",
          "text": [
            "Epoch 1/100\n",
            "2/2 [==============================] - 0s 5ms/step - loss: 44.8021 - mae: 44.8021\n",
            "Epoch 2/100\n",
            "2/2 [==============================] - 0s 3ms/step - loss: 41.4297 - mae: 41.4297\n",
            "Epoch 3/100\n",
            "2/2 [==============================] - 0s 4ms/step - loss: 37.9603 - mae: 37.9603\n",
            "Epoch 4/100\n",
            "2/2 [==============================] - 0s 2ms/step - loss: 34.7632 - mae: 34.7632\n",
            "Epoch 5/100\n",
            "2/2 [==============================] - 0s 3ms/step - loss: 31.6745 - mae: 31.6745\n",
            "Epoch 6/100\n",
            "2/2 [==============================] - 0s 2ms/step - loss: 28.8512 - mae: 28.8512\n",
            "Epoch 7/100\n",
            "2/2 [==============================] - 0s 4ms/step - loss: 26.1919 - mae: 26.1919\n",
            "Epoch 8/100\n",
            "2/2 [==============================] - 0s 3ms/step - loss: 23.4156 - mae: 23.4156\n",
            "Epoch 9/100\n",
            "2/2 [==============================] - 0s 4ms/step - loss: 20.4466 - mae: 20.4466\n",
            "Epoch 10/100\n",
            "2/2 [==============================] - 0s 3ms/step - loss: 17.9591 - mae: 17.9591\n",
            "Epoch 11/100\n",
            "2/2 [==============================] - 0s 3ms/step - loss: 15.7816 - mae: 15.7816\n",
            "Epoch 12/100\n",
            "2/2 [==============================] - 0s 3ms/step - loss: 13.4945 - mae: 13.4945\n",
            "Epoch 13/100\n",
            "2/2 [==============================] - 0s 3ms/step - loss: 11.4175 - mae: 11.4175\n",
            "Epoch 14/100\n",
            "2/2 [==============================] - 0s 3ms/step - loss: 9.7266 - mae: 9.7266\n",
            "Epoch 15/100\n",
            "2/2 [==============================] - 0s 4ms/step - loss: 8.6711 - mae: 8.6711\n",
            "Epoch 16/100\n",
            "2/2 [==============================] - 0s 3ms/step - loss: 8.0646 - mae: 8.0646\n",
            "Epoch 17/100\n",
            "2/2 [==============================] - 0s 2ms/step - loss: 7.7919 - mae: 7.7919\n",
            "Epoch 18/100\n",
            "2/2 [==============================] - 0s 2ms/step - loss: 7.6630 - mae: 7.6630\n",
            "Epoch 19/100\n",
            "2/2 [==============================] - 0s 3ms/step - loss: 7.6915 - mae: 7.6915\n",
            "Epoch 20/100\n",
            "2/2 [==============================] - 0s 3ms/step - loss: 7.6150 - mae: 7.6150\n",
            "Epoch 21/100\n",
            "2/2 [==============================] - 0s 2ms/step - loss: 7.6166 - mae: 7.6166\n",
            "Epoch 22/100\n",
            "2/2 [==============================] - 0s 3ms/step - loss: 7.6704 - mae: 7.6704\n",
            "Epoch 23/100\n",
            "2/2 [==============================] - 0s 2ms/step - loss: 7.6378 - mae: 7.6378\n",
            "Epoch 24/100\n",
            "2/2 [==============================] - 0s 4ms/step - loss: 7.7386 - mae: 7.7386\n",
            "Epoch 25/100\n",
            "2/2 [==============================] - 0s 3ms/step - loss: 7.7510 - mae: 7.7510\n",
            "Epoch 26/100\n",
            "2/2 [==============================] - 0s 2ms/step - loss: 7.6458 - mae: 7.6458\n",
            "Epoch 27/100\n",
            "2/2 [==============================] - 0s 5ms/step - loss: 7.6157 - mae: 7.6157\n",
            "Epoch 28/100\n",
            "2/2 [==============================] - 0s 4ms/step - loss: 7.6230 - mae: 7.6230\n",
            "Epoch 29/100\n",
            "2/2 [==============================] - 0s 3ms/step - loss: 7.6749 - mae: 7.6749\n",
            "Epoch 30/100\n",
            "2/2 [==============================] - 0s 2ms/step - loss: 7.6055 - mae: 7.6055\n",
            "Epoch 31/100\n",
            "2/2 [==============================] - 0s 3ms/step - loss: 7.7327 - mae: 7.7327\n",
            "Epoch 32/100\n",
            "2/2 [==============================] - 0s 3ms/step - loss: 7.7560 - mae: 7.7560\n",
            "Epoch 33/100\n",
            "2/2 [==============================] - 0s 2ms/step - loss: 7.6353 - mae: 7.6353\n",
            "Epoch 34/100\n",
            "2/2 [==============================] - 0s 3ms/step - loss: 7.6122 - mae: 7.6122\n",
            "Epoch 35/100\n",
            "2/2 [==============================] - 0s 3ms/step - loss: 7.7181 - mae: 7.7181\n",
            "Epoch 36/100\n",
            "2/2 [==============================] - 0s 3ms/step - loss: 8.0180 - mae: 8.0180\n",
            "Epoch 37/100\n",
            "2/2 [==============================] - 0s 3ms/step - loss: 7.6802 - mae: 7.6802\n",
            "Epoch 38/100\n",
            "2/2 [==============================] - 0s 3ms/step - loss: 7.6259 - mae: 7.6259\n",
            "Epoch 39/100\n",
            "2/2 [==============================] - 0s 3ms/step - loss: 7.5993 - mae: 7.5993\n",
            "Epoch 40/100\n",
            "2/2 [==============================] - 0s 3ms/step - loss: 7.6088 - mae: 7.6088\n",
            "Epoch 41/100\n",
            "2/2 [==============================] - 0s 4ms/step - loss: 7.6466 - mae: 7.6466\n",
            "Epoch 42/100\n",
            "2/2 [==============================] - 0s 3ms/step - loss: 7.5894 - mae: 7.5894\n",
            "Epoch 43/100\n",
            "2/2 [==============================] - 0s 3ms/step - loss: 7.5903 - mae: 7.5903\n",
            "Epoch 44/100\n",
            "2/2 [==============================] - 0s 3ms/step - loss: 7.6139 - mae: 7.6139\n",
            "Epoch 45/100\n",
            "2/2 [==============================] - 0s 2ms/step - loss: 7.7208 - mae: 7.7208\n",
            "Epoch 46/100\n",
            "2/2 [==============================] - 0s 2ms/step - loss: 7.7246 - mae: 7.7246\n",
            "Epoch 47/100\n",
            "2/2 [==============================] - 0s 3ms/step - loss: 7.6636 - mae: 7.6636\n",
            "Epoch 48/100\n",
            "2/2 [==============================] - 0s 2ms/step - loss: 7.7059 - mae: 7.7059\n",
            "Epoch 49/100\n",
            "2/2 [==============================] - 0s 3ms/step - loss: 7.6435 - mae: 7.6435\n",
            "Epoch 50/100\n",
            "2/2 [==============================] - 0s 2ms/step - loss: 7.8264 - mae: 7.8264\n",
            "Epoch 51/100\n",
            "2/2 [==============================] - 0s 3ms/step - loss: 7.6254 - mae: 7.6254\n",
            "Epoch 52/100\n",
            "2/2 [==============================] - 0s 3ms/step - loss: 7.6642 - mae: 7.6642\n",
            "Epoch 53/100\n",
            "2/2 [==============================] - 0s 3ms/step - loss: 7.6984 - mae: 7.6984\n",
            "Epoch 54/100\n",
            "2/2 [==============================] - 0s 2ms/step - loss: 7.6720 - mae: 7.6720\n",
            "Epoch 55/100\n",
            "2/2 [==============================] - 0s 4ms/step - loss: 7.5987 - mae: 7.5987\n",
            "Epoch 56/100\n",
            "2/2 [==============================] - 0s 3ms/step - loss: 7.6279 - mae: 7.6279\n",
            "Epoch 57/100\n",
            "2/2 [==============================] - 0s 2ms/step - loss: 7.8712 - mae: 7.8712\n",
            "Epoch 58/100\n",
            "2/2 [==============================] - 0s 3ms/step - loss: 7.6654 - mae: 7.6654\n",
            "Epoch 59/100\n",
            "2/2 [==============================] - 0s 3ms/step - loss: 7.5868 - mae: 7.5868\n",
            "Epoch 60/100\n",
            "2/2 [==============================] - 0s 3ms/step - loss: 7.5853 - mae: 7.5853\n",
            "Epoch 61/100\n",
            "2/2 [==============================] - 0s 3ms/step - loss: 7.5840 - mae: 7.5840\n",
            "Epoch 62/100\n",
            "2/2 [==============================] - 0s 3ms/step - loss: 7.6568 - mae: 7.6568\n",
            "Epoch 63/100\n",
            "2/2 [==============================] - 0s 3ms/step - loss: 7.6579 - mae: 7.6579\n",
            "Epoch 64/100\n",
            "2/2 [==============================] - 0s 4ms/step - loss: 7.8161 - mae: 7.8161\n",
            "Epoch 65/100\n",
            "2/2 [==============================] - 0s 3ms/step - loss: 7.5805 - mae: 7.5805\n",
            "Epoch 66/100\n",
            "2/2 [==============================] - 0s 3ms/step - loss: 7.5767 - mae: 7.5767\n",
            "Epoch 67/100\n",
            "2/2 [==============================] - 0s 4ms/step - loss: 7.5925 - mae: 7.5925\n",
            "Epoch 68/100\n",
            "2/2 [==============================] - 0s 3ms/step - loss: 7.5615 - mae: 7.5615\n",
            "Epoch 69/100\n",
            "2/2 [==============================] - 0s 4ms/step - loss: 7.6120 - mae: 7.6120\n",
            "Epoch 70/100\n",
            "2/2 [==============================] - 0s 3ms/step - loss: 7.6093 - mae: 7.6093\n",
            "Epoch 71/100\n",
            "2/2 [==============================] - 0s 3ms/step - loss: 7.9306 - mae: 7.9306\n",
            "Epoch 72/100\n",
            "2/2 [==============================] - 0s 3ms/step - loss: 7.6918 - mae: 7.6918\n",
            "Epoch 73/100\n",
            "2/2 [==============================] - 0s 5ms/step - loss: 7.6291 - mae: 7.6291\n",
            "Epoch 74/100\n",
            "2/2 [==============================] - 0s 3ms/step - loss: 7.7413 - mae: 7.7413\n",
            "Epoch 75/100\n",
            "2/2 [==============================] - 0s 4ms/step - loss: 7.6185 - mae: 7.6185\n",
            "Epoch 76/100\n",
            "2/2 [==============================] - 0s 3ms/step - loss: 7.6148 - mae: 7.6148\n",
            "Epoch 77/100\n",
            "2/2 [==============================] - 0s 4ms/step - loss: 7.5680 - mae: 7.5680\n",
            "Epoch 78/100\n",
            "2/2 [==============================] - 0s 5ms/step - loss: 7.5952 - mae: 7.5952\n",
            "Epoch 79/100\n",
            "2/2 [==============================] - 0s 3ms/step - loss: 7.5799 - mae: 7.5799\n",
            "Epoch 80/100\n",
            "2/2 [==============================] - 0s 3ms/step - loss: 7.6143 - mae: 7.6143\n",
            "Epoch 81/100\n",
            "2/2 [==============================] - 0s 4ms/step - loss: 7.6113 - mae: 7.6113\n",
            "Epoch 82/100\n",
            "2/2 [==============================] - 0s 4ms/step - loss: 7.5509 - mae: 7.5509\n",
            "Epoch 83/100\n",
            "2/2 [==============================] - 0s 5ms/step - loss: 7.5921 - mae: 7.5921\n",
            "Epoch 84/100\n",
            "2/2 [==============================] - 0s 4ms/step - loss: 7.5687 - mae: 7.5687\n",
            "Epoch 85/100\n",
            "2/2 [==============================] - 0s 3ms/step - loss: 7.5737 - mae: 7.5737\n",
            "Epoch 86/100\n",
            "2/2 [==============================] - 0s 3ms/step - loss: 7.6779 - mae: 7.6779\n",
            "Epoch 87/100\n",
            "2/2 [==============================] - 0s 3ms/step - loss: 7.8171 - mae: 7.8171\n",
            "Epoch 88/100\n",
            "2/2 [==============================] - 0s 4ms/step - loss: 8.1232 - mae: 8.1232\n",
            "Epoch 89/100\n",
            "2/2 [==============================] - 0s 4ms/step - loss: 7.5467 - mae: 7.5467\n",
            "Epoch 90/100\n",
            "2/2 [==============================] - 0s 5ms/step - loss: 7.5651 - mae: 7.5651\n",
            "Epoch 91/100\n",
            "2/2 [==============================] - 0s 4ms/step - loss: 7.5944 - mae: 7.5944\n",
            "Epoch 92/100\n",
            "2/2 [==============================] - 0s 3ms/step - loss: 7.5930 - mae: 7.5930\n",
            "Epoch 93/100\n",
            "2/2 [==============================] - 0s 4ms/step - loss: 7.5718 - mae: 7.5718\n",
            "Epoch 94/100\n",
            "2/2 [==============================] - 0s 3ms/step - loss: 7.5309 - mae: 7.5309\n",
            "Epoch 95/100\n",
            "2/2 [==============================] - 0s 4ms/step - loss: 7.7393 - mae: 7.7393\n",
            "Epoch 96/100\n",
            "2/2 [==============================] - 0s 3ms/step - loss: 7.6033 - mae: 7.6033\n",
            "Epoch 97/100\n",
            "2/2 [==============================] - 0s 3ms/step - loss: 7.6452 - mae: 7.6452\n",
            "Epoch 98/100\n",
            "2/2 [==============================] - 0s 3ms/step - loss: 7.5879 - mae: 7.5879\n",
            "Epoch 99/100\n",
            "2/2 [==============================] - 0s 3ms/step - loss: 7.5381 - mae: 7.5381\n",
            "Epoch 100/100\n",
            "2/2 [==============================] - 0s 3ms/step - loss: 7.5435 - mae: 7.5435\n"
          ]
        },
        {
          "data": {
            "text/plain": [
              "<keras.callbacks.History at 0x1ba5cd4fb80>"
            ]
          },
          "execution_count": 33,
          "metadata": {},
          "output_type": "execute_result"
        }
      ],
      "source": [
        "\n",
        "model.fit(X_train, Y_train, epochs=100, verbose=1)"
      ]
    },
    {
      "cell_type": "markdown",
      "metadata": {
        "id": "JH7Wgodjtf0y"
      },
      "source": [
        "### Visualizing Layers"
      ]
    },
    {
      "cell_type": "code",
      "execution_count": 34,
      "metadata": {
        "colab": {
          "base_uri": "https://localhost:8080/"
        },
        "id": "l9NNOMJ9tPdN",
        "outputId": "93344b8e-4475-48bb-9e76-2a48bdcced2a"
      },
      "outputs": [
        {
          "name": "stdout",
          "output_type": "stream",
          "text": [
            "Model: \"sequential_5\"\n",
            "_________________________________________________________________\n",
            " Layer (type)                Output Shape              Param #   \n",
            "=================================================================\n",
            " dense_6 (Dense)             (None, 10)                20        \n",
            "                                                                 \n",
            "=================================================================\n",
            "Total params: 20\n",
            "Trainable params: 20\n",
            "Non-trainable params: 0\n",
            "_________________________________________________________________\n"
          ]
        }
      ],
      "source": [
        "model.summary()"
      ]
    },
    {
      "cell_type": "code",
      "execution_count": 35,
      "metadata": {
        "colab": {
          "base_uri": "https://localhost:8080/",
          "height": 201
        },
        "id": "ZMW-WMT2tj0q",
        "outputId": "cbc56c90-a2af-4114-b9fe-4aedbd7d3828"
      },
      "outputs": [
        {
          "name": "stdout",
          "output_type": "stream",
          "text": [
            "You must install pydot (`pip install pydot`) and install graphviz (see instructions at https://graphviz.gitlab.io/download/) for plot_model to work.\n"
          ]
        }
      ],
      "source": [
        "from keras.utils import plot_model\n",
        "\n",
        "plot_model(model, show_shapes=True)"
      ]
    },
    {
      "cell_type": "code",
      "execution_count": 36,
      "metadata": {
        "id": "Sna0AgBWHBE_"
      },
      "outputs": [],
      "source": [
        "X_train = X[:40]\n",
        "X_test = X[40:]\n",
        "\n",
        "Y_train = Y[:40]\n",
        "Y_test = Y[40:]"
      ]
    },
    {
      "cell_type": "code",
      "execution_count": 37,
      "metadata": {
        "id": "rBziKcGqt-CZ"
      },
      "outputs": [],
      "source": [
        "\n",
        "tf.random.set_seed(42)\n",
        "\n",
        "model = tf.keras.Sequential([\n",
        "    tf.keras.layers.Dense(10, input_shape=[1], name=\"InputLayer\"),\n",
        "    tf.keras.layers.Dense(1,name=\"Output_Layer\")\n",
        "],name=\"My_Model\")\n",
        "\n",
        "model.compile(loss=tf.keras.losses.mae,\n",
        "              optimizer=tf.keras.optimizers.SGD(),\n",
        "              metrics=[\"mae\"])"
      ]
    },
    {
      "cell_type": "code",
      "execution_count": 38,
      "metadata": {
        "colab": {
          "base_uri": "https://localhost:8080/"
        },
        "id": "Yo4gnAgUBwrZ",
        "outputId": "261adc7c-a031-4178-9c4e-9457ae6f9ccf"
      },
      "outputs": [
        {
          "data": {
            "text/plain": [
              "<keras.callbacks.History at 0x1ba5cdeb910>"
            ]
          },
          "execution_count": 38,
          "metadata": {},
          "output_type": "execute_result"
        }
      ],
      "source": [
        "\n",
        "model.fit(X_train, Y_train,epochs=50, verbose=0)"
      ]
    },
    {
      "cell_type": "code",
      "execution_count": 39,
      "metadata": {
        "colab": {
          "base_uri": "https://localhost:8080/"
        },
        "id": "6p0u_fPRATqv",
        "outputId": "444b6c77-f19a-4509-9f3f-5fc9fa215a84"
      },
      "outputs": [
        {
          "name": "stdout",
          "output_type": "stream",
          "text": [
            "Model: \"My_Model\"\n",
            "_________________________________________________________________\n",
            " Layer (type)                Output Shape              Param #   \n",
            "=================================================================\n",
            " InputLayer (Dense)          (None, 10)                20        \n",
            "                                                                 \n",
            " Output_Layer (Dense)        (None, 1)                 11        \n",
            "                                                                 \n",
            "=================================================================\n",
            "Total params: 31\n",
            "Trainable params: 31\n",
            "Non-trainable params: 0\n",
            "_________________________________________________________________\n"
          ]
        }
      ],
      "source": [
        "\n",
        "model.summary()"
      ]
    },
    {
      "cell_type": "code",
      "execution_count": 40,
      "metadata": {
        "colab": {
          "base_uri": "https://localhost:8080/",
          "height": 312
        },
        "id": "fV0laGcIAxgC",
        "outputId": "2d182f0c-4fee-4dc5-ab7b-eadc2d5c263b"
      },
      "outputs": [
        {
          "name": "stdout",
          "output_type": "stream",
          "text": [
            "You must install pydot (`pip install pydot`) and install graphviz (see instructions at https://graphviz.gitlab.io/download/) for plot_model to work.\n"
          ]
        }
      ],
      "source": [
        "\n",
        "plot_model(model, show_shapes=True)"
      ]
    },
    {
      "cell_type": "markdown",
      "metadata": {
        "id": "Mskr3BYpCKtH"
      },
      "source": [
        "So far we have seen about visualizing Layers"
      ]
    },
    {
      "cell_type": "markdown",
      "metadata": {
        "id": "gZ1wGjCYBc_E"
      },
      "source": [
        "### Visualizing Predictions\n",
        "\n",
        "TO visualize predictions, it is a good idea to pplt them against the good truth table\n",
        "\n",
        "Often you'll see this in thr form of `y_test` or `y_true` versus `y_pred`"
      ]
    },
    {
      "cell_type": "code",
      "execution_count": 41,
      "metadata": {
        "colab": {
          "base_uri": "https://localhost:8080/"
        },
        "id": "xsaOCF_QGjIQ",
        "outputId": "6162999c-7adc-4b96-998d-abaecc058c2f"
      },
      "outputs": [
        {
          "data": {
            "text/plain": [
              "<tf.Tensor: shape=(10,), dtype=int32, numpy=array([60, 64, 68, 72, 76, 80, 84, 88, 92, 96])>"
            ]
          },
          "execution_count": 41,
          "metadata": {},
          "output_type": "execute_result"
        }
      ],
      "source": [
        "X_test"
      ]
    },
    {
      "cell_type": "code",
      "execution_count": 42,
      "metadata": {
        "colab": {
          "base_uri": "https://localhost:8080/"
        },
        "id": "2LUrozkhCQyB",
        "outputId": "4fa3acdc-229b-45ec-b247-b7c493c41c0f"
      },
      "outputs": [
        {
          "name": "stdout",
          "output_type": "stream",
          "text": [
            "WARNING:tensorflow:5 out of the last 5 calls to <function Model.make_predict_function.<locals>.predict_function at 0x000001BA5CD58EE0> triggered tf.function retracing. Tracing is expensive and the excessive number of tracings could be due to (1) creating @tf.function repeatedly in a loop, (2) passing tensors with different shapes, (3) passing Python objects instead of tensors. For (1), please define your @tf.function outside of the loop. For (2), @tf.function has reduce_retracing=True option that can avoid unnecessary retracing. For (3), please refer to https://www.tensorflow.org/guide/function#controlling_retracing and https://www.tensorflow.org/api_docs/python/tf/function for  more details.\n",
            "1/1 [==============================] - 0s 47ms/step\n"
          ]
        },
        {
          "data": {
            "text/plain": [
              "array([[ 64.17176 ],\n",
              "       [ 68.393135],\n",
              "       [ 72.61449 ],\n",
              "       [ 76.83585 ],\n",
              "       [ 81.05723 ],\n",
              "       [ 85.27859 ],\n",
              "       [ 89.49995 ],\n",
              "       [ 93.721306],\n",
              "       [ 97.94268 ],\n",
              "       [102.16403 ]], dtype=float32)"
            ]
          },
          "execution_count": 42,
          "metadata": {},
          "output_type": "execute_result"
        }
      ],
      "source": [
        "y_pred = model.predict(X_test)\n",
        "y_pred"
      ]
    },
    {
      "cell_type": "code",
      "execution_count": 43,
      "metadata": {
        "colab": {
          "base_uri": "https://localhost:8080/"
        },
        "id": "hJjS83XuGgnJ",
        "outputId": "fc5b7eb3-3c80-4962-8d9d-a9e4a2105904"
      },
      "outputs": [
        {
          "data": {
            "text/plain": [
              "<tf.Tensor: shape=(10,), dtype=int32, numpy=array([ 70,  74,  78,  82,  86,  90,  94,  98, 102, 106])>"
            ]
          },
          "execution_count": 43,
          "metadata": {},
          "output_type": "execute_result"
        }
      ],
      "source": [
        "Y_test"
      ]
    },
    {
      "cell_type": "code",
      "execution_count": 44,
      "metadata": {
        "id": "3M1tqaBzGr2B"
      },
      "outputs": [],
      "source": [
        "# Let's create a plotting functions so that we can use it when needed\n",
        "\n",
        "def plot_pred(train_data=X_train,\n",
        "              train_labels=Y_train, \n",
        "              test_data=X_test,\n",
        "              test_label=Y_test, \n",
        "              predictions=y_pred):\n",
        "  plt.figure(figsize=(10,7))\n",
        "  plt.scatter(train_data, train_labels,c=\"b\", label=\"Training Data\")\n",
        "  plt.scatter(test_data, test_label,c=\"g\", label=\"Test Data\")\n",
        "  plt.scatter(test_data,predictions,c=\"r\", label=\"Predictions\")\n",
        "  plt.legend();\n"
      ]
    },
    {
      "cell_type": "code",
      "execution_count": 45,
      "metadata": {
        "colab": {
          "base_uri": "https://localhost:8080/",
          "height": 428
        },
        "id": "hOQRDZoxJg67",
        "outputId": "7993f610-186e-4556-ae2d-f946255e1ffe"
      },
      "outputs": [
        {
          "data": {
            "image/png": "[encoded data removed]",
            "text/plain": [
              "<Figure size 720x504 with 1 Axes>"
            ]
          },
          "metadata": {
            "needs_background": "light"
          },
          "output_type": "display_data"
        }
      ],
      "source": [
        "plot_pred();"
      ]
    },
    {
      "cell_type": "markdown",
      "metadata": {
        "id": "2JqdxVtwLKTw"
      },
      "source": [
        "Evaluating model predictions with regression evaluation metrics\n",
        "\n",
        "Different evaluating metrice to evaluate model's performance\n",
        "\n",
        "+ **MAE** : Mean Absolute Error, on a average, how wrong is each of the model prediction\n",
        "\n",
        "+ **MSE** : Mean Square Error, Sqare the average errors"
      ]
    },
    {
      "cell_type": "code",
      "execution_count": 46,
      "metadata": {
        "colab": {
          "base_uri": "https://localhost:8080/"
        },
        "id": "_l7jzzbwJiym",
        "outputId": "9711ee8c-3fdd-4957-9fc6-709775676fc3"
      },
      "outputs": [
        {
          "name": "stdout",
          "output_type": "stream",
          "text": [
            "1/1 [==============================] - 0s 121ms/step - loss: 4.8321 - mae: 4.8321\n"
          ]
        },
        {
          "data": {
            "text/plain": [
              "[4.832098960876465, 4.832098960876465]"
            ]
          },
          "execution_count": 46,
          "metadata": {},
          "output_type": "execute_result"
        }
      ],
      "source": [
        "# Evaluate the model on test set\n",
        "model.evaluate(X_test, tf.constant(Y_test))"
      ]
    },
    {
      "cell_type": "code",
      "execution_count": null,
      "metadata": {
        "id": "1nkOpHatMvmz"
      },
      "outputs": [],
      "source": []
    },
    {
      "cell_type": "code",
      "execution_count": 47,
      "metadata": {
        "colab": {
          "base_uri": "https://localhost:8080/"
        },
        "id": "yM3ZH0l7MbFJ",
        "outputId": "aa934a35-3992-4bae-ceff-1a6dcc5af4ec"
      },
      "outputs": [
        {
          "data": {
            "text/plain": [
              "(array([[ 64.17176 ],\n",
              "        [ 68.393135],\n",
              "        [ 72.61449 ],\n",
              "        [ 76.83585 ],\n",
              "        [ 81.05723 ],\n",
              "        [ 85.27859 ],\n",
              "        [ 89.49995 ],\n",
              "        [ 93.721306],\n",
              "        [ 97.94268 ],\n",
              "        [102.16403 ]], dtype=float32),\n",
              " <tf.Tensor: shape=(10,), dtype=int32, numpy=array([ 70,  74,  78,  82,  86,  90,  94,  98, 102, 106])>)"
            ]
          },
          "execution_count": 47,
          "metadata": {},
          "output_type": "execute_result"
        }
      ],
      "source": [
        "y_pred, Y_test"
      ]
    },
    {
      "cell_type": "code",
      "execution_count": 48,
      "metadata": {
        "colab": {
          "base_uri": "https://localhost:8080/"
        },
        "id": "0ayUm5ayMrM5",
        "outputId": "489d6a8e-d90f-4323-de9d-3c5d314f84c7"
      },
      "outputs": [
        {
          "data": {
            "text/plain": [
              "<tf.Tensor: shape=(), dtype=float32, numpy=4.8320985>"
            ]
          },
          "execution_count": 48,
          "metadata": {},
          "output_type": "execute_result"
        }
      ],
      "source": [
        "# Calculating mean absolute error\n",
        "\n",
        "mae = tf.metrics.mean_absolute_error(Y_test, tf.squeeze(y_pred))\n",
        "mae"
      ]
    },
    {
      "cell_type": "code",
      "execution_count": 49,
      "metadata": {
        "colab": {
          "base_uri": "https://localhost:8080/"
        },
        "id": "LSABU1KZODeh",
        "outputId": "0ff2ed87-f9a9-430a-c36d-31fea09ac54b"
      },
      "outputs": [
        {
          "data": {
            "text/plain": [
              "<tf.Tensor: shape=(), dtype=float32, numpy=23.75344>"
            ]
          },
          "execution_count": 49,
          "metadata": {},
          "output_type": "execute_result"
        }
      ],
      "source": [
        "# Calculate mean square error\n",
        "mse = tf.metrics.mean_squared_error(Y_test, tf.squeeze(y_pred))\n",
        "mse"
      ]
    },
    {
      "cell_type": "code",
      "execution_count": 50,
      "metadata": {
        "colab": {
          "base_uri": "https://localhost:8080/"
        },
        "id": "JHjo9vnwONf1",
        "outputId": "841e3731-4237-4a1b-85da-f6a87c54607f"
      },
      "outputs": [
        {
          "data": {
            "text/plain": [
              "<tf.Tensor: shape=(), dtype=float32, numpy=4.3320985>"
            ]
          },
          "execution_count": 50,
          "metadata": {},
          "output_type": "execute_result"
        }
      ],
      "source": [
        "hub = tf.keras.losses.huber(Y_test, tf.squeeze(y_pred))\n",
        "hub"
      ]
    },
    {
      "cell_type": "code",
      "execution_count": 51,
      "metadata": {
        "id": "4C0uLnEFOa-X"
      },
      "outputs": [],
      "source": [
        "# Make some function to reuse mse and mae\n",
        "def mae(y_true, y_pred):\n",
        "  return tf.metrics.mean_absolute_error(Y_test, tf.squeeze(y_pred))\n",
        "\n",
        "def mse(y_true, y_pred):\n",
        "  return tf.metrics.mean_squared_error(Y_test, tf.squeeze(y_pred))"
      ]
    },
    {
      "cell_type": "markdown",
      "metadata": {
        "id": "Bq1JtDfuO1Qu"
      },
      "source": [
        "### Running experiments to improve a model\n",
        "\n",
        "Build - Fit - Evaluate - Tweak - Repeat\n",
        "\n",
        "1. Get more data(more opportunites to learn from data)\n",
        "2. Make your model larger(using more complex model, layers, hidden units, epoch)\n",
        "\n",
        "### 3 Modelling Experiments\n",
        "\n",
        "1. `model 1` : 1 Layer - 100 Epochs\n",
        "2. `model 2` : 2 layers - 100 EPochs\n",
        "3. `model 3` : 2 layers - 500 epochs"
      ]
    },
    {
      "cell_type": "code",
      "execution_count": 52,
      "metadata": {
        "colab": {
          "base_uri": "https://localhost:8080/"
        },
        "id": "qUprnq2SPTnF",
        "outputId": "68169080-2706-4b85-f103-7cf1dcd023cd"
      },
      "outputs": [
        {
          "data": {
            "text/plain": [
              "(<tf.Tensor: shape=(40,), dtype=int32, numpy=\n",
              " array([-100,  -96,  -92,  -88,  -84,  -80,  -76,  -72,  -68,  -64,  -60,\n",
              "         -56,  -52,  -48,  -44,  -40,  -36,  -32,  -28,  -24,  -20,  -16,\n",
              "         -12,   -8,   -4,    0,    4,    8,   12,   16,   20,   24,   28,\n",
              "          32,   36,   40,   44,   48,   52,   56])>,\n",
              " <tf.Tensor: shape=(40,), dtype=int32, numpy=\n",
              " array([-90, -86, -82, -78, -74, -70, -66, -62, -58, -54, -50, -46, -42,\n",
              "        -38, -34, -30, -26, -22, -18, -14, -10,  -6,  -2,   2,   6,  10,\n",
              "         14,  18,  22,  26,  30,  34,  38,  42,  46,  50,  54,  58,  62,\n",
              "         66])>)"
            ]
          },
          "execution_count": 52,
          "metadata": {},
          "output_type": "execute_result"
        }
      ],
      "source": [
        "X_train, Y_train"
      ]
    },
    {
      "cell_type": "code",
      "execution_count": 53,
      "metadata": {
        "colab": {
          "base_uri": "https://localhost:8080/"
        },
        "id": "OYfQi7gBPrxL",
        "outputId": "fb2da918-bcc8-4151-a031-a7c9352aa7c1"
      },
      "outputs": [
        {
          "name": "stdout",
          "output_type": "stream",
          "text": [
            "Epoch 1/100\n",
            "2/2 [==============================] - 0s 4ms/step - loss: 90.0943 - mae: 90.0943\n",
            "Epoch 2/100\n",
            "2/2 [==============================] - 0s 3ms/step - loss: 54.6389 - mae: 54.6389\n",
            "Epoch 3/100\n",
            "2/2 [==============================] - 0s 3ms/step - loss: 18.4495 - mae: 18.4495\n",
            "Epoch 4/100\n",
            "2/2 [==============================] - 0s 4ms/step - loss: 10.2938 - mae: 10.2938\n",
            "Epoch 5/100\n",
            "2/2 [==============================] - 0s 3ms/step - loss: 11.3092 - mae: 11.3092\n",
            "Epoch 6/100\n",
            "2/2 [==============================] - 0s 3ms/step - loss: 10.4384 - mae: 10.4384\n",
            "Epoch 7/100\n",
            "2/2 [==============================] - 0s 2ms/step - loss: 9.4165 - mae: 9.4165\n",
            "Epoch 8/100\n",
            "2/2 [==============================] - 0s 3ms/step - loss: 9.2879 - mae: 9.2879\n",
            "Epoch 9/100\n",
            "2/2 [==============================] - 0s 3ms/step - loss: 11.9926 - mae: 11.9926\n",
            "Epoch 10/100\n",
            "2/2 [==============================] - 0s 3ms/step - loss: 13.9594 - mae: 13.9594\n",
            "Epoch 11/100\n",
            "2/2 [==============================] - 0s 3ms/step - loss: 12.1040 - mae: 12.1040\n",
            "Epoch 12/100\n",
            "2/2 [==============================] - 0s 2ms/step - loss: 16.0636 - mae: 16.0636\n",
            "Epoch 13/100\n",
            "2/2 [==============================] - 0s 3ms/step - loss: 11.7100 - mae: 11.7100\n",
            "Epoch 14/100\n",
            "2/2 [==============================] - 0s 3ms/step - loss: 13.5529 - mae: 13.5529\n",
            "Epoch 15/100\n",
            "2/2 [==============================] - 0s 2ms/step - loss: 10.8656 - mae: 10.8656\n",
            "Epoch 16/100\n",
            "2/2 [==============================] - 0s 3ms/step - loss: 8.5400 - mae: 8.5400\n",
            "Epoch 17/100\n",
            "2/2 [==============================] - 0s 3ms/step - loss: 13.6093 - mae: 13.6093\n",
            "Epoch 18/100\n",
            "2/2 [==============================] - 0s 3ms/step - loss: 11.4246 - mae: 11.4246\n",
            "Epoch 19/100\n",
            "2/2 [==============================] - 0s 4ms/step - loss: 18.0095 - mae: 18.0095\n",
            "Epoch 20/100\n",
            "2/2 [==============================] - 0s 3ms/step - loss: 15.1435 - mae: 15.1435\n",
            "Epoch 21/100\n",
            "2/2 [==============================] - 0s 3ms/step - loss: 11.1063 - mae: 11.1063\n",
            "Epoch 22/100\n",
            "2/2 [==============================] - 0s 3ms/step - loss: 8.2374 - mae: 8.2374\n",
            "Epoch 23/100\n",
            "2/2 [==============================] - 0s 3ms/step - loss: 9.4965 - mae: 9.4965\n",
            "Epoch 24/100\n",
            "2/2 [==============================] - 0s 3ms/step - loss: 7.7016 - mae: 7.7016\n",
            "Epoch 25/100\n",
            "2/2 [==============================] - 0s 3ms/step - loss: 13.0994 - mae: 13.0994\n",
            "Epoch 26/100\n",
            "2/2 [==============================] - 0s 3ms/step - loss: 16.5138 - mae: 16.5138\n",
            "Epoch 27/100\n",
            "2/2 [==============================] - 0s 3ms/step - loss: 13.2476 - mae: 13.2476\n",
            "Epoch 28/100\n",
            "2/2 [==============================] - 0s 2ms/step - loss: 14.3557 - mae: 14.3557\n",
            "Epoch 29/100\n",
            "2/2 [==============================] - 0s 4ms/step - loss: 10.1134 - mae: 10.1134\n",
            "Epoch 30/100\n",
            "2/2 [==============================] - 0s 3ms/step - loss: 16.4747 - mae: 16.4747\n",
            "Epoch 31/100\n",
            "2/2 [==============================] - 0s 3ms/step - loss: 23.5421 - mae: 23.5421\n",
            "Epoch 32/100\n",
            "2/2 [==============================] - 0s 3ms/step - loss: 7.6305 - mae: 7.6305\n",
            "Epoch 33/100\n",
            "2/2 [==============================] - 0s 2ms/step - loss: 9.3245 - mae: 9.3245\n",
            "Epoch 34/100\n",
            "2/2 [==============================] - 0s 3ms/step - loss: 13.6723 - mae: 13.6723\n",
            "Epoch 35/100\n",
            "2/2 [==============================] - 0s 2ms/step - loss: 11.1990 - mae: 11.1990\n",
            "Epoch 36/100\n",
            "2/2 [==============================] - 0s 3ms/step - loss: 13.4331 - mae: 13.4331\n",
            "Epoch 37/100\n",
            "2/2 [==============================] - 0s 4ms/step - loss: 9.4658 - mae: 9.4658\n",
            "Epoch 38/100\n",
            "2/2 [==============================] - 0s 3ms/step - loss: 10.1170 - mae: 10.1170\n",
            "Epoch 39/100\n",
            "2/2 [==============================] - 0s 3ms/step - loss: 8.9935 - mae: 8.9935\n",
            "Epoch 40/100\n",
            "2/2 [==============================] - 0s 3ms/step - loss: 9.6220 - mae: 9.6220\n",
            "Epoch 41/100\n",
            "2/2 [==============================] - 0s 3ms/step - loss: 10.5810 - mae: 10.5810\n",
            "Epoch 42/100\n",
            "2/2 [==============================] - 0s 3ms/step - loss: 10.6338 - mae: 10.6338\n",
            "Epoch 43/100\n",
            "2/2 [==============================] - 0s 3ms/step - loss: 7.2363 - mae: 7.2363\n",
            "Epoch 44/100\n",
            "2/2 [==============================] - 0s 3ms/step - loss: 8.0348 - mae: 8.0348\n",
            "Epoch 45/100\n",
            "2/2 [==============================] - 0s 2ms/step - loss: 9.8360 - mae: 9.8360\n",
            "Epoch 46/100\n",
            "2/2 [==============================] - 0s 4ms/step - loss: 8.9141 - mae: 8.9141\n",
            "Epoch 47/100\n",
            "2/2 [==============================] - 0s 4ms/step - loss: 7.5934 - mae: 7.5934\n",
            "Epoch 48/100\n",
            "2/2 [==============================] - 0s 3ms/step - loss: 8.5666 - mae: 8.5666\n",
            "Epoch 49/100\n",
            "2/2 [==============================] - 0s 3ms/step - loss: 10.0461 - mae: 10.0461\n",
            "Epoch 50/100\n",
            "2/2 [==============================] - 0s 3ms/step - loss: 9.0139 - mae: 9.0139\n",
            "Epoch 51/100\n",
            "2/2 [==============================] - 0s 2ms/step - loss: 10.7210 - mae: 10.7210\n",
            "Epoch 52/100\n",
            "2/2 [==============================] - 0s 3ms/step - loss: 15.2903 - mae: 15.2903\n",
            "Epoch 53/100\n",
            "2/2 [==============================] - 0s 3ms/step - loss: 14.3160 - mae: 14.3160\n",
            "Epoch 54/100\n",
            "2/2 [==============================] - 0s 2ms/step - loss: 21.5743 - mae: 21.5743\n",
            "Epoch 55/100\n",
            "2/2 [==============================] - 0s 3ms/step - loss: 16.0455 - mae: 16.0455\n",
            "Epoch 56/100\n",
            "2/2 [==============================] - 0s 3ms/step - loss: 10.2750 - mae: 10.2750\n",
            "Epoch 57/100\n",
            "2/2 [==============================] - 0s 4ms/step - loss: 9.8117 - mae: 9.8117\n",
            "Epoch 58/100\n",
            "2/2 [==============================] - 0s 3ms/step - loss: 9.0957 - mae: 9.0957\n",
            "Epoch 59/100\n",
            "2/2 [==============================] - 0s 4ms/step - loss: 8.2968 - mae: 8.2968\n",
            "Epoch 60/100\n",
            "2/2 [==============================] - 0s 3ms/step - loss: 9.3932 - mae: 9.3932\n",
            "Epoch 61/100\n",
            "2/2 [==============================] - 0s 4ms/step - loss: 11.2171 - mae: 11.2171\n",
            "Epoch 62/100\n",
            "2/2 [==============================] - 0s 4ms/step - loss: 12.0627 - mae: 12.0627\n",
            "Epoch 63/100\n",
            "2/2 [==============================] - 0s 3ms/step - loss: 7.2944 - mae: 7.2944\n",
            "Epoch 64/100\n",
            "2/2 [==============================] - 0s 3ms/step - loss: 12.4730 - mae: 12.4730\n",
            "Epoch 65/100\n",
            "2/2 [==============================] - 0s 4ms/step - loss: 10.5530 - mae: 10.5530\n",
            "Epoch 66/100\n",
            "2/2 [==============================] - 0s 3ms/step - loss: 15.5936 - mae: 15.5936\n",
            "Epoch 67/100\n",
            "2/2 [==============================] - 0s 3ms/step - loss: 10.0082 - mae: 10.0082\n",
            "Epoch 68/100\n",
            "2/2 [==============================] - 0s 4ms/step - loss: 8.7347 - mae: 8.7347\n",
            "Epoch 69/100\n",
            "2/2 [==============================] - 0s 4ms/step - loss: 13.4716 - mae: 13.4716\n",
            "Epoch 70/100\n",
            "2/2 [==============================] - 0s 3ms/step - loss: 7.4940 - mae: 7.4940\n",
            "Epoch 71/100\n",
            "2/2 [==============================] - 0s 3ms/step - loss: 12.2799 - mae: 12.2799\n",
            "Epoch 72/100\n",
            "2/2 [==============================] - 0s 3ms/step - loss: 8.5364 - mae: 8.5364\n",
            "Epoch 73/100\n",
            "2/2 [==============================] - 0s 2ms/step - loss: 7.0609 - mae: 7.0609\n",
            "Epoch 74/100\n",
            "2/2 [==============================] - 0s 2ms/step - loss: 9.9169 - mae: 9.9169\n",
            "Epoch 75/100\n",
            "2/2 [==============================] - 0s 4ms/step - loss: 9.9806 - mae: 9.9806\n",
            "Epoch 76/100\n",
            "2/2 [==============================] - 0s 2ms/step - loss: 10.1419 - mae: 10.1419\n",
            "Epoch 77/100\n",
            "2/2 [==============================] - 0s 4ms/step - loss: 13.0060 - mae: 13.0060\n",
            "Epoch 78/100\n",
            "2/2 [==============================] - 0s 2ms/step - loss: 10.9173 - mae: 10.9173\n",
            "Epoch 79/100\n",
            "2/2 [==============================] - 0s 3ms/step - loss: 15.3955 - mae: 15.3955\n",
            "Epoch 80/100\n",
            "2/2 [==============================] - 0s 3ms/step - loss: 11.7515 - mae: 11.7515\n",
            "Epoch 81/100\n",
            "2/2 [==============================] - 0s 2ms/step - loss: 9.2720 - mae: 9.2720\n",
            "Epoch 82/100\n",
            "2/2 [==============================] - 0s 4ms/step - loss: 12.7471 - mae: 12.7471\n",
            "Epoch 83/100\n",
            "2/2 [==============================] - 0s 3ms/step - loss: 8.3039 - mae: 8.3039\n",
            "Epoch 84/100\n",
            "2/2 [==============================] - 0s 3ms/step - loss: 7.3290 - mae: 7.3290\n",
            "Epoch 85/100\n",
            "2/2 [==============================] - 0s 4ms/step - loss: 10.4886 - mae: 10.4886\n",
            "Epoch 86/100\n",
            "2/2 [==============================] - 0s 4ms/step - loss: 9.1616 - mae: 9.1616\n",
            "Epoch 87/100\n",
            "2/2 [==============================] - 0s 4ms/step - loss: 11.8709 - mae: 11.8709\n",
            "Epoch 88/100\n",
            "2/2 [==============================] - 0s 3ms/step - loss: 10.4813 - mae: 10.4813\n",
            "Epoch 89/100\n",
            "2/2 [==============================] - 0s 4ms/step - loss: 6.9928 - mae: 6.9928\n",
            "Epoch 90/100\n",
            "2/2 [==============================] - 0s 4ms/step - loss: 13.8052 - mae: 13.8052\n",
            "Epoch 91/100\n",
            "2/2 [==============================] - 0s 5ms/step - loss: 7.8888 - mae: 7.8888\n",
            "Epoch 92/100\n",
            "2/2 [==============================] - 0s 3ms/step - loss: 7.9351 - mae: 7.9351\n",
            "Epoch 93/100\n",
            "2/2 [==============================] - 0s 3ms/step - loss: 9.4301 - mae: 9.4301\n",
            "Epoch 94/100\n",
            "2/2 [==============================] - 0s 3ms/step - loss: 8.7515 - mae: 8.7515\n",
            "Epoch 95/100\n",
            "2/2 [==============================] - 0s 4ms/step - loss: 9.8668 - mae: 9.8668\n",
            "Epoch 96/100\n",
            "2/2 [==============================] - 0s 3ms/step - loss: 7.3658 - mae: 7.3658\n",
            "Epoch 97/100\n",
            "2/2 [==============================] - 0s 4ms/step - loss: 6.8787 - mae: 6.8787\n",
            "Epoch 98/100\n",
            "2/2 [==============================] - 0s 5ms/step - loss: 7.2732 - mae: 7.2732\n",
            "Epoch 99/100\n",
            "2/2 [==============================] - 0s 2ms/step - loss: 7.4240 - mae: 7.4240\n",
            "Epoch 100/100\n",
            "2/2 [==============================] - 0s 4ms/step - loss: 11.1299 - mae: 11.1299\n"
          ]
        },
        {
          "data": {
            "text/plain": [
              "<keras.callbacks.History at 0x1ba5cf351e0>"
            ]
          },
          "execution_count": 53,
          "metadata": {},
          "output_type": "execute_result"
        }
      ],
      "source": [
        "# Set random seed\n",
        "tf.random.set_seed(42)\n",
        "\n",
        "model_1 = tf.keras.Sequential([\n",
        "    tf.keras.layers.Dense(1, input_shape=[1]),\n",
        "])\n",
        "\n",
        "model_1.compile(loss=tf.keras.losses.mae,\n",
        "                optimizer=tf.keras.optimizers.SGD(),\n",
        "                metrics=[\"mae\"])\n",
        "\n",
        "model_1.fit(X_train,Y_train, epochs=100)"
      ]
    },
    {
      "cell_type": "code",
      "execution_count": 54,
      "metadata": {
        "colab": {
          "base_uri": "https://localhost:8080/",
          "height": 445
        },
        "id": "IIoGGzzxQtDf",
        "outputId": "a48368be-d7da-4fa4-9811-170e9b8fbd20"
      },
      "outputs": [
        {
          "name": "stdout",
          "output_type": "stream",
          "text": [
            "WARNING:tensorflow:6 out of the last 6 calls to <function Model.make_predict_function.<locals>.predict_function at 0x000001BA5CF4C5E0> triggered tf.function retracing. Tracing is expensive and the excessive number of tracings could be due to (1) creating @tf.function repeatedly in a loop, (2) passing tensors with different shapes, (3) passing Python objects instead of tensors. For (1), please define your @tf.function outside of the loop. For (2), @tf.function has reduce_retracing=True option that can avoid unnecessary retracing. For (3), please refer to https://www.tensorflow.org/guide/function#controlling_retracing and https://www.tensorflow.org/api_docs/python/tf/function for  more details.\n",
            "1/1 [==============================] - 0s 48ms/step\n"
          ]
        },
        {
          "data": {
            "image/png": "[encoded data removed]",
            "text/plain": [
              "<Figure size 720x504 with 1 Axes>"
            ]
          },
          "metadata": {
            "needs_background": "light"
          },
          "output_type": "display_data"
        }
      ],
      "source": [
        "# Make and plot for prediction 1\n",
        "\n",
        "y_pred_1 = model_1.predict(X_test)\n",
        "plot_pred(predictions=y_pred_1)"
      ]
    },
    {
      "cell_type": "code",
      "execution_count": 55,
      "metadata": {
        "colab": {
          "base_uri": "https://localhost:8080/"
        },
        "id": "Qr5s373GRWXQ",
        "outputId": "ef73bcb4-3941-436e-ad0a-dfa511f9b18e"
      },
      "outputs": [
        {
          "data": {
            "text/plain": [
              "(<tf.Tensor: shape=(), dtype=float32, numpy=21.353003>,\n",
              " <tf.Tensor: shape=(), dtype=float32, numpy=459.41464>)"
            ]
          },
          "execution_count": 55,
          "metadata": {},
          "output_type": "execute_result"
        }
      ],
      "source": [
        "mae_1 = mae(Y_test, y_pred_1)\n",
        "mse_1 = mse(Y_test, y_pred_1)\n",
        "mae_1,mse_1"
      ]
    },
    {
      "cell_type": "code",
      "execution_count": 56,
      "metadata": {
        "colab": {
          "base_uri": "https://localhost:8080/"
        },
        "id": "4F1XmvzVRpMe",
        "outputId": "6ab74e4a-9662-454c-9f43-94cf7fe9cd81"
      },
      "outputs": [
        {
          "name": "stdout",
          "output_type": "stream",
          "text": [
            "Epoch 1/100\n",
            "2/2 [==============================] - 0s 5ms/step - loss: 35.6500 - mse: 1759.7441\n",
            "Epoch 2/100\n",
            "2/2 [==============================] - 0s 4ms/step - loss: 28.5938 - mse: 1090.6830\n",
            "Epoch 3/100\n",
            "2/2 [==============================] - 0s 3ms/step - loss: 34.2946 - mse: 1742.9141\n",
            "Epoch 4/100\n",
            "2/2 [==============================] - 0s 3ms/step - loss: 24.6769 - mse: 880.7269\n",
            "Epoch 5/100\n",
            "2/2 [==============================] - 0s 3ms/step - loss: 14.6400 - mse: 265.9682\n",
            "Epoch 6/100\n",
            "2/2 [==============================] - 0s 2ms/step - loss: 11.6687 - mse: 158.4221\n",
            "Epoch 7/100\n",
            "2/2 [==============================] - 0s 4ms/step - loss: 12.7317 - mse: 219.1891\n",
            "Epoch 8/100\n",
            "2/2 [==============================] - 0s 3ms/step - loss: 11.0611 - mse: 153.3629\n",
            "Epoch 9/100\n",
            "2/2 [==============================] - 0s 3ms/step - loss: 39.9402 - mse: 2505.6782\n",
            "Epoch 10/100\n",
            "2/2 [==============================] - 0s 4ms/step - loss: 27.4003 - mse: 1056.8011\n",
            "Epoch 11/100\n",
            "2/2 [==============================] - 0s 3ms/step - loss: 10.2521 - mse: 146.3938\n",
            "Epoch 12/100\n",
            "2/2 [==============================] - 0s 3ms/step - loss: 25.4420 - mse: 900.7988\n",
            "Epoch 13/100\n",
            "2/2 [==============================] - 0s 3ms/step - loss: 16.7716 - mse: 387.3458\n",
            "Epoch 14/100\n",
            "2/2 [==============================] - 0s 3ms/step - loss: 25.5179 - mse: 1013.4011\n",
            "Epoch 15/100\n",
            "2/2 [==============================] - 0s 4ms/step - loss: 17.4277 - mse: 419.8302\n",
            "Epoch 16/100\n",
            "2/2 [==============================] - 0s 4ms/step - loss: 10.0040 - mse: 124.7821\n",
            "Epoch 17/100\n",
            "2/2 [==============================] - 0s 4ms/step - loss: 18.4576 - mse: 454.7099\n",
            "Epoch 18/100\n",
            "2/2 [==============================] - 0s 3ms/step - loss: 11.3250 - mse: 196.8917\n",
            "Epoch 19/100\n",
            "2/2 [==============================] - 0s 3ms/step - loss: 13.8791 - mse: 299.4738\n",
            "Epoch 20/100\n",
            "2/2 [==============================] - 0s 3ms/step - loss: 11.1732 - mse: 146.1394\n",
            "Epoch 21/100\n",
            "2/2 [==============================] - 0s 4ms/step - loss: 17.1905 - mse: 417.7010\n",
            "Epoch 22/100\n",
            "2/2 [==============================] - 0s 3ms/step - loss: 15.4276 - mse: 327.4791\n",
            "Epoch 23/100\n",
            "2/2 [==============================] - 0s 4ms/step - loss: 9.2471 - mse: 118.6245\n",
            "Epoch 24/100\n",
            "2/2 [==============================] - 0s 3ms/step - loss: 17.3021 - mse: 410.7301\n",
            "Epoch 25/100\n",
            "2/2 [==============================] - 0s 4ms/step - loss: 15.9657 - mse: 335.2086\n",
            "Epoch 26/100\n",
            "2/2 [==============================] - 0s 2ms/step - loss: 20.9943 - mse: 652.4118\n",
            "Epoch 27/100\n",
            "2/2 [==============================] - 0s 3ms/step - loss: 25.8223 - mse: 1038.9943\n",
            "Epoch 28/100\n",
            "2/2 [==============================] - 0s 3ms/step - loss: 18.3385 - mse: 532.0216\n",
            "Epoch 29/100\n",
            "2/2 [==============================] - 0s 4ms/step - loss: 9.2404 - mse: 98.3522\n",
            "Epoch 30/100\n",
            "2/2 [==============================] - 0s 3ms/step - loss: 28.9429 - mse: 1492.6696\n",
            "Epoch 31/100\n",
            "2/2 [==============================] - 0s 3ms/step - loss: 52.4053 - mse: 4908.2979\n",
            "Epoch 32/100\n",
            "2/2 [==============================] - 0s 3ms/step - loss: 11.8709 - mse: 203.2938\n",
            "Epoch 33/100\n",
            "2/2 [==============================] - 0s 3ms/step - loss: 15.4242 - mse: 327.4898\n",
            "Epoch 34/100\n",
            "2/2 [==============================] - 0s 3ms/step - loss: 12.5454 - mse: 206.2814\n",
            "Epoch 35/100\n",
            "2/2 [==============================] - 0s 3ms/step - loss: 9.1734 - mse: 90.8912\n",
            "Epoch 36/100\n",
            "2/2 [==============================] - 0s 3ms/step - loss: 16.3829 - mse: 389.6661\n",
            "Epoch 37/100\n",
            "2/2 [==============================] - 0s 3ms/step - loss: 11.1114 - mse: 192.1674\n",
            "Epoch 38/100\n",
            "2/2 [==============================] - 0s 3ms/step - loss: 18.2437 - mse: 439.1873\n",
            "Epoch 39/100\n",
            "2/2 [==============================] - 0s 3ms/step - loss: 19.1729 - mse: 536.4075\n",
            "Epoch 40/100\n",
            "2/2 [==============================] - 0s 3ms/step - loss: 20.5633 - mse: 617.4811\n",
            "Epoch 41/100\n",
            "2/2 [==============================] - 0s 3ms/step - loss: 14.7450 - mse: 271.1575\n",
            "Epoch 42/100\n",
            "2/2 [==============================] - 0s 3ms/step - loss: 12.1554 - mse: 179.4387\n",
            "Epoch 43/100\n",
            "2/2 [==============================] - 0s 3ms/step - loss: 10.6750 - mse: 160.6766\n",
            "Epoch 44/100\n",
            "2/2 [==============================] - 0s 5ms/step - loss: 32.1037 - mse: 1693.4183\n",
            "Epoch 45/100\n",
            "2/2 [==============================] - 0s 4ms/step - loss: 12.4231 - mse: 198.9290\n",
            "Epoch 46/100\n",
            "2/2 [==============================] - 0s 2ms/step - loss: 17.3866 - mse: 452.7214\n",
            "Epoch 47/100\n",
            "2/2 [==============================] - 0s 3ms/step - loss: 15.8040 - mse: 341.1127\n",
            "Epoch 48/100\n",
            "2/2 [==============================] - 0s 4ms/step - loss: 8.4044 - mse: 112.9378\n",
            "Epoch 49/100\n",
            "2/2 [==============================] - 0s 4ms/step - loss: 14.2602 - mse: 284.4445\n",
            "Epoch 50/100\n",
            "2/2 [==============================] - 0s 2ms/step - loss: 15.1917 - mse: 309.9651\n",
            "Epoch 51/100\n",
            "2/2 [==============================] - 0s 4ms/step - loss: 13.7023 - mse: 257.3240\n",
            "Epoch 52/100\n",
            "2/2 [==============================] - 0s 3ms/step - loss: 18.1156 - mse: 463.4421\n",
            "Epoch 53/100\n",
            "2/2 [==============================] - 0s 3ms/step - loss: 22.7893 - mse: 750.2201\n",
            "Epoch 54/100\n",
            "2/2 [==============================] - 0s 3ms/step - loss: 26.7579 - mse: 1101.9196\n",
            "Epoch 55/100\n",
            "2/2 [==============================] - 0s 3ms/step - loss: 26.3860 - mse: 1058.2559\n",
            "Epoch 56/100\n",
            "2/2 [==============================] - 0s 3ms/step - loss: 11.3434 - mse: 171.8783\n",
            "Epoch 57/100\n",
            "2/2 [==============================] - 0s 3ms/step - loss: 13.3598 - mse: 225.1622\n",
            "Epoch 58/100\n",
            "2/2 [==============================] - 0s 2ms/step - loss: 9.9482 - mse: 109.4624\n",
            "Epoch 59/100\n",
            "2/2 [==============================] - 0s 2ms/step - loss: 13.9069 - mse: 275.1320\n",
            "Epoch 60/100\n",
            "2/2 [==============================] - 0s 3ms/step - loss: 9.9891 - mse: 118.8301\n",
            "Epoch 61/100\n",
            "2/2 [==============================] - 0s 3ms/step - loss: 14.9592 - mse: 307.4816\n",
            "Epoch 62/100\n",
            "2/2 [==============================] - 0s 4ms/step - loss: 11.9189 - mse: 196.0314\n",
            "Epoch 63/100\n",
            "2/2 [==============================] - 0s 2ms/step - loss: 10.2843 - mse: 134.4405\n",
            "Epoch 64/100\n",
            "2/2 [==============================] - 0s 3ms/step - loss: 23.8531 - mse: 836.0851\n",
            "Epoch 65/100\n",
            "2/2 [==============================] - 0s 3ms/step - loss: 10.4596 - mse: 129.8398\n",
            "Epoch 66/100\n",
            "2/2 [==============================] - 0s 4ms/step - loss: 20.8995 - mse: 642.1466\n",
            "Epoch 67/100\n",
            "2/2 [==============================] - 0s 3ms/step - loss: 10.4338 - mse: 126.0064\n",
            "Epoch 68/100\n",
            "2/2 [==============================] - 0s 4ms/step - loss: 14.1503 - mse: 301.3863\n",
            "Epoch 69/100\n",
            "2/2 [==============================] - 0s 3ms/step - loss: 10.5004 - mse: 125.5583\n",
            "Epoch 70/100\n",
            "2/2 [==============================] - 0s 3ms/step - loss: 12.5688 - mse: 200.2979\n",
            "Epoch 71/100\n",
            "2/2 [==============================] - 0s 4ms/step - loss: 12.9970 - mse: 224.9805\n",
            "Epoch 72/100\n",
            "2/2 [==============================] - 0s 4ms/step - loss: 19.3117 - mse: 529.1039\n",
            "Epoch 73/100\n",
            "2/2 [==============================] - 0s 3ms/step - loss: 11.1183 - mse: 193.7433\n",
            "Epoch 74/100\n",
            "2/2 [==============================] - 0s 5ms/step - loss: 21.3868 - mse: 713.6094\n",
            "Epoch 75/100\n",
            "2/2 [==============================] - 0s 3ms/step - loss: 9.4440 - mse: 151.9317\n",
            "Epoch 76/100\n",
            "2/2 [==============================] - 0s 3ms/step - loss: 12.2632 - mse: 182.2929\n",
            "Epoch 77/100\n",
            "2/2 [==============================] - 0s 4ms/step - loss: 16.2720 - mse: 407.4963\n",
            "Epoch 78/100\n",
            "2/2 [==============================] - 0s 3ms/step - loss: 9.0035 - mse: 91.5892\n",
            "Epoch 79/100\n",
            "2/2 [==============================] - 0s 5ms/step - loss: 23.5045 - mse: 826.7886\n",
            "Epoch 80/100\n",
            "2/2 [==============================] - 0s 4ms/step - loss: 26.1873 - mse: 1054.2250\n",
            "Epoch 81/100\n",
            "2/2 [==============================] - 0s 3ms/step - loss: 11.4064 - mse: 159.4720\n",
            "Epoch 82/100\n",
            "2/2 [==============================] - 0s 5ms/step - loss: 12.4658 - mse: 226.9855\n",
            "Epoch 83/100\n",
            "2/2 [==============================] - 0s 3ms/step - loss: 17.1405 - mse: 382.2595\n",
            "Epoch 84/100\n",
            "2/2 [==============================] - 0s 4ms/step - loss: 6.5636 - mse: 63.7987\n",
            "Epoch 85/100\n",
            "2/2 [==============================] - 0s 2ms/step - loss: 20.3717 - mse: 580.5808\n",
            "Epoch 86/100\n",
            "2/2 [==============================] - 0s 3ms/step - loss: 10.1638 - mse: 116.3148\n",
            "Epoch 87/100\n",
            "2/2 [==============================] - 0s 4ms/step - loss: 24.4295 - mse: 835.3832\n",
            "Epoch 88/100\n",
            "2/2 [==============================] - 0s 3ms/step - loss: 19.0907 - mse: 517.3511\n",
            "Epoch 89/100\n",
            "2/2 [==============================] - 0s 4ms/step - loss: 7.1464 - mse: 69.6537\n",
            "Epoch 90/100\n",
            "2/2 [==============================] - 0s 4ms/step - loss: 18.2197 - mse: 492.2861\n",
            "Epoch 91/100\n",
            "2/2 [==============================] - 0s 4ms/step - loss: 13.2682 - mse: 254.6928\n",
            "Epoch 92/100\n",
            "2/2 [==============================] - 0s 3ms/step - loss: 14.8055 - mse: 309.1582\n",
            "Epoch 93/100\n",
            "2/2 [==============================] - 0s 4ms/step - loss: 11.6070 - mse: 250.9561\n",
            "Epoch 94/100\n",
            "2/2 [==============================] - 0s 3ms/step - loss: 16.1632 - mse: 368.9823\n",
            "Epoch 95/100\n",
            "2/2 [==============================] - 0s 3ms/step - loss: 15.5049 - mse: 320.0674\n",
            "Epoch 96/100\n",
            "2/2 [==============================] - 0s 3ms/step - loss: 15.0331 - mse: 322.4005\n",
            "Epoch 97/100\n",
            "2/2 [==============================] - 0s 3ms/step - loss: 10.8641 - mse: 188.0545\n",
            "Epoch 98/100\n",
            "2/2 [==============================] - 0s 3ms/step - loss: 14.3224 - mse: 284.9747\n",
            "Epoch 99/100\n",
            "2/2 [==============================] - 0s 4ms/step - loss: 13.3509 - mse: 250.8066\n",
            "Epoch 100/100\n",
            "2/2 [==============================] - 0s 2ms/step - loss: 19.9452 - mse: 581.9410\n"
          ]
        },
        {
          "data": {
            "text/plain": [
              "<keras.callbacks.History at 0x1ba5cf3b3a0>"
            ]
          },
          "execution_count": 56,
          "metadata": {},
          "output_type": "execute_result"
        }
      ],
      "source": [
        "# Second Model\n",
        "tf.random.set_seed(42)\n",
        "model_2 = tf.keras.Sequential([\n",
        "    tf.keras.layers.Dense(10,input_shape=[1]),\n",
        "    tf.keras.layers.Dense(1)\n",
        "\n",
        "])\n",
        "model_2.compile(loss=tf.keras.losses.mae,\n",
        "                optimizer=tf.keras.optimizers.SGD(),\n",
        "                metrics=[\"mse\"])\n",
        "model_2.fit(X_train, Y_train, epochs=100)"
      ]
    },
    {
      "cell_type": "code",
      "execution_count": 57,
      "metadata": {
        "colab": {
          "base_uri": "https://localhost:8080/"
        },
        "id": "SgRAOwGtS10X",
        "outputId": "aeca0f38-515b-4c4f-e2d1-4222c7b00c30"
      },
      "outputs": [
        {
          "name": "stdout",
          "output_type": "stream",
          "text": [
            "1/1 [==============================] - 0s 55ms/step\n"
          ]
        },
        {
          "data": {
            "text/plain": [
              "array([[ 91.21269],\n",
              "       [ 97.16886],\n",
              "       [103.12503],\n",
              "       [109.0812 ],\n",
              "       [115.03738],\n",
              "       [120.99354],\n",
              "       [126.94972],\n",
              "       [132.90588],\n",
              "       [138.86205],\n",
              "       [144.81822]], dtype=float32)"
            ]
          },
          "execution_count": 57,
          "metadata": {},
          "output_type": "execute_result"
        }
      ],
      "source": [
        "# Make and plot pred\n",
        "y_pred_2 = model_2.predict(X_test)\n",
        "y_pred_2"
      ]
    },
    {
      "cell_type": "code",
      "execution_count": 58,
      "metadata": {
        "colab": {
          "base_uri": "https://localhost:8080/",
          "height": 428
        },
        "id": "mVxII0moTN94",
        "outputId": "a6c7c994-41bd-4ec1-d533-cf6001f46726"
      },
      "outputs": [
        {
          "data": {
            "image/png": "[encoded data removed]",
            "text/plain": [
              "<Figure size 720x504 with 1 Axes>"
            ]
          },
          "metadata": {
            "needs_background": "light"
          },
          "output_type": "display_data"
        }
      ],
      "source": [
        "plot_pred(predictions=y_pred_2)"
      ]
    },
    {
      "cell_type": "code",
      "execution_count": 59,
      "metadata": {
        "colab": {
          "base_uri": "https://localhost:8080/"
        },
        "id": "6mh1Y2RXTT3m",
        "outputId": "e99292d8-35ca-46f2-9ea4-448d613ba5dd"
      },
      "outputs": [
        {
          "data": {
            "text/plain": [
              "(<tf.Tensor: shape=(), dtype=float32, numpy=30.015457>,\n",
              " <tf.Tensor: shape=(), dtype=float32, numpy=932.4972>)"
            ]
          },
          "execution_count": 59,
          "metadata": {},
          "output_type": "execute_result"
        }
      ],
      "source": [
        "mae_2 = mae(X_test,y_pred_2)\n",
        "mse_2 = mse(X_test, y_pred_2)\n",
        "mae_2,mse_2"
      ]
    },
    {
      "cell_type": "code",
      "execution_count": 60,
      "metadata": {
        "colab": {
          "base_uri": "https://localhost:8080/"
        },
        "id": "O4lRWg-vTfRo",
        "outputId": "091c6829-0fd2-45b6-815c-736986255ce1"
      },
      "outputs": [
        {
          "name": "stdout",
          "output_type": "stream",
          "text": [
            "Epoch 1/500\n",
            "2/2 [==============================] - 0s 3ms/step - loss: 39.1245 - mse: 2211.5903\n",
            "Epoch 2/500\n",
            "2/2 [==============================] - 0s 3ms/step - loss: 27.5518 - mse: 997.6691\n",
            "Epoch 3/500\n",
            "2/2 [==============================] - 0s 4ms/step - loss: 33.1606 - mse: 1631.4346\n",
            "Epoch 4/500\n",
            "2/2 [==============================] - 0s 4ms/step - loss: 25.2207 - mse: 925.0580\n",
            "Epoch 5/500\n",
            "2/2 [==============================] - 0s 3ms/step - loss: 14.9138 - mse: 279.1655\n",
            "Epoch 6/500\n",
            "2/2 [==============================] - 0s 6ms/step - loss: 11.8637 - mse: 167.5962\n",
            "Epoch 7/500\n",
            "2/2 [==============================] - 0s 2ms/step - loss: 11.1921 - mse: 151.4012\n",
            "Epoch 8/500\n",
            "2/2 [==============================] - 0s 3ms/step - loss: 11.1003 - mse: 160.1883\n",
            "Epoch 9/500\n",
            "2/2 [==============================] - 0s 4ms/step - loss: 40.5363 - mse: 2594.0361\n",
            "Epoch 10/500\n",
            "2/2 [==============================] - 0s 3ms/step - loss: 27.9209 - mse: 1098.6331\n",
            "Epoch 11/500\n",
            "2/2 [==============================] - 0s 4ms/step - loss: 10.2480 - mse: 148.1522\n",
            "Epoch 12/500\n",
            "2/2 [==============================] - 0s 3ms/step - loss: 25.2757 - mse: 890.2176\n",
            "Epoch 13/500\n",
            "2/2 [==============================] - 0s 3ms/step - loss: 17.0157 - mse: 401.5060\n",
            "Epoch 14/500\n",
            "2/2 [==============================] - 0s 5ms/step - loss: 25.9699 - mse: 1053.9174\n",
            "Epoch 15/500\n",
            "2/2 [==============================] - 0s 3ms/step - loss: 18.0334 - mse: 452.1815\n",
            "Epoch 16/500\n",
            "2/2 [==============================] - 0s 6ms/step - loss: 7.3531 - mse: 80.4240\n",
            "Epoch 17/500\n",
            "2/2 [==============================] - 0s 5ms/step - loss: 10.8538 - mse: 174.6428\n",
            "Epoch 18/500\n",
            "2/2 [==============================] - 0s 3ms/step - loss: 19.5151 - mse: 564.8743\n",
            "Epoch 19/500\n",
            "2/2 [==============================] - 0s 2ms/step - loss: 10.3404 - mse: 167.9362\n",
            "Epoch 20/500\n",
            "2/2 [==============================] - 0s 4ms/step - loss: 17.6864 - mse: 454.8346\n",
            "Epoch 21/500\n",
            "2/2 [==============================] - 0s 3ms/step - loss: 15.8852 - mse: 346.5589\n",
            "Epoch 22/500\n",
            "2/2 [==============================] - 0s 4ms/step - loss: 14.1809 - mse: 284.5800\n",
            "Epoch 23/500\n",
            "2/2 [==============================] - 0s 3ms/step - loss: 8.7820 - mse: 91.6648\n",
            "Epoch 24/500\n",
            "2/2 [==============================] - 0s 5ms/step - loss: 11.0679 - mse: 153.7183\n",
            "Epoch 25/500\n",
            "2/2 [==============================] - 0s 4ms/step - loss: 12.6989 - mse: 234.3082\n",
            "Epoch 26/500\n",
            "2/2 [==============================] - 0s 4ms/step - loss: 26.2329 - mse: 1028.5743\n",
            "Epoch 27/500\n",
            "2/2 [==============================] - 0s 3ms/step - loss: 11.7529 - mse: 195.7448\n",
            "Epoch 28/500\n",
            "2/2 [==============================] - 0s 4ms/step - loss: 22.9179 - mse: 838.9920\n",
            "Epoch 29/500\n",
            "2/2 [==============================] - 0s 3ms/step - loss: 9.2457 - mse: 96.5782\n",
            "Epoch 30/500\n",
            "2/2 [==============================] - 0s 3ms/step - loss: 29.3048 - mse: 1540.5276\n",
            "Epoch 31/500\n",
            "2/2 [==============================] - 0s 3ms/step - loss: 53.1004 - mse: 5045.8096\n",
            "Epoch 32/500\n",
            "2/2 [==============================] - 0s 2ms/step - loss: 12.0096 - mse: 212.7587\n",
            "Epoch 33/500\n",
            "2/2 [==============================] - 0s 3ms/step - loss: 15.6612 - mse: 338.5944\n",
            "Epoch 34/500\n",
            "2/2 [==============================] - 0s 4ms/step - loss: 12.7094 - mse: 215.4842\n",
            "Epoch 35/500\n",
            "2/2 [==============================] - 0s 4ms/step - loss: 9.2467 - mse: 93.1553\n",
            "Epoch 36/500\n",
            "2/2 [==============================] - 0s 3ms/step - loss: 16.8533 - mse: 415.6852\n",
            "Epoch 37/500\n",
            "2/2 [==============================] - 0s 4ms/step - loss: 12.4837 - mse: 230.3092\n",
            "Epoch 38/500\n",
            "2/2 [==============================] - 0s 3ms/step - loss: 18.1739 - mse: 434.3698\n",
            "Epoch 39/500\n",
            "2/2 [==============================] - 0s 4ms/step - loss: 19.1110 - mse: 530.5280\n",
            "Epoch 40/500\n",
            "2/2 [==============================] - 0s 3ms/step - loss: 20.4504 - mse: 611.1268\n",
            "Epoch 41/500\n",
            "2/2 [==============================] - 0s 3ms/step - loss: 14.8894 - mse: 278.4866\n",
            "Epoch 42/500\n",
            "2/2 [==============================] - 0s 5ms/step - loss: 12.2648 - mse: 185.6103\n",
            "Epoch 43/500\n",
            "2/2 [==============================] - 0s 3ms/step - loss: 10.7250 - mse: 166.1648\n",
            "Epoch 44/500\n",
            "2/2 [==============================] - 0s 5ms/step - loss: 22.9728 - mse: 826.3392\n",
            "Epoch 45/500\n",
            "2/2 [==============================] - 0s 3ms/step - loss: 10.3756 - mse: 128.8548\n",
            "Epoch 46/500\n",
            "2/2 [==============================] - 0s 5ms/step - loss: 11.7678 - mse: 180.6188\n",
            "Epoch 47/500\n",
            "2/2 [==============================] - 0s 3ms/step - loss: 9.6546 - mse: 153.7659\n",
            "Epoch 48/500\n",
            "2/2 [==============================] - 0s 4ms/step - loss: 17.2567 - mse: 403.9725\n",
            "Epoch 49/500\n",
            "2/2 [==============================] - 0s 5ms/step - loss: 9.5590 - mse: 99.5235\n",
            "Epoch 50/500\n",
            "2/2 [==============================] - 0s 2ms/step - loss: 13.7919 - mse: 258.7900\n",
            "Epoch 51/500\n",
            "2/2 [==============================] - 0s 4ms/step - loss: 11.5865 - mse: 154.3565\n",
            "Epoch 52/500\n",
            "2/2 [==============================] - 0s 4ms/step - loss: 30.4787 - mse: 1604.4177\n",
            "Epoch 53/500\n",
            "2/2 [==============================] - 0s 4ms/step - loss: 14.3221 - mse: 300.9814\n",
            "Epoch 54/500\n",
            "2/2 [==============================] - 0s 3ms/step - loss: 23.9134 - mse: 854.8405\n",
            "Epoch 55/500\n",
            "2/2 [==============================] - 0s 3ms/step - loss: 23.1309 - mse: 800.9251\n",
            "Epoch 56/500\n",
            "2/2 [==============================] - 0s 3ms/step - loss: 10.8648 - mse: 171.0913\n",
            "Epoch 57/500\n",
            "2/2 [==============================] - 0s 3ms/step - loss: 12.7174 - mse: 197.6249\n",
            "Epoch 58/500\n",
            "2/2 [==============================] - 0s 2ms/step - loss: 9.5845 - mse: 102.4032\n",
            "Epoch 59/500\n",
            "2/2 [==============================] - 0s 3ms/step - loss: 12.4909 - mse: 214.6388\n",
            "Epoch 60/500\n",
            "2/2 [==============================] - 0s 2ms/step - loss: 11.9005 - mse: 192.7758\n",
            "Epoch 61/500\n",
            "2/2 [==============================] - 0s 3ms/step - loss: 16.9822 - mse: 404.1780\n",
            "Epoch 62/500\n",
            "2/2 [==============================] - 0s 4ms/step - loss: 10.3957 - mse: 131.1869\n",
            "Epoch 63/500\n",
            "2/2 [==============================] - 0s 3ms/step - loss: 10.3496 - mse: 140.3390\n",
            "Epoch 64/500\n",
            "2/2 [==============================] - 0s 2ms/step - loss: 24.2038 - mse: 862.2790\n",
            "Epoch 65/500\n",
            "2/2 [==============================] - 0s 3ms/step - loss: 10.5294 - mse: 133.9876\n",
            "Epoch 66/500\n",
            "2/2 [==============================] - 0s 3ms/step - loss: 21.2129 - mse: 663.8514\n",
            "Epoch 67/500\n",
            "2/2 [==============================] - 0s 4ms/step - loss: 10.5259 - mse: 129.1763\n",
            "Epoch 68/500\n",
            "2/2 [==============================] - 0s 3ms/step - loss: 14.3742 - mse: 311.5776\n",
            "Epoch 69/500\n",
            "2/2 [==============================] - 0s 3ms/step - loss: 10.6162 - mse: 129.3011\n",
            "Epoch 70/500\n",
            "2/2 [==============================] - 0s 3ms/step - loss: 12.7007 - mse: 205.1137\n",
            "Epoch 71/500\n",
            "2/2 [==============================] - 0s 3ms/step - loss: 13.1293 - mse: 232.4611\n",
            "Epoch 72/500\n",
            "2/2 [==============================] - 0s 3ms/step - loss: 19.6314 - mse: 547.2788\n",
            "Epoch 73/500\n",
            "2/2 [==============================] - 0s 4ms/step - loss: 11.1955 - mse: 191.2881\n",
            "Epoch 74/500\n",
            "2/2 [==============================] - 0s 2ms/step - loss: 21.9130 - mse: 747.3925\n",
            "Epoch 75/500\n",
            "2/2 [==============================] - 0s 2ms/step - loss: 7.1934 - mse: 71.4351\n",
            "Epoch 76/500\n",
            "2/2 [==============================] - 0s 3ms/step - loss: 9.4185 - mse: 149.7724\n",
            "Epoch 77/500\n",
            "2/2 [==============================] - 0s 2ms/step - loss: 22.0486 - mse: 726.7686\n",
            "Epoch 78/500\n",
            "2/2 [==============================] - 0s 4ms/step - loss: 17.6997 - mse: 475.8608\n",
            "Epoch 79/500\n",
            "2/2 [==============================] - 0s 4ms/step - loss: 14.8622 - mse: 323.4080\n",
            "Epoch 80/500\n",
            "2/2 [==============================] - 0s 3ms/step - loss: 25.1823 - mse: 967.8467\n",
            "Epoch 81/500\n",
            "2/2 [==============================] - 0s 2ms/step - loss: 10.9289 - mse: 141.4595\n",
            "Epoch 82/500\n",
            "2/2 [==============================] - 0s 3ms/step - loss: 12.7424 - mse: 232.0871\n",
            "Epoch 83/500\n",
            "2/2 [==============================] - 0s 3ms/step - loss: 17.5123 - mse: 399.8414\n",
            "Epoch 84/500\n",
            "2/2 [==============================] - 0s 2ms/step - loss: 7.2852 - mse: 73.1575\n",
            "Epoch 85/500\n",
            "2/2 [==============================] - 0s 4ms/step - loss: 15.0356 - mse: 315.5828\n",
            "Epoch 86/500\n",
            "2/2 [==============================] - 0s 3ms/step - loss: 15.3435 - mse: 316.8620\n",
            "Epoch 87/500\n",
            "2/2 [==============================] - 0s 3ms/step - loss: 19.2226 - mse: 526.4531\n",
            "Epoch 88/500\n",
            "2/2 [==============================] - 0s 4ms/step - loss: 29.5256 - mse: 1259.8700\n",
            "Epoch 89/500\n",
            "2/2 [==============================] - 0s 2ms/step - loss: 10.1362 - mse: 124.1649\n",
            "Epoch 90/500\n",
            "2/2 [==============================] - 0s 4ms/step - loss: 21.2766 - mse: 648.3369\n",
            "Epoch 91/500\n",
            "2/2 [==============================] - 0s 5ms/step - loss: 10.5170 - mse: 162.9011\n",
            "Epoch 92/500\n",
            "2/2 [==============================] - 0s 6ms/step - loss: 18.1730 - mse: 452.2352\n",
            "Epoch 93/500\n",
            "2/2 [==============================] - 0s 4ms/step - loss: 6.5422 - mse: 60.5133\n",
            "Epoch 94/500\n",
            "2/2 [==============================] - 0s 5ms/step - loss: 11.1753 - mse: 155.8352\n",
            "Epoch 95/500\n",
            "2/2 [==============================] - 0s 5ms/step - loss: 24.6209 - mse: 910.5809\n",
            "Epoch 96/500\n",
            "2/2 [==============================] - 0s 3ms/step - loss: 10.7846 - mse: 171.6450\n",
            "Epoch 97/500\n",
            "2/2 [==============================] - 0s 4ms/step - loss: 15.5216 - mse: 365.6909\n",
            "Epoch 98/500\n",
            "2/2 [==============================] - 0s 3ms/step - loss: 9.0535 - mse: 143.4706\n",
            "Epoch 99/500\n",
            "2/2 [==============================] - 0s 3ms/step - loss: 10.8694 - mse: 139.0755\n",
            "Epoch 100/500\n",
            "2/2 [==============================] - 0s 7ms/step - loss: 27.1355 - mse: 1123.2156\n",
            "Epoch 101/500\n",
            "2/2 [==============================] - 0s 4ms/step - loss: 15.0881 - mse: 341.7085\n",
            "Epoch 102/500\n",
            "2/2 [==============================] - 0s 3ms/step - loss: 10.6458 - mse: 158.1720\n",
            "Epoch 103/500\n",
            "2/2 [==============================] - 0s 4ms/step - loss: 9.1271 - mse: 96.4502\n",
            "Epoch 104/500\n",
            "2/2 [==============================] - 0s 3ms/step - loss: 23.5713 - mse: 831.9614\n",
            "Epoch 105/500\n",
            "2/2 [==============================] - 0s 3ms/step - loss: 10.7469 - mse: 156.2348\n",
            "Epoch 106/500\n",
            "2/2 [==============================] - 0s 2ms/step - loss: 11.2103 - mse: 173.4218\n",
            "Epoch 107/500\n",
            "2/2 [==============================] - 0s 3ms/step - loss: 21.1374 - mse: 665.5186\n",
            "Epoch 108/500\n",
            "2/2 [==============================] - 0s 3ms/step - loss: 6.3100 - mse: 57.1567\n",
            "Epoch 109/500\n",
            "2/2 [==============================] - 0s 3ms/step - loss: 10.5334 - mse: 131.9013\n",
            "Epoch 110/500\n",
            "2/2 [==============================] - 0s 3ms/step - loss: 10.4862 - mse: 134.2160\n",
            "Epoch 111/500\n",
            "2/2 [==============================] - 0s 2ms/step - loss: 16.6193 - mse: 389.7752\n",
            "Epoch 112/500\n",
            "2/2 [==============================] - 0s 4ms/step - loss: 9.4785 - mse: 118.2559\n",
            "Epoch 113/500\n",
            "2/2 [==============================] - 0s 4ms/step - loss: 17.5087 - mse: 445.9778\n",
            "Epoch 114/500\n",
            "2/2 [==============================] - 0s 3ms/step - loss: 16.8762 - mse: 424.5735\n",
            "Epoch 115/500\n",
            "2/2 [==============================] - 0s 3ms/step - loss: 11.0118 - mse: 149.8168\n",
            "Epoch 116/500\n",
            "2/2 [==============================] - 0s 5ms/step - loss: 22.9059 - mse: 763.1526\n",
            "Epoch 117/500\n",
            "2/2 [==============================] - 0s 3ms/step - loss: 9.4872 - mse: 126.6737\n",
            "Epoch 118/500\n",
            "2/2 [==============================] - 0s 3ms/step - loss: 10.5417 - mse: 136.4939\n",
            "Epoch 119/500\n",
            "2/2 [==============================] - 0s 2ms/step - loss: 8.0124 - mse: 75.6657\n",
            "Epoch 120/500\n",
            "2/2 [==============================] - 0s 5ms/step - loss: 29.1959 - mse: 1269.6458\n",
            "Epoch 121/500\n",
            "2/2 [==============================] - 0s 4ms/step - loss: 8.0528 - mse: 70.0509\n",
            "Epoch 122/500\n",
            "2/2 [==============================] - 0s 3ms/step - loss: 27.9074 - mse: 1192.3041\n",
            "Epoch 123/500\n",
            "2/2 [==============================] - 0s 4ms/step - loss: 32.4054 - mse: 1540.0366\n",
            "Epoch 124/500\n",
            "2/2 [==============================] - 0s 4ms/step - loss: 19.2577 - mse: 549.6543\n",
            "Epoch 125/500\n",
            "2/2 [==============================] - 0s 4ms/step - loss: 9.4695 - mse: 152.2568\n",
            "Epoch 126/500\n",
            "2/2 [==============================] - 0s 4ms/step - loss: 9.5527 - mse: 112.7665\n",
            "Epoch 127/500\n",
            "2/2 [==============================] - 0s 3ms/step - loss: 12.6556 - mse: 250.1986\n",
            "Epoch 128/500\n",
            "2/2 [==============================] - 0s 5ms/step - loss: 12.7588 - mse: 224.9582\n",
            "Epoch 129/500\n",
            "2/2 [==============================] - 0s 4ms/step - loss: 13.8809 - mse: 309.4479\n",
            "Epoch 130/500\n",
            "2/2 [==============================] - 0s 6ms/step - loss: 10.1999 - mse: 121.0184\n",
            "Epoch 131/500\n",
            "2/2 [==============================] - 0s 3ms/step - loss: 21.6252 - mse: 708.2354\n",
            "Epoch 132/500\n",
            "2/2 [==============================] - 0s 5ms/step - loss: 8.2441 - mse: 95.6253\n",
            "Epoch 133/500\n",
            "2/2 [==============================] - 0s 5ms/step - loss: 9.0264 - mse: 111.7225\n",
            "Epoch 134/500\n",
            "2/2 [==============================] - 0s 3ms/step - loss: 16.8427 - mse: 413.5195\n",
            "Epoch 135/500\n",
            "2/2 [==============================] - 0s 3ms/step - loss: 10.6191 - mse: 149.2586\n",
            "Epoch 136/500\n",
            "2/2 [==============================] - 0s 3ms/step - loss: 18.4633 - mse: 483.0879\n",
            "Epoch 137/500\n",
            "2/2 [==============================] - 0s 3ms/step - loss: 23.4365 - mse: 741.6469\n",
            "Epoch 138/500\n",
            "2/2 [==============================] - 0s 4ms/step - loss: 9.2426 - mse: 139.2472\n",
            "Epoch 139/500\n",
            "2/2 [==============================] - 0s 4ms/step - loss: 8.9851 - mse: 143.1572\n",
            "Epoch 140/500\n",
            "2/2 [==============================] - 0s 3ms/step - loss: 16.9272 - mse: 413.1330\n",
            "Epoch 141/500\n",
            "2/2 [==============================] - 0s 2ms/step - loss: 8.3017 - mse: 75.1545\n",
            "Epoch 142/500\n",
            "2/2 [==============================] - 0s 4ms/step - loss: 33.9958 - mse: 1999.2441\n",
            "Epoch 143/500\n",
            "2/2 [==============================] - 0s 5ms/step - loss: 23.0504 - mse: 743.4194\n",
            "Epoch 144/500\n",
            "2/2 [==============================] - 0s 3ms/step - loss: 11.3262 - mse: 227.9962\n",
            "Epoch 145/500\n",
            "2/2 [==============================] - 0s 2ms/step - loss: 25.0420 - mse: 850.0716\n",
            "Epoch 146/500\n",
            "2/2 [==============================] - 0s 2ms/step - loss: 11.1212 - mse: 167.7956\n",
            "Epoch 147/500\n",
            "2/2 [==============================] - 0s 3ms/step - loss: 14.0798 - mse: 293.3223\n",
            "Epoch 148/500\n",
            "2/2 [==============================] - 0s 4ms/step - loss: 16.9335 - mse: 393.7056\n",
            "Epoch 149/500\n",
            "2/2 [==============================] - 0s 3ms/step - loss: 9.2318 - mse: 108.4575\n",
            "Epoch 150/500\n",
            "2/2 [==============================] - 0s 4ms/step - loss: 7.9199 - mse: 71.3374\n",
            "Epoch 151/500\n",
            "2/2 [==============================] - 0s 2ms/step - loss: 16.4903 - mse: 391.1679\n",
            "Epoch 152/500\n",
            "2/2 [==============================] - 0s 4ms/step - loss: 9.7813 - mse: 119.3079\n",
            "Epoch 153/500\n",
            "2/2 [==============================] - 0s 5ms/step - loss: 26.8329 - mse: 1017.7550\n",
            "Epoch 154/500\n",
            "2/2 [==============================] - 0s 3ms/step - loss: 11.9145 - mse: 238.6198\n",
            "Epoch 155/500\n",
            "2/2 [==============================] - 0s 7ms/step - loss: 15.2800 - mse: 335.3966\n",
            "Epoch 156/500\n",
            "2/2 [==============================] - 0s 3ms/step - loss: 16.6517 - mse: 424.5216\n",
            "Epoch 157/500\n",
            "2/2 [==============================] - 0s 3ms/step - loss: 19.2774 - mse: 573.6105\n",
            "Epoch 158/500\n",
            "2/2 [==============================] - 0s 4ms/step - loss: 8.2427 - mse: 129.5110\n",
            "Epoch 159/500\n",
            "2/2 [==============================] - 0s 4ms/step - loss: 7.9735 - mse: 109.2188\n",
            "Epoch 160/500\n",
            "2/2 [==============================] - 0s 3ms/step - loss: 20.9549 - mse: 659.7531\n",
            "Epoch 161/500\n",
            "2/2 [==============================] - 0s 4ms/step - loss: 23.7883 - mse: 858.1514\n",
            "Epoch 162/500\n",
            "2/2 [==============================] - 0s 3ms/step - loss: 18.7064 - mse: 499.6445\n",
            "Epoch 163/500\n",
            "2/2 [==============================] - 0s 5ms/step - loss: 17.6576 - mse: 447.2843\n",
            "Epoch 164/500\n",
            "2/2 [==============================] - 0s 2ms/step - loss: 11.0661 - mse: 179.6684\n",
            "Epoch 165/500\n",
            "2/2 [==============================] - 0s 4ms/step - loss: 9.6059 - mse: 180.6941\n",
            "Epoch 166/500\n",
            "2/2 [==============================] - 0s 5ms/step - loss: 21.5529 - mse: 680.0511\n",
            "Epoch 167/500\n",
            "2/2 [==============================] - 0s 4ms/step - loss: 26.3849 - mse: 1057.3136\n",
            "Epoch 168/500\n",
            "2/2 [==============================] - 0s 5ms/step - loss: 9.8733 - mse: 118.5964\n",
            "Epoch 169/500\n",
            "2/2 [==============================] - 0s 5ms/step - loss: 22.6582 - mse: 793.9159\n",
            "Epoch 170/500\n",
            "2/2 [==============================] - 0s 4ms/step - loss: 10.1354 - mse: 196.5643\n",
            "Epoch 171/500\n",
            "2/2 [==============================] - 0s 4ms/step - loss: 18.0073 - mse: 501.6973\n",
            "Epoch 172/500\n",
            "2/2 [==============================] - 0s 4ms/step - loss: 28.9330 - mse: 1315.3641\n",
            "Epoch 173/500\n",
            "2/2 [==============================] - 0s 3ms/step - loss: 16.6038 - mse: 435.7390\n",
            "Epoch 174/500\n",
            "2/2 [==============================] - 0s 3ms/step - loss: 11.2039 - mse: 200.5485\n",
            "Epoch 175/500\n",
            "2/2 [==============================] - 0s 3ms/step - loss: 27.5605 - mse: 1096.1455\n",
            "Epoch 176/500\n",
            "2/2 [==============================] - 0s 2ms/step - loss: 8.2957 - mse: 78.0888\n",
            "Epoch 177/500\n",
            "2/2 [==============================] - 0s 3ms/step - loss: 9.2792 - mse: 109.2893\n",
            "Epoch 178/500\n",
            "2/2 [==============================] - 0s 4ms/step - loss: 18.2174 - mse: 469.5196\n",
            "Epoch 179/500\n",
            "2/2 [==============================] - 0s 4ms/step - loss: 10.5676 - mse: 147.1147\n",
            "Epoch 180/500\n",
            "2/2 [==============================] - 0s 2ms/step - loss: 7.9132 - mse: 100.2527\n",
            "Epoch 181/500\n",
            "2/2 [==============================] - 0s 3ms/step - loss: 17.4606 - mse: 441.4229\n",
            "Epoch 182/500\n",
            "2/2 [==============================] - 0s 2ms/step - loss: 11.0369 - mse: 157.9043\n",
            "Epoch 183/500\n",
            "2/2 [==============================] - 0s 2ms/step - loss: 11.7302 - mse: 204.8560\n",
            "Epoch 184/500\n",
            "2/2 [==============================] - 0s 3ms/step - loss: 30.4930 - mse: 1395.7556\n",
            "Epoch 185/500\n",
            "2/2 [==============================] - 0s 3ms/step - loss: 7.5502 - mse: 98.9822\n",
            "Epoch 186/500\n",
            "2/2 [==============================] - 0s 5ms/step - loss: 15.9663 - mse: 368.2904\n",
            "Epoch 187/500\n",
            "2/2 [==============================] - 0s 4ms/step - loss: 8.5674 - mse: 85.4907\n",
            "Epoch 188/500\n",
            "2/2 [==============================] - 0s 4ms/step - loss: 28.8092 - mse: 1182.3333\n",
            "Epoch 189/500\n",
            "2/2 [==============================] - 0s 4ms/step - loss: 13.1547 - mse: 271.5799\n",
            "Epoch 190/500\n",
            "2/2 [==============================] - 0s 3ms/step - loss: 18.2947 - mse: 511.4074\n",
            "Epoch 191/500\n",
            "2/2 [==============================] - 0s 3ms/step - loss: 13.7200 - mse: 264.3156\n",
            "Epoch 192/500\n",
            "2/2 [==============================] - 0s 5ms/step - loss: 13.7040 - mse: 261.2457\n",
            "Epoch 193/500\n",
            "2/2 [==============================] - 0s 3ms/step - loss: 28.5705 - mse: 1134.1129\n",
            "Epoch 194/500\n",
            "2/2 [==============================] - 0s 4ms/step - loss: 7.0877 - mse: 78.6112\n",
            "Epoch 195/500\n",
            "2/2 [==============================] - 0s 4ms/step - loss: 7.0551 - mse: 75.0647\n",
            "Epoch 196/500\n",
            "2/2 [==============================] - 0s 3ms/step - loss: 21.9884 - mse: 708.4161\n",
            "Epoch 197/500\n",
            "2/2 [==============================] - 0s 3ms/step - loss: 20.8828 - mse: 646.1118\n",
            "Epoch 198/500\n",
            "2/2 [==============================] - 0s 3ms/step - loss: 12.4939 - mse: 237.2874\n",
            "Epoch 199/500\n",
            "2/2 [==============================] - 0s 3ms/step - loss: 17.9420 - mse: 461.9409\n",
            "Epoch 200/500\n",
            "2/2 [==============================] - 0s 3ms/step - loss: 13.7787 - mse: 283.4983\n",
            "Epoch 201/500\n",
            "2/2 [==============================] - 0s 3ms/step - loss: 5.4683 - mse: 40.9634\n",
            "Epoch 202/500\n",
            "2/2 [==============================] - 0s 3ms/step - loss: 13.7257 - mse: 294.6842\n",
            "Epoch 203/500\n",
            "2/2 [==============================] - 0s 5ms/step - loss: 9.4229 - mse: 139.7874\n",
            "Epoch 204/500\n",
            "2/2 [==============================] - 0s 4ms/step - loss: 21.0111 - mse: 658.2053\n",
            "Epoch 205/500\n",
            "2/2 [==============================] - 0s 4ms/step - loss: 9.5586 - mse: 128.0103\n",
            "Epoch 206/500\n",
            "2/2 [==============================] - 0s 5ms/step - loss: 11.7394 - mse: 196.0338\n",
            "Epoch 207/500\n",
            "2/2 [==============================] - 0s 3ms/step - loss: 14.3956 - mse: 317.9038\n",
            "Epoch 208/500\n",
            "2/2 [==============================] - 0s 4ms/step - loss: 14.8743 - mse: 323.7082\n",
            "Epoch 209/500\n",
            "2/2 [==============================] - 0s 3ms/step - loss: 14.9877 - mse: 346.3117\n",
            "Epoch 210/500\n",
            "2/2 [==============================] - 0s 3ms/step - loss: 17.9215 - mse: 468.5566\n",
            "Epoch 211/500\n",
            "2/2 [==============================] - 0s 4ms/step - loss: 9.8399 - mse: 145.8514\n",
            "Epoch 212/500\n",
            "2/2 [==============================] - 0s 4ms/step - loss: 18.3578 - mse: 508.9680\n",
            "Epoch 213/500\n",
            "2/2 [==============================] - 0s 4ms/step - loss: 15.0328 - mse: 307.4670\n",
            "Epoch 214/500\n",
            "2/2 [==============================] - 0s 6ms/step - loss: 14.5842 - mse: 293.3882\n",
            "Epoch 215/500\n",
            "2/2 [==============================] - 0s 2ms/step - loss: 23.2955 - mse: 799.0511\n",
            "Epoch 216/500\n",
            "2/2 [==============================] - 0s 5ms/step - loss: 13.3722 - mse: 278.4667\n",
            "Epoch 217/500\n",
            "2/2 [==============================] - 0s 4ms/step - loss: 9.8604 - mse: 136.6038\n",
            "Epoch 218/500\n",
            "2/2 [==============================] - 0s 4ms/step - loss: 12.5403 - mse: 206.4547\n",
            "Epoch 219/500\n",
            "2/2 [==============================] - 0s 4ms/step - loss: 4.9481 - mse: 37.3832\n",
            "Epoch 220/500\n",
            "2/2 [==============================] - 0s 5ms/step - loss: 7.1136 - mse: 57.5278\n",
            "Epoch 221/500\n",
            "2/2 [==============================] - 0s 4ms/step - loss: 35.4664 - mse: 2109.4639\n",
            "Epoch 222/500\n",
            "2/2 [==============================] - 0s 5ms/step - loss: 34.8743 - mse: 1968.2725\n",
            "Epoch 223/500\n",
            "2/2 [==============================] - 0s 6ms/step - loss: 7.9831 - mse: 119.7814\n",
            "Epoch 224/500\n",
            "2/2 [==============================] - 0s 5ms/step - loss: 14.6988 - mse: 318.4016\n",
            "Epoch 225/500\n",
            "2/2 [==============================] - 0s 5ms/step - loss: 16.7184 - mse: 360.5779\n",
            "Epoch 226/500\n",
            "2/2 [==============================] - 0s 6ms/step - loss: 15.9322 - mse: 369.8433\n",
            "Epoch 227/500\n",
            "2/2 [==============================] - 0s 5ms/step - loss: 16.1642 - mse: 369.5645\n",
            "Epoch 228/500\n",
            "2/2 [==============================] - 0s 4ms/step - loss: 13.9324 - mse: 282.1428\n",
            "Epoch 229/500\n",
            "2/2 [==============================] - 0s 4ms/step - loss: 18.0506 - mse: 457.4302\n",
            "Epoch 230/500\n",
            "2/2 [==============================] - 0s 5ms/step - loss: 15.6126 - mse: 314.6403\n",
            "Epoch 231/500\n",
            "2/2 [==============================] - 0s 3ms/step - loss: 21.2059 - mse: 670.8519\n",
            "Epoch 232/500\n",
            "2/2 [==============================] - 0s 3ms/step - loss: 25.2698 - mse: 913.3236\n",
            "Epoch 233/500\n",
            "2/2 [==============================] - 0s 6ms/step - loss: 16.3146 - mse: 387.5885\n",
            "Epoch 234/500\n",
            "2/2 [==============================] - 0s 3ms/step - loss: 7.2725 - mse: 66.5108\n",
            "Epoch 235/500\n",
            "2/2 [==============================] - 0s 3ms/step - loss: 16.9639 - mse: 402.8885\n",
            "Epoch 236/500\n",
            "2/2 [==============================] - 0s 6ms/step - loss: 7.1208 - mse: 69.7568\n",
            "Epoch 237/500\n",
            "2/2 [==============================] - 0s 3ms/step - loss: 9.2026 - mse: 118.8747\n",
            "Epoch 238/500\n",
            "2/2 [==============================] - 0s 3ms/step - loss: 8.0942 - mse: 86.7159\n",
            "Epoch 239/500\n",
            "2/2 [==============================] - 0s 2ms/step - loss: 17.0428 - mse: 437.5157\n",
            "Epoch 240/500\n",
            "2/2 [==============================] - 0s 2ms/step - loss: 8.8587 - mse: 107.7991\n",
            "Epoch 241/500\n",
            "2/2 [==============================] - 0s 3ms/step - loss: 13.1618 - mse: 273.0197\n",
            "Epoch 242/500\n",
            "2/2 [==============================] - 0s 4ms/step - loss: 8.7850 - mse: 104.7453\n",
            "Epoch 243/500\n",
            "2/2 [==============================] - 0s 3ms/step - loss: 18.7970 - mse: 540.3958\n",
            "Epoch 244/500\n",
            "2/2 [==============================] - 0s 6ms/step - loss: 14.0594 - mse: 275.5410\n",
            "Epoch 245/500\n",
            "2/2 [==============================] - 0s 2ms/step - loss: 14.6890 - mse: 290.4705\n",
            "Epoch 246/500\n",
            "2/2 [==============================] - 0s 3ms/step - loss: 15.8101 - mse: 371.0904\n",
            "Epoch 247/500\n",
            "2/2 [==============================] - 0s 3ms/step - loss: 17.6891 - mse: 421.9488\n",
            "Epoch 248/500\n",
            "2/2 [==============================] - 0s 2ms/step - loss: 13.2447 - mse: 251.8394\n",
            "Epoch 249/500\n",
            "2/2 [==============================] - 0s 2ms/step - loss: 14.5120 - mse: 289.0279\n",
            "Epoch 250/500\n",
            "2/2 [==============================] - 0s 4ms/step - loss: 23.2422 - mse: 793.8833\n",
            "Epoch 251/500\n",
            "2/2 [==============================] - 0s 6ms/step - loss: 9.2966 - mse: 118.8818\n",
            "Epoch 252/500\n",
            "2/2 [==============================] - 0s 4ms/step - loss: 36.6198 - mse: 2190.5818\n",
            "Epoch 253/500\n",
            "2/2 [==============================] - 0s 5ms/step - loss: 21.7923 - mse: 666.2201\n",
            "Epoch 254/500\n",
            "2/2 [==============================] - 0s 5ms/step - loss: 7.2762 - mse: 77.9899\n",
            "Epoch 255/500\n",
            "2/2 [==============================] - 0s 5ms/step - loss: 24.6816 - mse: 880.4545\n",
            "Epoch 256/500\n",
            "2/2 [==============================] - 0s 4ms/step - loss: 12.4058 - mse: 219.8570\n",
            "Epoch 257/500\n",
            "2/2 [==============================] - 0s 4ms/step - loss: 10.5695 - mse: 163.6176\n",
            "Epoch 258/500\n",
            "2/2 [==============================] - 0s 5ms/step - loss: 14.4645 - mse: 321.5184\n",
            "Epoch 259/500\n",
            "2/2 [==============================] - 0s 7ms/step - loss: 8.6110 - mse: 98.4515\n",
            "Epoch 260/500\n",
            "2/2 [==============================] - 0s 4ms/step - loss: 43.0023 - mse: 2966.9250\n",
            "Epoch 261/500\n",
            "2/2 [==============================] - 0s 4ms/step - loss: 18.4290 - mse: 491.9779\n",
            "Epoch 262/500\n",
            "2/2 [==============================] - 0s 4ms/step - loss: 6.8899 - mse: 94.2215\n",
            "Epoch 263/500\n",
            "2/2 [==============================] - 0s 5ms/step - loss: 13.7295 - mse: 268.8723\n",
            "Epoch 264/500\n",
            "2/2 [==============================] - 0s 4ms/step - loss: 21.0323 - mse: 654.9000\n",
            "Epoch 265/500\n",
            "2/2 [==============================] - 0s 2ms/step - loss: 19.3342 - mse: 543.5150\n",
            "Epoch 266/500\n",
            "2/2 [==============================] - 0s 8ms/step - loss: 11.4908 - mse: 234.7409\n",
            "Epoch 267/500\n",
            "2/2 [==============================] - 0s 4ms/step - loss: 7.5328 - mse: 111.7797\n",
            "Epoch 268/500\n",
            "2/2 [==============================] - 0s 4ms/step - loss: 21.6637 - mse: 671.1910\n",
            "Epoch 269/500\n",
            "2/2 [==============================] - 0s 4ms/step - loss: 33.1238 - mse: 1647.8914\n",
            "Epoch 270/500\n",
            "2/2 [==============================] - 0s 4ms/step - loss: 9.8023 - mse: 134.5397\n",
            "Epoch 271/500\n",
            "2/2 [==============================] - 0s 2ms/step - loss: 7.7099 - mse: 113.4867\n",
            "Epoch 272/500\n",
            "2/2 [==============================] - 0s 3ms/step - loss: 28.4719 - mse: 1113.7803\n",
            "Epoch 273/500\n",
            "2/2 [==============================] - 0s 4ms/step - loss: 7.4240 - mse: 83.3120\n",
            "Epoch 274/500\n",
            "2/2 [==============================] - 0s 3ms/step - loss: 6.3276 - mse: 44.9005\n",
            "Epoch 275/500\n",
            "2/2 [==============================] - 0s 3ms/step - loss: 37.3586 - mse: 2143.0757\n",
            "Epoch 276/500\n",
            "2/2 [==============================] - 0s 4ms/step - loss: 8.3039 - mse: 108.0857\n",
            "Epoch 277/500\n",
            "2/2 [==============================] - 0s 4ms/step - loss: 28.1068 - mse: 1084.4656\n",
            "Epoch 278/500\n",
            "2/2 [==============================] - 0s 3ms/step - loss: 10.5835 - mse: 214.2763\n",
            "Epoch 279/500\n",
            "2/2 [==============================] - 0s 4ms/step - loss: 16.0341 - mse: 384.2646\n",
            "Epoch 280/500\n",
            "2/2 [==============================] - 0s 5ms/step - loss: 21.0846 - mse: 673.8420\n",
            "Epoch 281/500\n",
            "2/2 [==============================] - 0s 4ms/step - loss: 18.1627 - mse: 501.6417\n",
            "Epoch 282/500\n",
            "2/2 [==============================] - 0s 4ms/step - loss: 6.8943 - mse: 93.4798\n",
            "Epoch 283/500\n",
            "2/2 [==============================] - 0s 4ms/step - loss: 8.0794 - mse: 86.5721\n",
            "Epoch 284/500\n",
            "2/2 [==============================] - 0s 4ms/step - loss: 24.7061 - mse: 916.8047\n",
            "Epoch 285/500\n",
            "2/2 [==============================] - 0s 3ms/step - loss: 13.5130 - mse: 291.9726\n",
            "Epoch 286/500\n",
            "2/2 [==============================] - 0s 2ms/step - loss: 7.7498 - mse: 114.8092\n",
            "Epoch 287/500\n",
            "2/2 [==============================] - 0s 4ms/step - loss: 23.3995 - mse: 793.9886\n",
            "Epoch 288/500\n",
            "2/2 [==============================] - 0s 4ms/step - loss: 23.5274 - mse: 828.4479\n",
            "Epoch 289/500\n",
            "2/2 [==============================] - 0s 5ms/step - loss: 12.0115 - mse: 243.8650\n",
            "Epoch 290/500\n",
            "2/2 [==============================] - 0s 5ms/step - loss: 16.5808 - mse: 369.1712\n",
            "Epoch 291/500\n",
            "2/2 [==============================] - 0s 3ms/step - loss: 16.8577 - mse: 418.0103\n",
            "Epoch 292/500\n",
            "2/2 [==============================] - 0s 3ms/step - loss: 9.4847 - mse: 211.0217\n",
            "Epoch 293/500\n",
            "2/2 [==============================] - 0s 4ms/step - loss: 15.2941 - mse: 319.6797\n",
            "Epoch 294/500\n",
            "2/2 [==============================] - 0s 4ms/step - loss: 22.7750 - mse: 784.4132\n",
            "Epoch 295/500\n",
            "2/2 [==============================] - 0s 3ms/step - loss: 17.7970 - mse: 452.0462\n",
            "Epoch 296/500\n",
            "2/2 [==============================] - 0s 4ms/step - loss: 6.1053 - mse: 58.9545\n",
            "Epoch 297/500\n",
            "2/2 [==============================] - 0s 5ms/step - loss: 10.9569 - mse: 252.0868\n",
            "Epoch 298/500\n",
            "2/2 [==============================] - 0s 5ms/step - loss: 23.2002 - mse: 788.9135\n",
            "Epoch 299/500\n",
            "2/2 [==============================] - 0s 5ms/step - loss: 17.6288 - mse: 464.5434\n",
            "Epoch 300/500\n",
            "2/2 [==============================] - 0s 3ms/step - loss: 6.9443 - mse: 63.7222\n",
            "Epoch 301/500\n",
            "2/2 [==============================] - 0s 3ms/step - loss: 25.0581 - mse: 888.4327\n",
            "Epoch 302/500\n",
            "2/2 [==============================] - 0s 5ms/step - loss: 8.8486 - mse: 114.5208\n",
            "Epoch 303/500\n",
            "2/2 [==============================] - 0s 4ms/step - loss: 17.6737 - mse: 457.1994\n",
            "Epoch 304/500\n",
            "2/2 [==============================] - 0s 3ms/step - loss: 10.9339 - mse: 172.4681\n",
            "Epoch 305/500\n",
            "2/2 [==============================] - 0s 4ms/step - loss: 12.8484 - mse: 269.9965\n",
            "Epoch 306/500\n",
            "2/2 [==============================] - 0s 3ms/step - loss: 8.3535 - mse: 93.5043\n",
            "Epoch 307/500\n",
            "2/2 [==============================] - 0s 3ms/step - loss: 13.5411 - mse: 277.0124\n",
            "Epoch 308/500\n",
            "2/2 [==============================] - 0s 4ms/step - loss: 7.3959 - mse: 77.9069\n",
            "Epoch 309/500\n",
            "2/2 [==============================] - 0s 5ms/step - loss: 9.4166 - mse: 137.8984\n",
            "Epoch 310/500\n",
            "2/2 [==============================] - 0s 5ms/step - loss: 10.6514 - mse: 196.6057\n",
            "Epoch 311/500\n",
            "2/2 [==============================] - 0s 4ms/step - loss: 13.2795 - mse: 253.6870\n",
            "Epoch 312/500\n",
            "2/2 [==============================] - 0s 4ms/step - loss: 29.9920 - mse: 1243.0203\n",
            "Epoch 313/500\n",
            "2/2 [==============================] - 0s 3ms/step - loss: 7.5854 - mse: 104.0140\n",
            "Epoch 314/500\n",
            "2/2 [==============================] - 0s 5ms/step - loss: 9.9082 - mse: 238.5343\n",
            "Epoch 315/500\n",
            "2/2 [==============================] - 0s 4ms/step - loss: 23.7825 - mse: 821.8783\n",
            "Epoch 316/500\n",
            "2/2 [==============================] - 0s 8ms/step - loss: 16.3638 - mse: 403.1113\n",
            "Epoch 317/500\n",
            "2/2 [==============================] - 0s 5ms/step - loss: 21.0316 - mse: 604.0781\n",
            "Epoch 318/500\n",
            "2/2 [==============================] - 0s 3ms/step - loss: 7.9076 - mse: 80.7858\n",
            "Epoch 319/500\n",
            "2/2 [==============================] - 0s 6ms/step - loss: 17.9408 - mse: 477.9798\n",
            "Epoch 320/500\n",
            "2/2 [==============================] - 0s 3ms/step - loss: 10.2067 - mse: 173.3838\n",
            "Epoch 321/500\n",
            "2/2 [==============================] - 0s 4ms/step - loss: 8.3015 - mse: 110.4006\n",
            "Epoch 322/500\n",
            "2/2 [==============================] - 0s 4ms/step - loss: 4.3193 - mse: 26.6931\n",
            "Epoch 323/500\n",
            "2/2 [==============================] - 0s 4ms/step - loss: 23.8672 - mse: 828.3793\n",
            "Epoch 324/500\n",
            "2/2 [==============================] - 0s 4ms/step - loss: 6.8831 - mse: 59.2657\n",
            "Epoch 325/500\n",
            "2/2 [==============================] - 0s 4ms/step - loss: 16.6454 - mse: 395.5069\n",
            "Epoch 326/500\n",
            "2/2 [==============================] - 0s 4ms/step - loss: 7.5583 - mse: 80.1217\n",
            "Epoch 327/500\n",
            "2/2 [==============================] - 0s 4ms/step - loss: 20.4323 - mse: 589.6045\n",
            "Epoch 328/500\n",
            "2/2 [==============================] - 0s 4ms/step - loss: 13.6722 - mse: 262.7619\n",
            "Epoch 329/500\n",
            "2/2 [==============================] - 0s 7ms/step - loss: 16.6893 - mse: 423.8951\n",
            "Epoch 330/500\n",
            "2/2 [==============================] - 0s 3ms/step - loss: 7.0847 - mse: 80.5430\n",
            "Epoch 331/500\n",
            "2/2 [==============================] - 0s 2ms/step - loss: 21.8330 - mse: 728.2709\n",
            "Epoch 332/500\n",
            "2/2 [==============================] - 0s 4ms/step - loss: 12.8117 - mse: 260.2023\n",
            "Epoch 333/500\n",
            "2/2 [==============================] - 0s 4ms/step - loss: 9.3970 - mse: 139.6634\n",
            "Epoch 334/500\n",
            "2/2 [==============================] - 0s 4ms/step - loss: 7.5582 - mse: 90.3749\n",
            "Epoch 335/500\n",
            "2/2 [==============================] - 0s 3ms/step - loss: 6.1449 - mse: 43.3239\n",
            "Epoch 336/500\n",
            "2/2 [==============================] - 0s 3ms/step - loss: 38.3884 - mse: 2460.2290\n",
            "Epoch 337/500\n",
            "2/2 [==============================] - 0s 5ms/step - loss: 29.6989 - mse: 1323.5216\n",
            "Epoch 338/500\n",
            "2/2 [==============================] - 0s 4ms/step - loss: 16.1571 - mse: 381.5322\n",
            "Epoch 339/500\n",
            "2/2 [==============================] - 0s 3ms/step - loss: 9.6080 - mse: 140.4004\n",
            "Epoch 340/500\n",
            "2/2 [==============================] - 0s 3ms/step - loss: 8.5347 - mse: 104.8472\n",
            "Epoch 341/500\n",
            "2/2 [==============================] - 0s 3ms/step - loss: 21.7678 - mse: 661.3467\n",
            "Epoch 342/500\n",
            "2/2 [==============================] - 0s 2ms/step - loss: 14.0111 - mse: 261.8766\n",
            "Epoch 343/500\n",
            "2/2 [==============================] - 0s 4ms/step - loss: 11.5040 - mse: 177.3154\n",
            "Epoch 344/500\n",
            "2/2 [==============================] - 0s 3ms/step - loss: 10.5904 - mse: 234.3473\n",
            "Epoch 345/500\n",
            "2/2 [==============================] - 0s 4ms/step - loss: 30.8116 - mse: 1336.9580\n",
            "Epoch 346/500\n",
            "2/2 [==============================] - 0s 4ms/step - loss: 10.5391 - mse: 269.3630\n",
            "Epoch 347/500\n",
            "2/2 [==============================] - 0s 4ms/step - loss: 25.3881 - mse: 904.7983\n",
            "Epoch 348/500\n",
            "2/2 [==============================] - 0s 2ms/step - loss: 13.6722 - mse: 287.1454\n",
            "Epoch 349/500\n",
            "2/2 [==============================] - 0s 3ms/step - loss: 12.8471 - mse: 248.8305\n",
            "Epoch 350/500\n",
            "2/2 [==============================] - 0s 4ms/step - loss: 15.3112 - mse: 319.6476\n",
            "Epoch 351/500\n",
            "2/2 [==============================] - 0s 3ms/step - loss: 32.7769 - mse: 1509.1908\n",
            "Epoch 352/500\n",
            "2/2 [==============================] - 0s 3ms/step - loss: 13.9208 - mse: 275.5219\n",
            "Epoch 353/500\n",
            "2/2 [==============================] - 0s 2ms/step - loss: 17.5643 - mse: 472.5313\n",
            "Epoch 354/500\n",
            "2/2 [==============================] - 0s 2ms/step - loss: 11.2447 - mse: 240.2452\n",
            "Epoch 355/500\n",
            "2/2 [==============================] - 0s 3ms/step - loss: 26.5722 - mse: 1011.4550\n",
            "Epoch 356/500\n",
            "2/2 [==============================] - 0s 3ms/step - loss: 10.7616 - mse: 201.3833\n",
            "Epoch 357/500\n",
            "2/2 [==============================] - 0s 5ms/step - loss: 13.0105 - mse: 280.4513\n",
            "Epoch 358/500\n",
            "2/2 [==============================] - 0s 3ms/step - loss: 14.3361 - mse: 314.7869\n",
            "Epoch 359/500\n",
            "2/2 [==============================] - 0s 4ms/step - loss: 12.3503 - mse: 306.9400\n",
            "Epoch 360/500\n",
            "2/2 [==============================] - 0s 4ms/step - loss: 20.4176 - mse: 627.6552\n",
            "Epoch 361/500\n",
            "2/2 [==============================] - 0s 3ms/step - loss: 10.7281 - mse: 215.4377\n",
            "Epoch 362/500\n",
            "2/2 [==============================] - 0s 4ms/step - loss: 6.6941 - mse: 77.8756\n",
            "Epoch 363/500\n",
            "2/2 [==============================] - 0s 3ms/step - loss: 23.6889 - mse: 813.7612\n",
            "Epoch 364/500\n",
            "2/2 [==============================] - 0s 3ms/step - loss: 29.3300 - mse: 1246.6699\n",
            "Epoch 365/500\n",
            "2/2 [==============================] - 0s 3ms/step - loss: 8.1296 - mse: 104.4999\n",
            "Epoch 366/500\n",
            "2/2 [==============================] - 0s 4ms/step - loss: 6.0028 - mse: 48.7021\n",
            "Epoch 367/500\n",
            "2/2 [==============================] - 0s 4ms/step - loss: 34.5596 - mse: 1809.4495\n",
            "Epoch 368/500\n",
            "2/2 [==============================] - 0s 2ms/step - loss: 7.2359 - mse: 99.7255\n",
            "Epoch 369/500\n",
            "2/2 [==============================] - 0s 3ms/step - loss: 9.0608 - mse: 126.3938\n",
            "Epoch 370/500\n",
            "2/2 [==============================] - 0s 4ms/step - loss: 10.7750 - mse: 203.8966\n",
            "Epoch 371/500\n",
            "2/2 [==============================] - 0s 4ms/step - loss: 8.8448 - mse: 138.6836\n",
            "Epoch 372/500\n",
            "2/2 [==============================] - 0s 4ms/step - loss: 7.6434 - mse: 140.7119\n",
            "Epoch 373/500\n",
            "2/2 [==============================] - 0s 3ms/step - loss: 25.0898 - mse: 921.9305\n",
            "Epoch 374/500\n",
            "2/2 [==============================] - 0s 6ms/step - loss: 13.1331 - mse: 279.8351\n",
            "Epoch 375/500\n",
            "2/2 [==============================] - 0s 4ms/step - loss: 11.8594 - mse: 213.5276\n",
            "Epoch 376/500\n",
            "2/2 [==============================] - 0s 3ms/step - loss: 14.1551 - mse: 286.0769\n",
            "Epoch 377/500\n",
            "2/2 [==============================] - 0s 3ms/step - loss: 15.7026 - mse: 318.3969\n",
            "Epoch 378/500\n",
            "2/2 [==============================] - 0s 5ms/step - loss: 17.0329 - mse: 464.9855\n",
            "Epoch 379/500\n",
            "2/2 [==============================] - 0s 4ms/step - loss: 19.3866 - mse: 535.9359\n",
            "Epoch 380/500\n",
            "2/2 [==============================] - 0s 6ms/step - loss: 15.7352 - mse: 386.2663\n",
            "Epoch 381/500\n",
            "2/2 [==============================] - 0s 3ms/step - loss: 11.4411 - mse: 217.1372\n",
            "Epoch 382/500\n",
            "2/2 [==============================] - 0s 2ms/step - loss: 16.3097 - mse: 355.9576\n",
            "Epoch 383/500\n",
            "2/2 [==============================] - 0s 4ms/step - loss: 22.0691 - mse: 752.0512\n",
            "Epoch 384/500\n",
            "2/2 [==============================] - 0s 5ms/step - loss: 7.6918 - mse: 82.5442\n",
            "Epoch 385/500\n",
            "2/2 [==============================] - 0s 3ms/step - loss: 10.5605 - mse: 275.3027\n",
            "Epoch 386/500\n",
            "2/2 [==============================] - 0s 3ms/step - loss: 19.0308 - mse: 568.1437\n",
            "Epoch 387/500\n",
            "2/2 [==============================] - 0s 5ms/step - loss: 26.6402 - mse: 1035.5018\n",
            "Epoch 388/500\n",
            "2/2 [==============================] - 0s 4ms/step - loss: 10.1349 - mse: 175.3243\n",
            "Epoch 389/500\n",
            "2/2 [==============================] - 0s 5ms/step - loss: 5.1200 - mse: 39.0499\n",
            "Epoch 390/500\n",
            "2/2 [==============================] - 0s 3ms/step - loss: 18.9794 - mse: 521.1752\n",
            "Epoch 391/500\n",
            "2/2 [==============================] - 0s 2ms/step - loss: 9.2533 - mse: 263.8168\n",
            "Epoch 392/500\n",
            "2/2 [==============================] - 0s 4ms/step - loss: 14.3470 - mse: 323.8286\n",
            "Epoch 393/500\n",
            "2/2 [==============================] - 0s 3ms/step - loss: 15.3383 - mse: 336.3040\n",
            "Epoch 394/500\n",
            "2/2 [==============================] - 0s 4ms/step - loss: 14.6892 - mse: 317.0706\n",
            "Epoch 395/500\n",
            "2/2 [==============================] - 0s 4ms/step - loss: 24.8934 - mse: 878.0822\n",
            "Epoch 396/500\n",
            "2/2 [==============================] - 0s 3ms/step - loss: 19.3597 - mse: 529.9371\n",
            "Epoch 397/500\n",
            "2/2 [==============================] - 0s 5ms/step - loss: 11.4888 - mse: 285.6177\n",
            "Epoch 398/500\n",
            "2/2 [==============================] - 0s 3ms/step - loss: 19.0934 - mse: 574.9210\n",
            "Epoch 399/500\n",
            "2/2 [==============================] - 0s 4ms/step - loss: 26.2288 - mse: 1032.1674\n",
            "Epoch 400/500\n",
            "2/2 [==============================] - 0s 4ms/step - loss: 15.8491 - mse: 361.7505\n",
            "Epoch 401/500\n",
            "2/2 [==============================] - 0s 3ms/step - loss: 14.5709 - mse: 280.4821\n",
            "Epoch 402/500\n",
            "2/2 [==============================] - 0s 5ms/step - loss: 24.1632 - mse: 832.0184\n",
            "Epoch 403/500\n",
            "2/2 [==============================] - 0s 2ms/step - loss: 16.6763 - mse: 410.1614\n",
            "Epoch 404/500\n",
            "2/2 [==============================] - 0s 3ms/step - loss: 9.5613 - mse: 181.4515\n",
            "Epoch 405/500\n",
            "2/2 [==============================] - 0s 4ms/step - loss: 6.7571 - mse: 70.8925\n",
            "Epoch 406/500\n",
            "2/2 [==============================] - 0s 4ms/step - loss: 19.9629 - mse: 598.9370\n",
            "Epoch 407/500\n",
            "2/2 [==============================] - 0s 3ms/step - loss: 9.6596 - mse: 230.5974\n",
            "Epoch 408/500\n",
            "2/2 [==============================] - 0s 3ms/step - loss: 21.3106 - mse: 691.4720\n",
            "Epoch 409/500\n",
            "2/2 [==============================] - 0s 5ms/step - loss: 29.6359 - mse: 1349.9296\n",
            "Epoch 410/500\n",
            "2/2 [==============================] - 0s 4ms/step - loss: 9.9546 - mse: 234.6111\n",
            "Epoch 411/500\n",
            "2/2 [==============================] - 0s 3ms/step - loss: 14.7996 - mse: 284.0334\n",
            "Epoch 412/500\n",
            "2/2 [==============================] - 0s 6ms/step - loss: 21.6350 - mse: 716.9097\n",
            "Epoch 413/500\n",
            "2/2 [==============================] - 0s 3ms/step - loss: 12.9450 - mse: 261.5338\n",
            "Epoch 414/500\n",
            "2/2 [==============================] - 0s 3ms/step - loss: 8.3182 - mse: 180.2195\n",
            "Epoch 415/500\n",
            "2/2 [==============================] - 0s 2ms/step - loss: 11.7175 - mse: 239.8714\n",
            "Epoch 416/500\n",
            "2/2 [==============================] - 0s 3ms/step - loss: 25.6851 - mse: 918.3678\n",
            "Epoch 417/500\n",
            "2/2 [==============================] - 0s 4ms/step - loss: 15.5669 - mse: 370.6005\n",
            "Epoch 418/500\n",
            "2/2 [==============================] - 0s 3ms/step - loss: 12.6216 - mse: 232.6529\n",
            "Epoch 419/500\n",
            "2/2 [==============================] - 0s 5ms/step - loss: 15.7396 - mse: 363.2491\n",
            "Epoch 420/500\n",
            "2/2 [==============================] - 0s 3ms/step - loss: 24.4842 - mse: 833.3954\n",
            "Epoch 421/500\n",
            "2/2 [==============================] - 0s 4ms/step - loss: 18.1280 - mse: 479.5514\n",
            "Epoch 422/500\n",
            "2/2 [==============================] - 0s 4ms/step - loss: 8.6189 - mse: 199.6920\n",
            "Epoch 423/500\n",
            "2/2 [==============================] - 0s 4ms/step - loss: 24.6773 - mse: 863.3208\n",
            "Epoch 424/500\n",
            "2/2 [==============================] - 0s 3ms/step - loss: 16.7894 - mse: 435.0901\n",
            "Epoch 425/500\n",
            "2/2 [==============================] - 0s 3ms/step - loss: 7.2553 - mse: 77.1717\n",
            "Epoch 426/500\n",
            "2/2 [==============================] - 0s 3ms/step - loss: 20.9687 - mse: 608.5339\n",
            "Epoch 427/500\n",
            "2/2 [==============================] - 0s 4ms/step - loss: 6.4433 - mse: 82.0268\n",
            "Epoch 428/500\n",
            "2/2 [==============================] - 0s 3ms/step - loss: 13.4530 - mse: 299.2694\n",
            "Epoch 429/500\n",
            "2/2 [==============================] - 0s 6ms/step - loss: 11.4387 - mse: 214.5442\n",
            "Epoch 430/500\n",
            "2/2 [==============================] - 0s 3ms/step - loss: 10.2090 - mse: 215.0025\n",
            "Epoch 431/500\n",
            "2/2 [==============================] - 0s 4ms/step - loss: 11.4827 - mse: 246.1418\n",
            "Epoch 432/500\n",
            "2/2 [==============================] - 0s 4ms/step - loss: 9.9042 - mse: 186.8814\n",
            "Epoch 433/500\n",
            "2/2 [==============================] - 0s 4ms/step - loss: 3.8018 - mse: 18.4718\n",
            "Epoch 434/500\n",
            "2/2 [==============================] - 0s 3ms/step - loss: 28.3298 - mse: 1138.8483\n",
            "Epoch 435/500\n",
            "2/2 [==============================] - 0s 2ms/step - loss: 5.3284 - mse: 37.1488\n",
            "Epoch 436/500\n",
            "2/2 [==============================] - 0s 5ms/step - loss: 41.4202 - mse: 2748.8733\n",
            "Epoch 437/500\n",
            "2/2 [==============================] - 0s 3ms/step - loss: 5.1380 - mse: 52.4030\n",
            "Epoch 438/500\n",
            "2/2 [==============================] - 0s 4ms/step - loss: 13.8613 - mse: 275.6735\n",
            "Epoch 439/500\n",
            "2/2 [==============================] - 0s 4ms/step - loss: 31.8684 - mse: 1413.0453\n",
            "Epoch 440/500\n",
            "2/2 [==============================] - 0s 3ms/step - loss: 12.2336 - mse: 261.8660\n",
            "Epoch 441/500\n",
            "2/2 [==============================] - 0s 4ms/step - loss: 15.6163 - mse: 336.6905\n",
            "Epoch 442/500\n",
            "2/2 [==============================] - 0s 3ms/step - loss: 23.3965 - mse: 814.1927\n",
            "Epoch 443/500\n",
            "2/2 [==============================] - 0s 4ms/step - loss: 20.9557 - mse: 614.9700\n",
            "Epoch 444/500\n",
            "2/2 [==============================] - 0s 3ms/step - loss: 8.6893 - mse: 142.9205\n",
            "Epoch 445/500\n",
            "2/2 [==============================] - 0s 4ms/step - loss: 14.0380 - mse: 275.3870\n",
            "Epoch 446/500\n",
            "2/2 [==============================] - 0s 3ms/step - loss: 16.7231 - mse: 443.5126\n",
            "Epoch 447/500\n",
            "2/2 [==============================] - 0s 3ms/step - loss: 6.7070 - mse: 66.4870\n",
            "Epoch 448/500\n",
            "2/2 [==============================] - 0s 3ms/step - loss: 6.6667 - mse: 131.4253\n",
            "Epoch 449/500\n",
            "2/2 [==============================] - 0s 5ms/step - loss: 15.5653 - mse: 341.4273\n",
            "Epoch 450/500\n",
            "2/2 [==============================] - 0s 3ms/step - loss: 16.5127 - mse: 407.8920\n",
            "Epoch 451/500\n",
            "2/2 [==============================] - 0s 2ms/step - loss: 14.1628 - mse: 292.1269\n",
            "Epoch 452/500\n",
            "2/2 [==============================] - 0s 6ms/step - loss: 30.4184 - mse: 1314.9528\n",
            "Epoch 453/500\n",
            "2/2 [==============================] - 0s 3ms/step - loss: 4.2322 - mse: 30.5648\n",
            "Epoch 454/500\n",
            "2/2 [==============================] - 0s 4ms/step - loss: 26.2815 - mse: 973.8589\n",
            "Epoch 455/500\n",
            "2/2 [==============================] - 0s 4ms/step - loss: 14.0583 - mse: 304.6526\n",
            "Epoch 456/500\n",
            "2/2 [==============================] - 0s 2ms/step - loss: 14.8314 - mse: 296.4786\n",
            "Epoch 457/500\n",
            "2/2 [==============================] - 0s 5ms/step - loss: 18.1030 - mse: 501.7820\n",
            "Epoch 458/500\n",
            "2/2 [==============================] - 0s 3ms/step - loss: 25.5589 - mse: 979.8013\n",
            "Epoch 459/500\n",
            "2/2 [==============================] - 0s 3ms/step - loss: 18.6931 - mse: 490.0432\n",
            "Epoch 460/500\n",
            "2/2 [==============================] - 0s 2ms/step - loss: 5.4550 - mse: 63.7824\n",
            "Epoch 461/500\n",
            "2/2 [==============================] - 0s 4ms/step - loss: 10.2928 - mse: 200.2294\n",
            "Epoch 462/500\n",
            "2/2 [==============================] - 0s 3ms/step - loss: 11.6749 - mse: 284.6542\n",
            "Epoch 463/500\n",
            "2/2 [==============================] - 0s 3ms/step - loss: 27.0108 - mse: 1032.4446\n",
            "Epoch 464/500\n",
            "2/2 [==============================] - 0s 3ms/step - loss: 11.9106 - mse: 235.3585\n",
            "Epoch 465/500\n",
            "2/2 [==============================] - 0s 3ms/step - loss: 7.4424 - mse: 100.8198\n",
            "Epoch 466/500\n",
            "2/2 [==============================] - 0s 5ms/step - loss: 12.6035 - mse: 272.4779\n",
            "Epoch 467/500\n",
            "2/2 [==============================] - 0s 3ms/step - loss: 5.9966 - mse: 65.6318\n",
            "Epoch 468/500\n",
            "2/2 [==============================] - 0s 3ms/step - loss: 14.0662 - mse: 314.0125\n",
            "Epoch 469/500\n",
            "2/2 [==============================] - 0s 5ms/step - loss: 12.7457 - mse: 276.0036\n",
            "Epoch 470/500\n",
            "2/2 [==============================] - 0s 3ms/step - loss: 3.0951 - mse: 12.9816\n",
            "Epoch 471/500\n",
            "2/2 [==============================] - 0s 4ms/step - loss: 16.6886 - mse: 373.6365\n",
            "Epoch 472/500\n",
            "2/2 [==============================] - 0s 5ms/step - loss: 13.3861 - mse: 253.4467\n",
            "Epoch 473/500\n",
            "2/2 [==============================] - 0s 3ms/step - loss: 15.2403 - mse: 396.4172\n",
            "Epoch 474/500\n",
            "2/2 [==============================] - 0s 5ms/step - loss: 11.6984 - mse: 305.0827\n",
            "Epoch 475/500\n",
            "2/2 [==============================] - 0s 3ms/step - loss: 16.3991 - mse: 396.4438\n",
            "Epoch 476/500\n",
            "2/2 [==============================] - 0s 2ms/step - loss: 13.9765 - mse: 275.8007\n",
            "Epoch 477/500\n",
            "2/2 [==============================] - 0s 4ms/step - loss: 30.5588 - mse: 1301.0354\n",
            "Epoch 478/500\n",
            "2/2 [==============================] - 0s 3ms/step - loss: 8.0960 - mse: 173.7044\n",
            "Epoch 479/500\n",
            "2/2 [==============================] - 0s 3ms/step - loss: 11.1526 - mse: 272.6529\n",
            "Epoch 480/500\n",
            "2/2 [==============================] - 0s 4ms/step - loss: 17.8172 - mse: 479.9740\n",
            "Epoch 481/500\n",
            "2/2 [==============================] - 0s 4ms/step - loss: 15.7300 - mse: 363.8316\n",
            "Epoch 482/500\n",
            "2/2 [==============================] - 0s 3ms/step - loss: 21.1793 - mse: 692.4913\n",
            "Epoch 483/500\n",
            "2/2 [==============================] - 0s 4ms/step - loss: 25.6733 - mse: 979.8701\n",
            "Epoch 484/500\n",
            "2/2 [==============================] - 0s 5ms/step - loss: 24.2376 - mse: 830.5005\n",
            "Epoch 485/500\n",
            "2/2 [==============================] - 0s 5ms/step - loss: 5.7122 - mse: 53.1608\n",
            "Epoch 486/500\n",
            "2/2 [==============================] - 0s 3ms/step - loss: 20.3639 - mse: 586.3600\n",
            "Epoch 487/500\n",
            "2/2 [==============================] - 0s 3ms/step - loss: 13.9865 - mse: 282.0795\n",
            "Epoch 488/500\n",
            "2/2 [==============================] - 0s 5ms/step - loss: 30.5277 - mse: 1329.0756\n",
            "Epoch 489/500\n",
            "2/2 [==============================] - 0s 3ms/step - loss: 11.7872 - mse: 238.0659\n",
            "Epoch 490/500\n",
            "2/2 [==============================] - 0s 4ms/step - loss: 12.6464 - mse: 254.1886\n",
            "Epoch 491/500\n",
            "2/2 [==============================] - 0s 4ms/step - loss: 23.4609 - mse: 829.1305\n",
            "Epoch 492/500\n",
            "2/2 [==============================] - 0s 5ms/step - loss: 20.9193 - mse: 613.5007\n",
            "Epoch 493/500\n",
            "2/2 [==============================] - 0s 5ms/step - loss: 4.9662 - mse: 46.6728\n",
            "Epoch 494/500\n",
            "2/2 [==============================] - 0s 6ms/step - loss: 13.2122 - mse: 263.0996\n",
            "Epoch 495/500\n",
            "2/2 [==============================] - 0s 4ms/step - loss: 13.4813 - mse: 243.2272\n",
            "Epoch 496/500\n",
            "2/2 [==============================] - 0s 3ms/step - loss: 12.7447 - mse: 241.4763\n",
            "Epoch 497/500\n",
            "2/2 [==============================] - 0s 7ms/step - loss: 17.7393 - mse: 521.7814\n",
            "Epoch 498/500\n",
            "2/2 [==============================] - 0s 4ms/step - loss: 23.2412 - mse: 791.5867\n",
            "Epoch 499/500\n",
            "2/2 [==============================] - 0s 2ms/step - loss: 9.1126 - mse: 129.8378\n",
            "Epoch 500/500\n",
            "2/2 [==============================] - 0s 5ms/step - loss: 14.6268 - mse: 297.8098\n"
          ]
        },
        {
          "data": {
            "text/plain": [
              "<keras.callbacks.History at 0x1ba5e1e4430>"
            ]
          },
          "execution_count": 60,
          "metadata": {},
          "output_type": "execute_result"
        }
      ],
      "source": [
        "# Third Model\n",
        "tf.random.set_seed(42)\n",
        "model_3 = tf.keras.Sequential([\n",
        "    tf.keras.layers.Dense(10,input_shape=[1]),\n",
        "    tf.keras.layers.Dense(1)\n",
        "\n",
        "])\n",
        "model_3.compile(loss=tf.keras.losses.mae,\n",
        "                optimizer=tf.keras.optimizers.SGD(),\n",
        "                metrics=[\"mse\"])\n",
        "model_3.fit(X_train, Y_train, epochs=500)"
      ]
    },
    {
      "cell_type": "code",
      "execution_count": 61,
      "metadata": {
        "colab": {
          "base_uri": "https://localhost:8080/"
        },
        "id": "Es_PwT6iT5gF",
        "outputId": "157afb10-bdcf-4a66-dfe3-fd290d18bc34"
      },
      "outputs": [
        {
          "name": "stdout",
          "output_type": "stream",
          "text": [
            "1/1 [==============================] - 0s 79ms/step\n"
          ]
        },
        {
          "data": {
            "text/plain": [
              "array([[15.923586],\n",
              "       [16.683338],\n",
              "       [17.443089],\n",
              "       [18.202839],\n",
              "       [18.962587],\n",
              "       [19.722338],\n",
              "       [20.482088],\n",
              "       [21.241838],\n",
              "       [22.001589],\n",
              "       [22.76134 ]], dtype=float32)"
            ]
          },
          "execution_count": 61,
          "metadata": {},
          "output_type": "execute_result"
        }
      ],
      "source": [
        "y_pred_3 = model_3.predict(X_test)\n",
        "y_pred_3"
      ]
    },
    {
      "cell_type": "code",
      "execution_count": 62,
      "metadata": {
        "colab": {
          "base_uri": "https://localhost:8080/",
          "height": 428
        },
        "id": "Db3FC3QiUD0-",
        "outputId": "03513bc3-734f-4772-ef8a-1c60c17f3825"
      },
      "outputs": [
        {
          "data": {
            "image/png": "[encoded data removed]",
            "text/plain": [
              "<Figure size 720x504 with 1 Axes>"
            ]
          },
          "metadata": {
            "needs_background": "light"
          },
          "output_type": "display_data"
        }
      ],
      "source": [
        "\n",
        "# Plot\n",
        "plot_pred(predictions=y_pred_3)"
      ]
    },
    {
      "cell_type": "code",
      "execution_count": 63,
      "metadata": {
        "colab": {
          "base_uri": "https://localhost:8080/"
        },
        "id": "GnjsbDl4UJUb",
        "outputId": "44a9aff2-f744-480c-baab-7ba12b495681"
      },
      "outputs": [
        {
          "data": {
            "text/plain": [
              "(<tf.Tensor: shape=(), dtype=float32, numpy=68.65754>,\n",
              " <tf.Tensor: shape=(), dtype=float32, numpy=4800.476>)"
            ]
          },
          "execution_count": 63,
          "metadata": {},
          "output_type": "execute_result"
        }
      ],
      "source": [
        "mae_3 = mae(X_test,y_pred_3)\n",
        "mse_3 = mse(X_test, y_pred_3)\n",
        "mae_3, mse_3"
      ]
    },
    {
      "cell_type": "markdown",
      "metadata": {
        "id": "lGzVr8k6hVa-"
      },
      "source": [
        "**Note**\n",
        "+ You want to start with small experiment, then scale if necessary.\n",
        "\n"
      ]
    },
    {
      "cell_type": "markdown",
      "metadata": {
        "id": "u0VysSWSURNx"
      },
      "source": [
        "### Comparing and tracking the result of experiment"
      ]
    },
    {
      "cell_type": "code",
      "execution_count": 64,
      "metadata": {
        "colab": {
          "base_uri": "https://localhost:8080/",
          "height": 143
        },
        "id": "vxcMJWsYhISu",
        "outputId": "9e8f283d-98e3-477b-cf92-8bd4adcd300c"
      },
      "outputs": [
        {
          "data": {
            "text/html": [
              "<div>\n",
              "<style scoped>\n",
              "    .dataframe tbody tr th:only-of-type {\n",
              "        vertical-align: middle;\n",
              "    }\n",
              "\n",
              "    .dataframe tbody tr th {\n",
              "        vertical-align: top;\n",
              "    }\n",
              "\n",
              "    .dataframe thead th {\n",
              "        text-align: right;\n",
              "    }\n",
              "</style>\n",
              "<table border=\"1\" class=\"dataframe\">\n",
              "  <thead>\n",
              "    <tr style=\"text-align: right;\">\n",
              "      <th></th>\n",
              "      <th>Model</th>\n",
              "      <th>MAE</th>\n",
              "      <th>MSE</th>\n",
              "    </tr>\n",
              "  </thead>\n",
              "  <tbody>\n",
              "    <tr>\n",
              "      <th>0</th>\n",
              "      <td>model_1</td>\n",
              "      <td>21.353003</td>\n",
              "      <td>459.414642</td>\n",
              "    </tr>\n",
              "    <tr>\n",
              "      <th>1</th>\n",
              "      <td>model_2</td>\n",
              "      <td>30.015457</td>\n",
              "      <td>932.497192</td>\n",
              "    </tr>\n",
              "    <tr>\n",
              "      <th>2</th>\n",
              "      <td>model_3</td>\n",
              "      <td>68.657539</td>\n",
              "      <td>4800.476074</td>\n",
              "    </tr>\n",
              "  </tbody>\n",
              "</table>\n",
              "</div>"
            ],
            "text/plain": [
              "     Model        MAE          MSE\n",
              "0  model_1  21.353003   459.414642\n",
              "1  model_2  30.015457   932.497192\n",
              "2  model_3  68.657539  4800.476074"
            ]
          },
          "execution_count": 64,
          "metadata": {},
          "output_type": "execute_result"
        }
      ],
      "source": [
        "### Let's compare model with pandas\n",
        "import pandas as pd\n",
        "\n",
        "model_result = [\n",
        "    [\"model_1\",mae_1.numpy(),mse_1.numpy()],\n",
        "    [\"model_2\",mae_2.numpy(),mse_2.numpy()],\n",
        "    [\"model_3\",mae_3.numpy(),mse_3.numpy()]\n",
        "]\n",
        "\n",
        "all_result = pd.DataFrame(model_result, columns=['Model',\"MAE\",\"MSE\"])\n",
        "all_result"
      ]
    },
    {
      "cell_type": "code",
      "execution_count": 65,
      "metadata": {
        "colab": {
          "base_uri": "https://localhost:8080/"
        },
        "id": "uM_xc6oZhctp",
        "outputId": "603dfb73-6982-4f2f-fc4e-01d6a5a295d1"
      },
      "outputs": [
        {
          "name": "stdout",
          "output_type": "stream",
          "text": [
            "Model: \"sequential_7\"\n",
            "_________________________________________________________________\n",
            " Layer (type)                Output Shape              Param #   \n",
            "=================================================================\n",
            " dense_8 (Dense)             (None, 10)                20        \n",
            "                                                                 \n",
            " dense_9 (Dense)             (None, 1)                 11        \n",
            "                                                                 \n",
            "=================================================================\n",
            "Total params: 31\n",
            "Trainable params: 31\n",
            "Non-trainable params: 0\n",
            "_________________________________________________________________\n"
          ]
        }
      ],
      "source": [
        "model_2.summary()"
      ]
    },
    {
      "cell_type": "markdown",
      "metadata": {
        "id": "cV69AFGBkbU8"
      },
      "source": [
        "> One of the main goal should be to minimize the time needed to model a experiment."
      ]
    },
    {
      "cell_type": "markdown",
      "metadata": {
        "id": "kompr3xgkmVQ"
      },
      "source": [
        "### Tracking your experiment : \n",
        "\n",
        "+ One really good habit is to track result of your experiment\n",
        "+ Doing so can be tidious if you are running lots of experments\n",
        "+ Lickily, there are tools to help us \n",
        "+ One of the most famous is `TensorBoard` to help modelling experiment\n",
        "+ `Weights and Biases` - tool used for tracking all kinds of machine learning model."
      ]
    },
    {
      "cell_type": "markdown",
      "metadata": {
        "id": "a0gvUFt1lMTU"
      },
      "source": [
        "### Save a model \n",
        "\n",
        "+ Saving our model helps us to use our model outside the application(like web or app)\n",
        "\n",
        "+ There are two main methods we can save our models to.\n",
        "+ The SavedModel format\n",
        "+ HDF5 model."
      ]
    },
    {
      "cell_type": "code",
      "execution_count": 66,
      "metadata": {
        "id": "CMvKDo6Ploli"
      },
      "outputs": [
        {
          "name": "stdout",
          "output_type": "stream",
          "text": [
            "INFO:tensorflow:Assets written to: best_model_SavedModel_format\\assets\n"
          ]
        }
      ],
      "source": [
        "model_2.save(\"best_model_SavedModel_format\")"
      ]
    },
    {
      "cell_type": "code",
      "execution_count": 67,
      "metadata": {
        "id": "ZILVuDHvmxDK"
      },
      "outputs": [],
      "source": [
        "# Save model  using HDF5 format\n",
        "model_2.save(\"best_model_HDF5_Format.h5\")"
      ]
    },
    {
      "cell_type": "markdown",
      "metadata": {
        "id": "mgq4s0Ngs5af"
      },
      "source": [
        "### Load a saved model"
      ]
    },
    {
      "cell_type": "code",
      "execution_count": 68,
      "metadata": {
        "colab": {
          "base_uri": "https://localhost:8080/"
        },
        "id": "qtCnjmTLtMLC",
        "outputId": "1328dec4-79e9-4ecc-ae81-680e1a1f5149"
      },
      "outputs": [
        {
          "name": "stdout",
          "output_type": "stream",
          "text": [
            "Model: \"sequential_7\"\n",
            "_________________________________________________________________\n",
            " Layer (type)                Output Shape              Param #   \n",
            "=================================================================\n",
            " dense_8 (Dense)             (None, 10)                20        \n",
            "                                                                 \n",
            " dense_9 (Dense)             (None, 1)                 11        \n",
            "                                                                 \n",
            "=================================================================\n",
            "Total params: 31\n",
            "Trainable params: 31\n",
            "Non-trainable params: 0\n",
            "_________________________________________________________________\n"
          ]
        }
      ],
      "source": [
        "new_model = tf.keras.models.load_model(\"best_model_SavedModel_format\")\n",
        "new_model.summary()"
      ]
    },
    {
      "cell_type": "code",
      "execution_count": 69,
      "metadata": {
        "colab": {
          "base_uri": "https://localhost:8080/"
        },
        "id": "8zcX2DWRtaLt",
        "outputId": "9b416ba8-6c92-423c-a145-3d3bc0284924"
      },
      "outputs": [
        {
          "name": "stdout",
          "output_type": "stream",
          "text": [
            "1/1 [==============================] - 0s 72ms/step\n",
            "1/1 [==============================] - 0s 69ms/step\n"
          ]
        }
      ],
      "source": [
        "model_2_pred = model_2.predict(X_test)\n",
        "loaded_model = new_model.predict(X_test)"
      ]
    },
    {
      "cell_type": "code",
      "execution_count": 70,
      "metadata": {
        "colab": {
          "base_uri": "https://localhost:8080/"
        },
        "id": "_cc860PMuAu5",
        "outputId": "ce1c6d54-f721-457e-8912-879ccb75600d"
      },
      "outputs": [
        {
          "data": {
            "text/plain": [
              "array([[ True],\n",
              "       [ True],\n",
              "       [ True],\n",
              "       [ True],\n",
              "       [ True],\n",
              "       [ True],\n",
              "       [ True],\n",
              "       [ True],\n",
              "       [ True],\n",
              "       [ True]])"
            ]
          },
          "execution_count": 70,
          "metadata": {},
          "output_type": "execute_result"
        }
      ],
      "source": [
        "model_2_pred == loaded_model"
      ]
    },
    {
      "cell_type": "code",
      "execution_count": 71,
      "metadata": {
        "colab": {
          "base_uri": "https://localhost:8080/"
        },
        "id": "38JPO3wOuFZ9",
        "outputId": "9a67d549-4c80-45a3-9655-2d07b5562de1"
      },
      "outputs": [
        {
          "data": {
            "text/plain": [
              "<tf.Tensor: shape=(), dtype=bool, numpy=True>"
            ]
          },
          "execution_count": 71,
          "metadata": {},
          "output_type": "execute_result"
        }
      ],
      "source": [
        "mae(y_true=Y_test,y_pred=model_2_pred) == mae(y_true=Y_test,y_pred=loaded_model) "
      ]
    },
    {
      "cell_type": "code",
      "execution_count": 72,
      "metadata": {
        "id": "2wUPqX8QuUo5"
      },
      "outputs": [],
      "source": [
        "# Load model of H5 format\n",
        "\n",
        "h5_model = tf.keras.models.load_model(\"best_model_HDF5_Format.h5\")\n"
      ]
    },
    {
      "cell_type": "code",
      "execution_count": 73,
      "metadata": {
        "colab": {
          "base_uri": "https://localhost:8080/"
        },
        "id": "ogg11LcFu1sH",
        "outputId": "f7a9a982-f7b6-499f-e89c-755717a206e4"
      },
      "outputs": [
        {
          "name": "stdout",
          "output_type": "stream",
          "text": [
            "1/1 [==============================] - 0s 64ms/step\n",
            "1/1 [==============================] - 0s 67ms/step\n"
          ]
        },
        {
          "data": {
            "text/plain": [
              "array([[ True],\n",
              "       [ True],\n",
              "       [ True],\n",
              "       [ True],\n",
              "       [ True],\n",
              "       [ True],\n",
              "       [ True],\n",
              "       [ True],\n",
              "       [ True],\n",
              "       [ True]])"
            ]
          },
          "execution_count": 73,
          "metadata": {},
          "output_type": "execute_result"
        }
      ],
      "source": [
        "model_2_pred = model_2.predict(X_test)\n",
        "h5_model_pred = new_model.predict(X_test)\n",
        "\n",
        "model_2_pred == h5_model_pred"
      ]
    },
    {
      "cell_type": "markdown",
      "metadata": {
        "id": "IFpAx6f79bCn"
      },
      "source": [
        "### A large example : On more feature rich dataset"
      ]
    },
    {
      "cell_type": "code",
      "execution_count": null,
      "metadata": {
        "id": "LjPn0Qe597Nb"
      },
      "outputs": [],
      "source": []
    }
  ],
  "metadata": {
    "colab": {
      "collapsed_sections": [],
      "provenance": []
    },
    "kernelspec": {
      "display_name": "Python 3.10.4 64-bit",
      "language": "python",
      "name": "python3"
    },
    "language_info": {
      "codemirror_mode": {
        "name": "ipython",
        "version": 3
      },
      "file_extension": ".py",
      "mimetype": "text/x-python",
      "name": "python",
      "nbconvert_exporter": "python",
      "pygments_lexer": "ipython3",
      "version": "3.10.4"
    },
    "vscode": {
      "interpreter": {
        "hash": "49925a85a85dac8a2dca5afbebde9d93135fdd4b812dbf89ef8044a5eedbb9bf"
      }
    }
  },
  "nbformat": 4,
  "nbformat_minor": 0
}
