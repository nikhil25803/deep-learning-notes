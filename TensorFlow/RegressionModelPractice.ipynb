{
 "cells": [
  {
   "cell_type": "code",
   "execution_count": null,
   "metadata": {},
   "outputs": [],
   "source": [
    "# Imports\n",
    "import pandas as pd\n",
    "import numpy as np\n",
    "import matplotlib.pyplot as plt\n",
    "import tensorflow as tf"
   ]
  },
  {
   "cell_type": "code",
   "execution_count": null,
   "metadata": {},
   "outputs": [],
   "source": [
    "# Initialise an array of some random integers between 1 and 100\n",
    "np.random.seed(42)\n",
    "array1 = np.random.randint(1,100,80)\n",
    "array1"
   ]
  },
  {
   "cell_type": "code",
   "execution_count": null,
   "metadata": {},
   "outputs": [],
   "source": [
    "array2 = array1*2 +3\n",
    "array2"
   ]
  },
  {
   "cell_type": "code",
   "execution_count": null,
   "metadata": {},
   "outputs": [],
   "source": [
    "plt.scatter(x=array1,y=array2, c='r')"
   ]
  },
  {
   "cell_type": "code",
   "execution_count": null,
   "metadata": {},
   "outputs": [],
   "source": [
    "X,y=array1,array2"
   ]
  },
  {
   "cell_type": "code",
   "execution_count": null,
   "metadata": {},
   "outputs": [],
   "source": [
    "# Shapes\n",
    "input_shapes = X.shape\n",
    "output_shape=y.shape\n",
    "input_shapes,output_shape"
   ]
  },
  {
   "cell_type": "markdown",
   "metadata": {},
   "source": [
    "### Convert into tensors"
   ]
  },
  {
   "cell_type": "code",
   "execution_count": null,
   "metadata": {},
   "outputs": [],
   "source": [
    "X=tf.constant(array1)\n",
    "y=tf.constant(array2)"
   ]
  },
  {
   "cell_type": "code",
   "execution_count": null,
   "metadata": {},
   "outputs": [],
   "source": [
    "X.ndim,y.ndim"
   ]
  },
  {
   "cell_type": "markdown",
   "metadata": {},
   "source": [
    "### Model 1"
   ]
  },
  {
   "cell_type": "code",
   "execution_count": null,
   "metadata": {},
   "outputs": [],
   "source": [
    "tf.random.set_seed(42)\n",
    "\n",
    "model_1 = tf.keras.Sequential([\n",
    "    tf.keras.layers.Dense(1, input_shape=(1,)),\n",
    "])\n",
    "\n",
    "model_1.compile(\n",
    "    loss=tf.keras.losses.mae,\n",
    "    optimizer=tf.keras.optimizers.SGD(),\n",
    "    metrics=[\"mae\"]\n",
    ")\n",
    "\n",
    "history_1 = model_1.fit(X,y, epochs=100)"
   ]
  },
  {
   "cell_type": "code",
   "execution_count": null,
   "metadata": {},
   "outputs": [],
   "source": [
    "y_pred = model_1.predict([10])\n",
    "y_pred, 2*10+3"
   ]
  },
  {
   "cell_type": "markdown",
   "metadata": {},
   "source": [
    "### To evaluate a model, we can use some metrices, like\n",
    "+ 3 Set rule : Dividing the dataset into test, train and validate (for now we can only have train and test)\n",
    "+ Visualise through a scattrer plot, how much your predictions are away from the actual value\n",
    "+ We need 3 plots, x_train vs y_train, x_test vs y_test and x_test vs y_pred\n",
    "+ MAE(mean absolute error) and MSE(mean square error) - `tf.metrices.mean_absolute_error` and `tf.metrices.mean_square_error`"
   ]
  },
  {
   "cell_type": "code",
   "execution_count": null,
   "metadata": {},
   "outputs": [],
   "source": [
    "# Split data into test and train\n",
    "x_train = X[:65]\n",
    "y_train = y[:65]\n",
    "x_test = X[65:]\n",
    "y_test = y[65:]"
   ]
  },
  {
   "cell_type": "code",
   "execution_count": null,
   "metadata": {},
   "outputs": [],
   "source": [
    "# Defininf a function to plot graph\n",
    "\n",
    "def plot_predict(train_label_x, train_label_y, test_label_x, test_label_y,predictions):\n",
    "    plt.figure(figsize=(12,6))\n",
    "    plt.title(\"Prediction Plot\")\n",
    "    plt.scatter(train_label_x,train_label_y,c='g',label=\"Test Data\")\n",
    "    plt.scatter(test_label_x,test_label_y,c=\"b\", label=\"Train Data\")\n",
    "    plt.scatter(x_test, predictions,c=\"r\", label=\"Predicted Data\")\n",
    "    plt.show()\n",
    "\n",
    "def get_mae(test_label_x, predictions):\n",
    "    return tf.metrics.mean_absolute_error(test_label_x, tf.squeeze(predictions))\n",
    "\n",
    "def get_mse(test_label_x, predictions):\n",
    "    return tf.metrics.mean_squared_error(test_label_x, tf.squeeze(predictions))"
   ]
  },
  {
   "cell_type": "markdown",
   "metadata": {},
   "source": [
    "### Train a model on trainin data"
   ]
  },
  {
   "cell_type": "code",
   "execution_count": null,
   "metadata": {},
   "outputs": [],
   "source": [
    "tf.random.set_seed(42)\n",
    "\n",
    "model_2 = tf.keras.Sequential([\n",
    "    tf.keras.layers.Dense(1, input_shape=(1,))\n",
    "])\n",
    "\n",
    "model_2.compile(\n",
    "    loss=tf.keras.losses.mae,\n",
    "    optimizer=tf.keras.optimizers.SGD(),\n",
    "    metrics=['mae']\n",
    ")\n",
    "\n",
    "history_2 = model_2.fit(x_train, y_train, epochs=100, verbose=0)\n",
    "history_2"
   ]
  },
  {
   "cell_type": "code",
   "execution_count": null,
   "metadata": {},
   "outputs": [],
   "source": [
    "y_pred = model_2.predict(x_test)\n",
    "y_pred,x_test"
   ]
  },
  {
   "cell_type": "code",
   "execution_count": null,
   "metadata": {},
   "outputs": [],
   "source": [
    "get_mae(x_test,y_pred), get_mse(x_test,y_pred)"
   ]
  },
  {
   "cell_type": "code",
   "execution_count": null,
   "metadata": {},
   "outputs": [],
   "source": [
    "plot_predict(x_train,y_train,x_test,y_test,y_pred)"
   ]
  },
  {
   "cell_type": "code",
   "execution_count": 322,
   "metadata": {},
   "outputs": [
    {
     "name": "stdout",
     "output_type": "stream",
     "text": [
      "Epoch 1/50\n",
      "3/3 [==============================] - 0s 3ms/step - loss: 119.3614 - mae: 119.3614\n",
      "Epoch 2/50\n",
      "3/3 [==============================] - 0s 5ms/step - loss: 61.8773 - mae: 61.8773\n",
      "Epoch 3/50\n",
      "3/3 [==============================] - 0s 4ms/step - loss: 8.0981 - mae: 8.0981\n",
      "Epoch 4/50\n",
      "3/3 [==============================] - 0s 4ms/step - loss: 12.5633 - mae: 12.5633\n",
      "Epoch 5/50\n",
      "3/3 [==============================] - 0s 4ms/step - loss: 14.1324 - mae: 14.1324\n",
      "Epoch 6/50\n",
      "3/3 [==============================] - 0s 4ms/step - loss: 12.8794 - mae: 12.8794\n",
      "Epoch 7/50\n",
      "3/3 [==============================] - 0s 4ms/step - loss: 12.1169 - mae: 12.1169\n",
      "Epoch 8/50\n",
      "3/3 [==============================] - 0s 4ms/step - loss: 13.5549 - mae: 13.5549\n",
      "Epoch 9/50\n",
      "3/3 [==============================] - 0s 4ms/step - loss: 13.3567 - mae: 13.3567\n",
      "Epoch 10/50\n",
      "3/3 [==============================] - 0s 3ms/step - loss: 12.5261 - mae: 12.5261\n",
      "Epoch 11/50\n",
      "3/3 [==============================] - 0s 2ms/step - loss: 13.5583 - mae: 13.5583\n",
      "Epoch 12/50\n",
      "3/3 [==============================] - 0s 3ms/step - loss: 14.8011 - mae: 14.8011\n",
      "Epoch 13/50\n",
      "3/3 [==============================] - 0s 3ms/step - loss: 15.6954 - mae: 15.6954\n",
      "Epoch 14/50\n",
      "3/3 [==============================] - 0s 4ms/step - loss: 12.3575 - mae: 12.3575\n",
      "Epoch 15/50\n",
      "3/3 [==============================] - 0s 3ms/step - loss: 33.6003 - mae: 33.6003\n",
      "Epoch 16/50\n",
      "3/3 [==============================] - 0s 3ms/step - loss: 11.4865 - mae: 11.4865\n",
      "Epoch 17/50\n",
      "3/3 [==============================] - 0s 3ms/step - loss: 13.0225 - mae: 13.0225\n",
      "Epoch 18/50\n",
      "3/3 [==============================] - 0s 5ms/step - loss: 13.1322 - mae: 13.1322\n",
      "Epoch 19/50\n",
      "3/3 [==============================] - 0s 3ms/step - loss: 12.9645 - mae: 12.9645\n",
      "Epoch 20/50\n",
      "3/3 [==============================] - 0s 5ms/step - loss: 12.2509 - mae: 12.2509\n",
      "Epoch 21/50\n",
      "3/3 [==============================] - 0s 3ms/step - loss: 13.3706 - mae: 13.3706\n",
      "Epoch 22/50\n",
      "3/3 [==============================] - 0s 2ms/step - loss: 13.6425 - mae: 13.6425\n",
      "Epoch 23/50\n",
      "3/3 [==============================] - 0s 4ms/step - loss: 16.4765 - mae: 16.4765\n",
      "Epoch 24/50\n",
      "3/3 [==============================] - 0s 3ms/step - loss: 8.6751 - mae: 8.6751\n",
      "Epoch 25/50\n",
      "3/3 [==============================] - 0s 3ms/step - loss: 18.9944 - mae: 18.9944\n",
      "Epoch 26/50\n",
      "3/3 [==============================] - 0s 4ms/step - loss: 13.2913 - mae: 13.2913\n",
      "Epoch 27/50\n",
      "3/3 [==============================] - 0s 3ms/step - loss: 12.3016 - mae: 12.3016\n",
      "Epoch 28/50\n",
      "3/3 [==============================] - 0s 4ms/step - loss: 12.2198 - mae: 12.2198\n",
      "Epoch 29/50\n",
      "3/3 [==============================] - 0s 2ms/step - loss: 21.5967 - mae: 21.5967\n",
      "Epoch 30/50\n",
      "3/3 [==============================] - 0s 3ms/step - loss: 12.6345 - mae: 12.6345\n",
      "Epoch 31/50\n",
      "3/3 [==============================] - 0s 3ms/step - loss: 18.9598 - mae: 18.9598\n",
      "Epoch 32/50\n",
      "3/3 [==============================] - 0s 2ms/step - loss: 12.4437 - mae: 12.4437\n",
      "Epoch 33/50\n",
      "3/3 [==============================] - 0s 4ms/step - loss: 16.2719 - mae: 16.2719\n",
      "Epoch 34/50\n",
      "3/3 [==============================] - 0s 3ms/step - loss: 11.7684 - mae: 11.7684\n",
      "Epoch 35/50\n",
      "3/3 [==============================] - 0s 2ms/step - loss: 10.6522 - mae: 10.6522\n",
      "Epoch 36/50\n",
      "3/3 [==============================] - 0s 3ms/step - loss: 13.0813 - mae: 13.0813\n",
      "Epoch 37/50\n",
      "3/3 [==============================] - 0s 3ms/step - loss: 15.7702 - mae: 15.7702\n",
      "Epoch 38/50\n",
      "3/3 [==============================] - 0s 3ms/step - loss: 14.0967 - mae: 14.0967\n",
      "Epoch 39/50\n",
      "3/3 [==============================] - 0s 3ms/step - loss: 13.3639 - mae: 13.3639\n",
      "Epoch 40/50\n",
      "3/3 [==============================] - 0s 2ms/step - loss: 12.3444 - mae: 12.3444\n",
      "Epoch 41/50\n",
      "3/3 [==============================] - 0s 4ms/step - loss: 12.1360 - mae: 12.1360\n",
      "Epoch 42/50\n",
      "3/3 [==============================] - 0s 3ms/step - loss: 20.3739 - mae: 20.3739\n",
      "Epoch 43/50\n",
      "3/3 [==============================] - 0s 3ms/step - loss: 13.0194 - mae: 13.0194\n",
      "Epoch 44/50\n",
      "3/3 [==============================] - 0s 4ms/step - loss: 12.3748 - mae: 12.3748\n",
      "Epoch 45/50\n",
      "3/3 [==============================] - 0s 3ms/step - loss: 13.5242 - mae: 13.5242\n",
      "Epoch 46/50\n",
      "3/3 [==============================] - 0s 3ms/step - loss: 11.9569 - mae: 11.9569\n",
      "Epoch 47/50\n",
      "3/3 [==============================] - 0s 2ms/step - loss: 21.0850 - mae: 21.0850\n",
      "Epoch 48/50\n",
      "3/3 [==============================] - 0s 2ms/step - loss: 10.9906 - mae: 10.9906\n",
      "Epoch 49/50\n",
      "3/3 [==============================] - 0s 2ms/step - loss: 12.0687 - mae: 12.0687\n",
      "Epoch 50/50\n",
      "3/3 [==============================] - 0s 2ms/step - loss: 15.5181 - mae: 15.5181\n"
     ]
    }
   ],
   "source": [
    "tf.random.set_seed(42)\n",
    "\n",
    "model_3 = tf.keras.Sequential([\n",
    "\n",
    "    tf.keras.layers.Dense(1, input_shape=(1,))\n",
    "])\n",
    "\n",
    "model_3.compile(\n",
    "    loss=tf.keras.losses.mae,\n",
    "    optimizer=tf.keras.optimizers.SGD(),\n",
    "    metrics=['mae']\n",
    ")\n",
    "\n",
    "history_3 = model_3.fit(x_train, y_train, epochs=50)"
   ]
  },
  {
   "cell_type": "code",
   "execution_count": 323,
   "metadata": {},
   "outputs": [
    {
     "data": {
      "text/plain": [
       "<AxesSubplot:>"
      ]
     },
     "execution_count": 323,
     "metadata": {},
     "output_type": "execute_result"
    },
    {
     "data": {
      "image/png": "[encoded data removed]",
      "text/plain": [
       "<Figure size 432x288 with 1 Axes>"
      ]
     },
     "metadata": {
      "needs_background": "light"
     },
     "output_type": "display_data"
    }
   ],
   "source": [
    "pd.DataFrame(history_3.history).plot()"
   ]
  },
  {
   "cell_type": "code",
   "execution_count": 324,
   "metadata": {},
   "outputs": [
    {
     "name": "stdout",
     "output_type": "stream",
     "text": [
      "1/1 [==============================] - 0s 43ms/step\n"
     ]
    },
    {
     "data": {
      "text/plain": [
       "((15, 1), TensorShape([15]))"
      ]
     },
     "execution_count": 324,
     "metadata": {},
     "output_type": "execute_result"
    }
   ],
   "source": [
    "\n",
    "y_pred= model_3.predict(x_test)\n",
    "y_pred.shape,x_test.shape\n"
   ]
  },
  {
   "cell_type": "code",
   "execution_count": 325,
   "metadata": {},
   "outputs": [
    {
     "data": {
      "image/png": "[encoded data removed]",
      "text/plain": [
       "<Figure size 864x432 with 1 Axes>"
      ]
     },
     "metadata": {
      "needs_background": "light"
     },
     "output_type": "display_data"
    }
   ],
   "source": [
    "plot_predict(x_train,y_train,x_test,y_test,tf.squeeze(y_pred))"
   ]
  },
  {
   "cell_type": "code",
   "execution_count": 326,
   "metadata": {},
   "outputs": [
    {
     "data": {
      "text/plain": [
       "(<tf.Tensor: shape=(), dtype=float32, numpy=56.932144>,\n",
       " <tf.Tensor: shape=(), dtype=float32, numpy=4844.9863>)"
      ]
     },
     "execution_count": 326,
     "metadata": {},
     "output_type": "execute_result"
    }
   ],
   "source": [
    "get_mae(x_test, y_pred), get_mse(x_test, y_pred)"
   ]
  },
  {
   "cell_type": "code",
   "execution_count": null,
   "metadata": {},
   "outputs": [],
   "source": []
  }
 ],
 "metadata": {
  "kernelspec": {
   "display_name": "Python 3.10.4 64-bit",
   "language": "python",
   "name": "python3"
  },
  "language_info": {
   "codemirror_mode": {
    "name": "ipython",
    "version": 3
   },
   "file_extension": ".py",
   "mimetype": "text/x-python",
   "name": "python",
   "nbconvert_exporter": "python",
   "pygments_lexer": "ipython3",
   "version": "3.10.4"
  },
  "orig_nbformat": 4,
  "vscode": {
   "interpreter": {
    "hash": "49925a85a85dac8a2dca5afbebde9d93135fdd4b812dbf89ef8044a5eedbb9bf"
   }
  }
 },
 "nbformat": 4,
 "nbformat_minor": 2
}
